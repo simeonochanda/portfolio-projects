{
 "cells": [
  {
   "cell_type": "markdown",
   "metadata": {},
   "source": [
    "NLP Project\n",
    "Building sentiment classification with streamlit.\n",
    "\n",
    "#Applications of NLP\n",
    "Text classification\n",
    "spam filters\n",
    "voice text messaging\n",
    "sentiment analysis\n",
    "Speel or grammatical check\n",
    "machine translation\n",
    "\n",
    "DATA CLEANING OPTIONS\n",
    "Case Normalization\n",
    "Removing stop words\n",
    "Removing Punctuations or special symbols\n",
    "Lemmatization or stemming\n",
    "TF-IDF\n",
    "\n",
    "WORD EMBEDDINGS\n",
    "Bag of Words - The simplest word embedding technique\n",
    "this is one of the methods of embedding words into numerical vectors.\n",
    "\n",
    "Bag of words - TF-IDF\n",
    "tf-idf is a measure of originality of a word by comparing the number of the times a word appear in a document with the number of documents the word appears in.\n",
    "TF-IDF = TF(t, d) x IDF(t)\n",
    "where term frequency is the number of times term t appears in a document, d.\n",
    "for inverse document frequency is the number of times\n"
   ]
  },
  {
   "cell_type": "markdown",
   "metadata": {},
   "source": [
    "#package install\n"
   ]
  },
  {
   "cell_type": "code",
   "execution_count": 2,
   "metadata": {},
   "outputs": [
    {
     "data": {
      "text/html": [
       "<div>\n",
       "<style scoped>\n",
       "    .dataframe tbody tr th:only-of-type {\n",
       "        vertical-align: middle;\n",
       "    }\n",
       "\n",
       "    .dataframe tbody tr th {\n",
       "        vertical-align: top;\n",
       "    }\n",
       "\n",
       "    .dataframe thead th {\n",
       "        text-align: right;\n",
       "    }\n",
       "</style>\n",
       "<table border=\"1\" class=\"dataframe\">\n",
       "  <thead>\n",
       "    <tr style=\"text-align: right;\">\n",
       "      <th></th>\n",
       "      <th>Agha Khan Comments</th>\n",
       "      <th>Agha Khan Ratings</th>\n",
       "      <th>Agha Khan Sentiment</th>\n",
       "      <th>Coptic Comments</th>\n",
       "      <th>Coptic Ratings</th>\n",
       "      <th>Coptic sentiment</th>\n",
       "      <th>Kenyatta Comments</th>\n",
       "      <th>Kenyatta Rating</th>\n",
       "      <th>Kenyatta sentiment</th>\n",
       "      <th>Kenyatta University Comments</th>\n",
       "      <th>...</th>\n",
       "      <th>Nairobi West Comments</th>\n",
       "      <th>Nairobi West Ratings</th>\n",
       "      <th>Nairobi West sentiment</th>\n",
       "      <th>Pumwani Comments</th>\n",
       "      <th>Pumwani Ratings</th>\n",
       "      <th>Pumwani sentiment</th>\n",
       "      <th>Unnamed: 30</th>\n",
       "      <th>REVIEW</th>\n",
       "      <th>SENTIMENT</th>\n",
       "      <th>RATING</th>\n",
       "    </tr>\n",
       "  </thead>\n",
       "  <tbody>\n",
       "    <tr>\n",
       "      <th>0</th>\n",
       "      <td>I got the best services. The environment is al...</td>\n",
       "      <td>5.0</td>\n",
       "      <td>positive</td>\n",
       "      <td>Great Nursing and hospitality services. They a...</td>\n",
       "      <td>3.0</td>\n",
       "      <td>positive</td>\n",
       "      <td>Kenyatta National Hospital provides a pleasant...</td>\n",
       "      <td>2.0</td>\n",
       "      <td>positive</td>\n",
       "      <td>I like that the hospital is state-of-the-art a...</td>\n",
       "      <td>...</td>\n",
       "      <td>I had an excellent experience at The Nairobi W...</td>\n",
       "      <td>5.0</td>\n",
       "      <td>positive</td>\n",
       "      <td>I enjoyed their service i can't complain well ...</td>\n",
       "      <td>5.0</td>\n",
       "      <td>positive</td>\n",
       "      <td>NaN</td>\n",
       "      <td>I got the best services. The environment is al...</td>\n",
       "      <td>positive</td>\n",
       "      <td>5</td>\n",
       "    </tr>\n",
       "    <tr>\n",
       "      <th>1</th>\n",
       "      <td>The Aga Khan University Hospital in Parklands,...</td>\n",
       "      <td>5.0</td>\n",
       "      <td>positive</td>\n",
       "      <td>I was transferred to this hospital via ambulan...</td>\n",
       "      <td>1.0</td>\n",
       "      <td>negative</td>\n",
       "      <td>I must commend Kenyatta National Hospital for ...</td>\n",
       "      <td>3.0</td>\n",
       "      <td>positive</td>\n",
       "      <td>Kenyatta at nice it cute and safe, we are here...</td>\n",
       "      <td>...</td>\n",
       "      <td>Probably one of the trusted and most efficient...</td>\n",
       "      <td>5.0</td>\n",
       "      <td>positive</td>\n",
       "      <td>The hospital is well equipped,friendly qualifi...</td>\n",
       "      <td>4.0</td>\n",
       "      <td>positive</td>\n",
       "      <td>NaN</td>\n",
       "      <td>The Aga Khan University Hospital in Parklands,...</td>\n",
       "      <td>positive</td>\n",
       "      <td>5</td>\n",
       "    </tr>\n",
       "    <tr>\n",
       "      <th>2</th>\n",
       "      <td>Horrible experience with the A&amp;E. Not an ounce...</td>\n",
       "      <td>1.0</td>\n",
       "      <td>positive</td>\n",
       "      <td>Wuuueeeehhh....\\nThe place is amazing..I mean ...</td>\n",
       "      <td>3.0</td>\n",
       "      <td>negative</td>\n",
       "      <td>This hospital environment and the services hav...</td>\n",
       "      <td>5.0</td>\n",
       "      <td>positive</td>\n",
       "      <td>Very modern and clean. Unfortunately, a very w...</td>\n",
       "      <td>...</td>\n",
       "      <td>The experience was horrible. My mom was there ...</td>\n",
       "      <td>1.0</td>\n",
       "      <td>negative</td>\n",
       "      <td>Currently Pumwani is very clean and has profes...</td>\n",
       "      <td>5.0</td>\n",
       "      <td>positive</td>\n",
       "      <td>NaN</td>\n",
       "      <td>Horrible experience with the A&amp;E. Not an ounce...</td>\n",
       "      <td>positive</td>\n",
       "      <td>1</td>\n",
       "    </tr>\n",
       "    <tr>\n",
       "      <th>3</th>\n",
       "      <td>This used to be a very great patient-centered ...</td>\n",
       "      <td>1.0</td>\n",
       "      <td>positive</td>\n",
       "      <td>I've visited the hospital twice, first time al...</td>\n",
       "      <td>1.0</td>\n",
       "      <td>positive</td>\n",
       "      <td>Am at 6 Doctor plaza where I need to do my lab...</td>\n",
       "      <td>1.0</td>\n",
       "      <td>negative</td>\n",
       "      <td>Very modern and clean, though a warped visitat...</td>\n",
       "      <td>...</td>\n",
       "      <td>I visited the hospital on 6.12.2023. I was the...</td>\n",
       "      <td>2.0</td>\n",
       "      <td>negative</td>\n",
       "      <td>Friendly guards. Limited parking space to staf...</td>\n",
       "      <td>5.0</td>\n",
       "      <td>positive</td>\n",
       "      <td>NaN</td>\n",
       "      <td>This used to be a very great patient-centered ...</td>\n",
       "      <td>positive</td>\n",
       "      <td>1</td>\n",
       "    </tr>\n",
       "    <tr>\n",
       "      <th>4</th>\n",
       "      <td>Parking.. Hectic\\nReception takes over an hour...</td>\n",
       "      <td>3.0</td>\n",
       "      <td>positive</td>\n",
       "      <td>The hospital is amazing. Its an awesome place ...</td>\n",
       "      <td>4.0</td>\n",
       "      <td>positive</td>\n",
       "      <td>The hospital is huge and expansive. The aesthe...</td>\n",
       "      <td>3.0</td>\n",
       "      <td>negative</td>\n",
       "      <td>I went late at night. I was attended to immedi...</td>\n",
       "      <td>...</td>\n",
       "      <td>The service was impeccable. I'm amazed how fas...</td>\n",
       "      <td>5.0</td>\n",
       "      <td>positive</td>\n",
       "      <td>Location was good.\\nFacility has improved</td>\n",
       "      <td>5.0</td>\n",
       "      <td>positive</td>\n",
       "      <td>NaN</td>\n",
       "      <td>Parking.. Hectic\\nReception takes over an hour...</td>\n",
       "      <td>positive</td>\n",
       "      <td>3</td>\n",
       "    </tr>\n",
       "  </tbody>\n",
       "</table>\n",
       "<p>5 rows × 34 columns</p>\n",
       "</div>"
      ],
      "text/plain": [
       "                                  Agha Khan Comments  Agha Khan Ratings  \\\n",
       "0  I got the best services. The environment is al...                5.0   \n",
       "1  The Aga Khan University Hospital in Parklands,...                5.0   \n",
       "2  Horrible experience with the A&E. Not an ounce...                1.0   \n",
       "3  This used to be a very great patient-centered ...                1.0   \n",
       "4  Parking.. Hectic\\nReception takes over an hour...                3.0   \n",
       "\n",
       "  Agha Khan Sentiment                                    Coptic Comments  \\\n",
       "0            positive  Great Nursing and hospitality services. They a...   \n",
       "1            positive  I was transferred to this hospital via ambulan...   \n",
       "2            positive  Wuuueeeehhh....\\nThe place is amazing..I mean ...   \n",
       "3            positive  I've visited the hospital twice, first time al...   \n",
       "4            positive  The hospital is amazing. Its an awesome place ...   \n",
       "\n",
       "   Coptic Ratings Coptic sentiment  \\\n",
       "0             3.0         positive   \n",
       "1             1.0         negative   \n",
       "2             3.0         negative   \n",
       "3             1.0         positive   \n",
       "4             4.0         positive   \n",
       "\n",
       "                                   Kenyatta Comments  Kenyatta Rating  \\\n",
       "0  Kenyatta National Hospital provides a pleasant...              2.0   \n",
       "1  I must commend Kenyatta National Hospital for ...              3.0   \n",
       "2  This hospital environment and the services hav...              5.0   \n",
       "3  Am at 6 Doctor plaza where I need to do my lab...              1.0   \n",
       "4  The hospital is huge and expansive. The aesthe...              3.0   \n",
       "\n",
       "  Kenyatta sentiment                       Kenyatta University Comments  ...  \\\n",
       "0           positive  I like that the hospital is state-of-the-art a...  ...   \n",
       "1           positive  Kenyatta at nice it cute and safe, we are here...  ...   \n",
       "2           positive  Very modern and clean. Unfortunately, a very w...  ...   \n",
       "3           negative  Very modern and clean, though a warped visitat...  ...   \n",
       "4           negative  I went late at night. I was attended to immedi...  ...   \n",
       "\n",
       "                               Nairobi West Comments Nairobi West Ratings  \\\n",
       "0  I had an excellent experience at The Nairobi W...                  5.0   \n",
       "1  Probably one of the trusted and most efficient...                  5.0   \n",
       "2  The experience was horrible. My mom was there ...                  1.0   \n",
       "3  I visited the hospital on 6.12.2023. I was the...                  2.0   \n",
       "4  The service was impeccable. I'm amazed how fas...                  5.0   \n",
       "\n",
       "  Nairobi West sentiment                                   Pumwani Comments  \\\n",
       "0               positive  I enjoyed their service i can't complain well ...   \n",
       "1               positive  The hospital is well equipped,friendly qualifi...   \n",
       "2               negative  Currently Pumwani is very clean and has profes...   \n",
       "3               negative  Friendly guards. Limited parking space to staf...   \n",
       "4               positive          Location was good.\\nFacility has improved   \n",
       "\n",
       "  Pumwani Ratings Pumwani sentiment  Unnamed: 30  \\\n",
       "0             5.0          positive          NaN   \n",
       "1             4.0          positive          NaN   \n",
       "2             5.0          positive          NaN   \n",
       "3             5.0          positive          NaN   \n",
       "4             5.0          positive          NaN   \n",
       "\n",
       "                                              REVIEW SENTIMENT  RATING  \n",
       "0  I got the best services. The environment is al...  positive       5  \n",
       "1  The Aga Khan University Hospital in Parklands,...  positive       5  \n",
       "2  Horrible experience with the A&E. Not an ounce...  positive       1  \n",
       "3  This used to be a very great patient-centered ...  positive       1  \n",
       "4  Parking.. Hectic\\nReception takes over an hour...  positive       3  \n",
       "\n",
       "[5 rows x 34 columns]"
      ]
     },
     "execution_count": 2,
     "metadata": {},
     "output_type": "execute_result"
    }
   ],
   "source": [
    "import os\n",
    "import pandas as pd\n",
    "import preprocess_kgptalkie as ps\n",
    "\n",
    "file_path = r'C:\\Users\\ochan\\OneDrive\\Desktop\\NLP.DATA.csv'\n",
    "\n",
    "# Loading the CSV file into a DataFrame with the 'latin-1' encoding\n",
    "data = pd.read_csv(file_path, encoding='latin-1')\n",
    "\n",
    "# Printing the DataFrame\n",
    "data.head(5)"
   ]
  },
  {
   "cell_type": "code",
   "execution_count": 3,
   "metadata": {},
   "outputs": [
    {
     "data": {
      "text/html": [
       "<div>\n",
       "<style scoped>\n",
       "    .dataframe tbody tr th:only-of-type {\n",
       "        vertical-align: middle;\n",
       "    }\n",
       "\n",
       "    .dataframe tbody tr th {\n",
       "        vertical-align: top;\n",
       "    }\n",
       "\n",
       "    .dataframe thead th {\n",
       "        text-align: right;\n",
       "    }\n",
       "</style>\n",
       "<table border=\"1\" class=\"dataframe\">\n",
       "  <thead>\n",
       "    <tr style=\"text-align: right;\">\n",
       "      <th></th>\n",
       "      <th>REVIEW</th>\n",
       "      <th>SENTIMENT</th>\n",
       "      <th>RATING</th>\n",
       "    </tr>\n",
       "  </thead>\n",
       "  <tbody>\n",
       "    <tr>\n",
       "      <th>0</th>\n",
       "      <td>I got the best services. The environment is al...</td>\n",
       "      <td>positive</td>\n",
       "      <td>5</td>\n",
       "    </tr>\n",
       "    <tr>\n",
       "      <th>1</th>\n",
       "      <td>The Aga Khan University Hospital in Parklands,...</td>\n",
       "      <td>positive</td>\n",
       "      <td>5</td>\n",
       "    </tr>\n",
       "    <tr>\n",
       "      <th>2</th>\n",
       "      <td>Horrible experience with the A&amp;E. Not an ounce...</td>\n",
       "      <td>positive</td>\n",
       "      <td>1</td>\n",
       "    </tr>\n",
       "    <tr>\n",
       "      <th>3</th>\n",
       "      <td>This used to be a very great patient-centered ...</td>\n",
       "      <td>positive</td>\n",
       "      <td>1</td>\n",
       "    </tr>\n",
       "    <tr>\n",
       "      <th>4</th>\n",
       "      <td>Parking.. Hectic\\nReception takes over an hour...</td>\n",
       "      <td>positive</td>\n",
       "      <td>3</td>\n",
       "    </tr>\n",
       "  </tbody>\n",
       "</table>\n",
       "</div>"
      ],
      "text/plain": [
       "                                              REVIEW SENTIMENT  RATING\n",
       "0  I got the best services. The environment is al...  positive       5\n",
       "1  The Aga Khan University Hospital in Parklands,...  positive       5\n",
       "2  Horrible experience with the A&E. Not an ounce...  positive       1\n",
       "3  This used to be a very great patient-centered ...  positive       1\n",
       "4  Parking.. Hectic\\nReception takes over an hour...  positive       3"
      ]
     },
     "execution_count": 3,
     "metadata": {},
     "output_type": "execute_result"
    }
   ],
   "source": [
    "# Selecting the columns i want to keep\n",
    "selected_columns = ['REVIEW', 'SENTIMENT', 'RATING']\n",
    "\n",
    "# Creating a new DataFrame with only the selected columns\n",
    "df = data[selected_columns].copy()\n",
    "\n",
    "df.head()"
   ]
  },
  {
   "cell_type": "code",
   "execution_count": 4,
   "metadata": {},
   "outputs": [
    {
     "name": "stderr",
     "output_type": "stream",
     "text": [
      "c:\\Users\\ochan\\anaconda3\\envs\\myenv\\lib\\site-packages\\preprocess_kgptalkie\\utils.py:97: MarkupResemblesLocatorWarning: The input looks more like a filename than markup. You may want to open this file and pass the filehandle into Beautiful Soup.\n",
      "  return BeautifulSoup(x, 'lxml').get_text().strip()\n"
     ]
    }
   ],
   "source": [
    "#preprocessing the data\n",
    "#df['word_counts'] = df['REVIEW'].apply(lambda x: len(x.split()))\n",
    "df['word_counts'] = df['REVIEW'].apply(lambda x: ps.get_wordcounts(x))\n",
    "df['char_counts'] = df['REVIEW'].apply(lambda x: ps.get_charcounts(x))\n",
    "df['avg_wordlength'] = df['REVIEW'].apply(lambda x: ps.get_avg_wordlength(x))\n",
    "df['stopwords_counts'] = df['REVIEW'].apply(lambda x: ps.get_stopwords_counts(x))\n",
    "\n",
    "df['REVIEW'] = df['REVIEW'].apply(lambda x: ps.remove_html_tags(x))\n",
    "df['REVIEW'] = df['REVIEW'].str.lower()"
   ]
  },
  {
   "cell_type": "code",
   "execution_count": 5,
   "metadata": {},
   "outputs": [],
   "source": [
    "#storing preprocessed review into another variable\n",
    "#\n",
    "df['review_without_stopwords'] = df['REVIEW'].apply(lambda x: ps.remove_stopwords(x))"
   ]
  },
  {
   "cell_type": "code",
   "execution_count": 6,
   "metadata": {},
   "outputs": [
    {
     "data": {
      "text/html": [
       "<div>\n",
       "<style scoped>\n",
       "    .dataframe tbody tr th:only-of-type {\n",
       "        vertical-align: middle;\n",
       "    }\n",
       "\n",
       "    .dataframe tbody tr th {\n",
       "        vertical-align: top;\n",
       "    }\n",
       "\n",
       "    .dataframe thead th {\n",
       "        text-align: right;\n",
       "    }\n",
       "</style>\n",
       "<table border=\"1\" class=\"dataframe\">\n",
       "  <thead>\n",
       "    <tr style=\"text-align: right;\">\n",
       "      <th></th>\n",
       "      <th>REVIEW</th>\n",
       "      <th>SENTIMENT</th>\n",
       "      <th>RATING</th>\n",
       "      <th>word_counts</th>\n",
       "      <th>char_counts</th>\n",
       "      <th>avg_wordlength</th>\n",
       "      <th>stopwords_counts</th>\n",
       "      <th>review_without_stopwords</th>\n",
       "    </tr>\n",
       "  </thead>\n",
       "  <tbody>\n",
       "    <tr>\n",
       "      <th>0</th>\n",
       "      <td>i got the best services. the environment is al...</td>\n",
       "      <td>positive</td>\n",
       "      <td>5</td>\n",
       "      <td>31</td>\n",
       "      <td>139</td>\n",
       "      <td>4.483871</td>\n",
       "      <td>13</td>\n",
       "      <td>got best services. environment serene, won't r...</td>\n",
       "    </tr>\n",
       "    <tr>\n",
       "      <th>1</th>\n",
       "      <td>the aga khan university hospital in parklands,...</td>\n",
       "      <td>positive</td>\n",
       "      <td>5</td>\n",
       "      <td>35</td>\n",
       "      <td>197</td>\n",
       "      <td>5.628571</td>\n",
       "      <td>14</td>\n",
       "      <td>aga khan university hospital parklands, nairob...</td>\n",
       "    </tr>\n",
       "    <tr>\n",
       "      <th>2</th>\n",
       "      <td>horrible experience with the a&amp;e. not an ounce...</td>\n",
       "      <td>positive</td>\n",
       "      <td>1</td>\n",
       "      <td>49</td>\n",
       "      <td>192</td>\n",
       "      <td>3.918367</td>\n",
       "      <td>22</td>\n",
       "      <td>horrible experience a&amp;e. ounce care all. possi...</td>\n",
       "    </tr>\n",
       "    <tr>\n",
       "      <th>3</th>\n",
       "      <td>this used to be a very great patient-centered ...</td>\n",
       "      <td>positive</td>\n",
       "      <td>1</td>\n",
       "      <td>35</td>\n",
       "      <td>193</td>\n",
       "      <td>5.514286</td>\n",
       "      <td>13</td>\n",
       "      <td>great patient-centered hospital. today hospita...</td>\n",
       "    </tr>\n",
       "    <tr>\n",
       "      <th>4</th>\n",
       "      <td>parking.. hectic\\nreception takes over an hour...</td>\n",
       "      <td>positive</td>\n",
       "      <td>3</td>\n",
       "      <td>30</td>\n",
       "      <td>147</td>\n",
       "      <td>4.900000</td>\n",
       "      <td>14</td>\n",
       "      <td>parking.. hectic reception takes hour register...</td>\n",
       "    </tr>\n",
       "  </tbody>\n",
       "</table>\n",
       "</div>"
      ],
      "text/plain": [
       "                                              REVIEW SENTIMENT  RATING  \\\n",
       "0  i got the best services. the environment is al...  positive       5   \n",
       "1  the aga khan university hospital in parklands,...  positive       5   \n",
       "2  horrible experience with the a&e. not an ounce...  positive       1   \n",
       "3  this used to be a very great patient-centered ...  positive       1   \n",
       "4  parking.. hectic\\nreception takes over an hour...  positive       3   \n",
       "\n",
       "   word_counts  char_counts  avg_wordlength  stopwords_counts  \\\n",
       "0           31          139        4.483871                13   \n",
       "1           35          197        5.628571                14   \n",
       "2           49          192        3.918367                22   \n",
       "3           35          193        5.514286                13   \n",
       "4           30          147        4.900000                14   \n",
       "\n",
       "                            review_without_stopwords  \n",
       "0  got best services. environment serene, won't r...  \n",
       "1  aga khan university hospital parklands, nairob...  \n",
       "2  horrible experience a&e. ounce care all. possi...  \n",
       "3  great patient-centered hospital. today hospita...  \n",
       "4  parking.. hectic reception takes hour register...  "
      ]
     },
     "execution_count": 6,
     "metadata": {},
     "output_type": "execute_result"
    }
   ],
   "source": [
    "df.head()"
   ]
  },
  {
   "cell_type": "code",
   "execution_count": 7,
   "metadata": {},
   "outputs": [],
   "source": [
    "import seaborn as sns\n",
    "import matplotlib.pyplot as plt\n",
    "%matplotlib inline\n",
    "\n"
   ]
  },
  {
   "cell_type": "code",
   "execution_count": 9,
   "metadata": {},
   "outputs": [
    {
     "data": {
      "image/png": "[encoded data removed]",
      "text/plain": [
       "<Figure size 1000x500 with 4 Axes>"
      ]
     },
     "metadata": {},
     "output_type": "display_data"
    }
   ],
   "source": [
    "plt.figure(figsize=(10, 5))\n",
    "\n",
    "plt.subplot(2, 2, 1)\n",
    "sns.histplot(data=df, x='word_counts', hue='SENTIMENT', kde=True, palette='viridis')\n",
    "plt.title('Word Counts')\n",
    "\n",
    "plt.subplot(2, 2, 2)\n",
    "sns.histplot(data=df, x='char_counts', hue='SENTIMENT', kde=True, palette='viridis')\n",
    "plt.title('char Counts')\n",
    "\n",
    "plt.subplot(2, 2, 3)\n",
    "sns.histplot(data=df, x='avg_wordlength', hue='SENTIMENT', kde=True, palette='viridis')\n",
    "plt.title('avg word length Counts')\n",
    "\n",
    "plt.subplot(2, 2, 4)\n",
    "sns.histplot(data=df, x='stopwords_counts', hue='SENTIMENT', kde=True, palette='viridis')\n",
    "plt.title('stopwords Counts')\n",
    "#removing overlapping headings\n",
    "plt.tight_layout()\n",
    "plt.show()\n"
   ]
  },
  {
   "cell_type": "code",
   "execution_count": null,
   "metadata": {},
   "outputs": [],
   "source": [
    "#Model Building and word embedding\n",
    "#TF-IDF word embedding technique and support vector machine learning\n",
    "#"
   ]
  },
  {
   "cell_type": "code",
   "execution_count": 10,
   "metadata": {},
   "outputs": [],
   "source": [
    "#steps\n",
    "#train test split -> tfidf ->ml algorithm -> fit -> Prediction -> evaluation"
   ]
  },
  {
   "cell_type": "code",
   "execution_count": 11,
   "metadata": {},
   "outputs": [],
   "source": [
    "from sklearn.model_selection import train_test_split\n",
    "from sklearn.feature_extraction.text import TfidfVectorizer\n",
    "\n",
    "from sklearn.svm import LinearSVC\n",
    "from sklearn.pipeline import Pipeline\n",
    "from sklearn.metrics import classification_report, confusion_matrix"
   ]
  },
  {
   "cell_type": "code",
   "execution_count": 27,
   "metadata": {},
   "outputs": [],
   "source": [
    "X_train, X_test, y_train, y_test = train_test_split(df['REVIEW'], \n",
    "                                                    df['SENTIMENT'],\n",
    "                                                    test_size=0.2,\n",
    "                                                    random_state=0,\n",
    "                                                    stratify=df['SENTIMENT']\n",
    "                                                   )"
   ]
  },
  {
   "cell_type": "code",
   "execution_count": 28,
   "metadata": {},
   "outputs": [
    {
     "data": {
      "text/plain": [
       "((2825,), (707,))"
      ]
     },
     "execution_count": 28,
     "metadata": {},
     "output_type": "execute_result"
    }
   ],
   "source": [
    "X_train.shape, X_test.shape"
   ]
  },
  {
   "cell_type": "code",
   "execution_count": 29,
   "metadata": {},
   "outputs": [],
   "source": [
    "#pipeline is working like a container and we are passing\n",
    "#tfidf vectorizer and linearsvc \n",
    "clf = Pipeline([('tfidf', TfidfVectorizer()), ('clf', LinearSVC())])"
   ]
  },
  {
   "cell_type": "code",
   "execution_count": 30,
   "metadata": {},
   "outputs": [
    {
     "name": "stderr",
     "output_type": "stream",
     "text": [
      "c:\\Users\\ochan\\anaconda3\\envs\\myenv\\lib\\site-packages\\sklearn\\svm\\_classes.py:32: FutureWarning: The default value of `dual` will change from `True` to `'auto'` in 1.5. Set the value of `dual` explicitly to suppress the warning.\n",
      "  warnings.warn(\n"
     ]
    },
    {
     "data": {
      "text/html": [
       "<style>#sk-container-id-3 {color: black;}#sk-container-id-3 pre{padding: 0;}#sk-container-id-3 div.sk-toggleable {background-color: white;}#sk-container-id-3 label.sk-toggleable__label {cursor: pointer;display: block;width: 100%;margin-bottom: 0;padding: 0.3em;box-sizing: border-box;text-align: center;}#sk-container-id-3 label.sk-toggleable__label-arrow:before {content: \"▸\";float: left;margin-right: 0.25em;color: #696969;}#sk-container-id-3 label.sk-toggleable__label-arrow:hover:before {color: black;}#sk-container-id-3 div.sk-estimator:hover label.sk-toggleable__label-arrow:before {color: black;}#sk-container-id-3 div.sk-toggleable__content {max-height: 0;max-width: 0;overflow: hidden;text-align: left;background-color: #f0f8ff;}#sk-container-id-3 div.sk-toggleable__content pre {margin: 0.2em;color: black;border-radius: 0.25em;background-color: #f0f8ff;}#sk-container-id-3 input.sk-toggleable__control:checked~div.sk-toggleable__content {max-height: 200px;max-width: 100%;overflow: auto;}#sk-container-id-3 input.sk-toggleable__control:checked~label.sk-toggleable__label-arrow:before {content: \"▾\";}#sk-container-id-3 div.sk-estimator input.sk-toggleable__control:checked~label.sk-toggleable__label {background-color: #d4ebff;}#sk-container-id-3 div.sk-label input.sk-toggleable__control:checked~label.sk-toggleable__label {background-color: #d4ebff;}#sk-container-id-3 input.sk-hidden--visually {border: 0;clip: rect(1px 1px 1px 1px);clip: rect(1px, 1px, 1px, 1px);height: 1px;margin: -1px;overflow: hidden;padding: 0;position: absolute;width: 1px;}#sk-container-id-3 div.sk-estimator {font-family: monospace;background-color: #f0f8ff;border: 1px dotted black;border-radius: 0.25em;box-sizing: border-box;margin-bottom: 0.5em;}#sk-container-id-3 div.sk-estimator:hover {background-color: #d4ebff;}#sk-container-id-3 div.sk-parallel-item::after {content: \"\";width: 100%;border-bottom: 1px solid gray;flex-grow: 1;}#sk-container-id-3 div.sk-label:hover label.sk-toggleable__label {background-color: #d4ebff;}#sk-container-id-3 div.sk-serial::before {content: \"\";position: absolute;border-left: 1px solid gray;box-sizing: border-box;top: 0;bottom: 0;left: 50%;z-index: 0;}#sk-container-id-3 div.sk-serial {display: flex;flex-direction: column;align-items: center;background-color: white;padding-right: 0.2em;padding-left: 0.2em;position: relative;}#sk-container-id-3 div.sk-item {position: relative;z-index: 1;}#sk-container-id-3 div.sk-parallel {display: flex;align-items: stretch;justify-content: center;background-color: white;position: relative;}#sk-container-id-3 div.sk-item::before, #sk-container-id-3 div.sk-parallel-item::before {content: \"\";position: absolute;border-left: 1px solid gray;box-sizing: border-box;top: 0;bottom: 0;left: 50%;z-index: -1;}#sk-container-id-3 div.sk-parallel-item {display: flex;flex-direction: column;z-index: 1;position: relative;background-color: white;}#sk-container-id-3 div.sk-parallel-item:first-child::after {align-self: flex-end;width: 50%;}#sk-container-id-3 div.sk-parallel-item:last-child::after {align-self: flex-start;width: 50%;}#sk-container-id-3 div.sk-parallel-item:only-child::after {width: 0;}#sk-container-id-3 div.sk-dashed-wrapped {border: 1px dashed gray;margin: 0 0.4em 0.5em 0.4em;box-sizing: border-box;padding-bottom: 0.4em;background-color: white;}#sk-container-id-3 div.sk-label label {font-family: monospace;font-weight: bold;display: inline-block;line-height: 1.2em;}#sk-container-id-3 div.sk-label-container {text-align: center;}#sk-container-id-3 div.sk-container {/* jupyter's `normalize.less` sets `[hidden] { display: none; }` but bootstrap.min.css set `[hidden] { display: none !important; }` so we also need the `!important` here to be able to override the default hidden behavior on the sphinx rendered scikit-learn.org. See: https://github.com/scikit-learn/scikit-learn/issues/21755 */display: inline-block !important;position: relative;}#sk-container-id-3 div.sk-text-repr-fallback {display: none;}</style><div id=\"sk-container-id-3\" class=\"sk-top-container\"><div class=\"sk-text-repr-fallback\"><pre>Pipeline(steps=[(&#x27;tfidf&#x27;, TfidfVectorizer()), (&#x27;clf&#x27;, LinearSVC())])</pre><b>In a Jupyter environment, please rerun this cell to show the HTML representation or trust the notebook. <br />On GitHub, the HTML representation is unable to render, please try loading this page with nbviewer.org.</b></div><div class=\"sk-container\" hidden><div class=\"sk-item sk-dashed-wrapped\"><div class=\"sk-label-container\"><div class=\"sk-label sk-toggleable\"><input class=\"sk-toggleable__control sk-hidden--visually\" id=\"sk-estimator-id-7\" type=\"checkbox\" ><label for=\"sk-estimator-id-7\" class=\"sk-toggleable__label sk-toggleable__label-arrow\">Pipeline</label><div class=\"sk-toggleable__content\"><pre>Pipeline(steps=[(&#x27;tfidf&#x27;, TfidfVectorizer()), (&#x27;clf&#x27;, LinearSVC())])</pre></div></div></div><div class=\"sk-serial\"><div class=\"sk-item\"><div class=\"sk-estimator sk-toggleable\"><input class=\"sk-toggleable__control sk-hidden--visually\" id=\"sk-estimator-id-8\" type=\"checkbox\" ><label for=\"sk-estimator-id-8\" class=\"sk-toggleable__label sk-toggleable__label-arrow\">TfidfVectorizer</label><div class=\"sk-toggleable__content\"><pre>TfidfVectorizer()</pre></div></div></div><div class=\"sk-item\"><div class=\"sk-estimator sk-toggleable\"><input class=\"sk-toggleable__control sk-hidden--visually\" id=\"sk-estimator-id-9\" type=\"checkbox\" ><label for=\"sk-estimator-id-9\" class=\"sk-toggleable__label sk-toggleable__label-arrow\">LinearSVC</label><div class=\"sk-toggleable__content\"><pre>LinearSVC()</pre></div></div></div></div></div></div></div>"
      ],
      "text/plain": [
       "Pipeline(steps=[('tfidf', TfidfVectorizer()), ('clf', LinearSVC())])"
      ]
     },
     "execution_count": 30,
     "metadata": {},
     "output_type": "execute_result"
    }
   ],
   "source": [
    "clf.fit(X_train, y_train)"
   ]
  },
  {
   "cell_type": "code",
   "execution_count": 31,
   "metadata": {},
   "outputs": [
    {
     "data": {
      "text/html": [
       "<style>#sk-container-id-4 {color: black;}#sk-container-id-4 pre{padding: 0;}#sk-container-id-4 div.sk-toggleable {background-color: white;}#sk-container-id-4 label.sk-toggleable__label {cursor: pointer;display: block;width: 100%;margin-bottom: 0;padding: 0.3em;box-sizing: border-box;text-align: center;}#sk-container-id-4 label.sk-toggleable__label-arrow:before {content: \"▸\";float: left;margin-right: 0.25em;color: #696969;}#sk-container-id-4 label.sk-toggleable__label-arrow:hover:before {color: black;}#sk-container-id-4 div.sk-estimator:hover label.sk-toggleable__label-arrow:before {color: black;}#sk-container-id-4 div.sk-toggleable__content {max-height: 0;max-width: 0;overflow: hidden;text-align: left;background-color: #f0f8ff;}#sk-container-id-4 div.sk-toggleable__content pre {margin: 0.2em;color: black;border-radius: 0.25em;background-color: #f0f8ff;}#sk-container-id-4 input.sk-toggleable__control:checked~div.sk-toggleable__content {max-height: 200px;max-width: 100%;overflow: auto;}#sk-container-id-4 input.sk-toggleable__control:checked~label.sk-toggleable__label-arrow:before {content: \"▾\";}#sk-container-id-4 div.sk-estimator input.sk-toggleable__control:checked~label.sk-toggleable__label {background-color: #d4ebff;}#sk-container-id-4 div.sk-label input.sk-toggleable__control:checked~label.sk-toggleable__label {background-color: #d4ebff;}#sk-container-id-4 input.sk-hidden--visually {border: 0;clip: rect(1px 1px 1px 1px);clip: rect(1px, 1px, 1px, 1px);height: 1px;margin: -1px;overflow: hidden;padding: 0;position: absolute;width: 1px;}#sk-container-id-4 div.sk-estimator {font-family: monospace;background-color: #f0f8ff;border: 1px dotted black;border-radius: 0.25em;box-sizing: border-box;margin-bottom: 0.5em;}#sk-container-id-4 div.sk-estimator:hover {background-color: #d4ebff;}#sk-container-id-4 div.sk-parallel-item::after {content: \"\";width: 100%;border-bottom: 1px solid gray;flex-grow: 1;}#sk-container-id-4 div.sk-label:hover label.sk-toggleable__label {background-color: #d4ebff;}#sk-container-id-4 div.sk-serial::before {content: \"\";position: absolute;border-left: 1px solid gray;box-sizing: border-box;top: 0;bottom: 0;left: 50%;z-index: 0;}#sk-container-id-4 div.sk-serial {display: flex;flex-direction: column;align-items: center;background-color: white;padding-right: 0.2em;padding-left: 0.2em;position: relative;}#sk-container-id-4 div.sk-item {position: relative;z-index: 1;}#sk-container-id-4 div.sk-parallel {display: flex;align-items: stretch;justify-content: center;background-color: white;position: relative;}#sk-container-id-4 div.sk-item::before, #sk-container-id-4 div.sk-parallel-item::before {content: \"\";position: absolute;border-left: 1px solid gray;box-sizing: border-box;top: 0;bottom: 0;left: 50%;z-index: -1;}#sk-container-id-4 div.sk-parallel-item {display: flex;flex-direction: column;z-index: 1;position: relative;background-color: white;}#sk-container-id-4 div.sk-parallel-item:first-child::after {align-self: flex-end;width: 50%;}#sk-container-id-4 div.sk-parallel-item:last-child::after {align-self: flex-start;width: 50%;}#sk-container-id-4 div.sk-parallel-item:only-child::after {width: 0;}#sk-container-id-4 div.sk-dashed-wrapped {border: 1px dashed gray;margin: 0 0.4em 0.5em 0.4em;box-sizing: border-box;padding-bottom: 0.4em;background-color: white;}#sk-container-id-4 div.sk-label label {font-family: monospace;font-weight: bold;display: inline-block;line-height: 1.2em;}#sk-container-id-4 div.sk-label-container {text-align: center;}#sk-container-id-4 div.sk-container {/* jupyter's `normalize.less` sets `[hidden] { display: none; }` but bootstrap.min.css set `[hidden] { display: none !important; }` so we also need the `!important` here to be able to override the default hidden behavior on the sphinx rendered scikit-learn.org. See: https://github.com/scikit-learn/scikit-learn/issues/21755 */display: inline-block !important;position: relative;}#sk-container-id-4 div.sk-text-repr-fallback {display: none;}</style><div id=\"sk-container-id-4\" class=\"sk-top-container\"><div class=\"sk-text-repr-fallback\"><pre>Pipeline(steps=[(&#x27;tfidf&#x27;, TfidfVectorizer()), (&#x27;clf&#x27;, LinearSVC())])</pre><b>In a Jupyter environment, please rerun this cell to show the HTML representation or trust the notebook. <br />On GitHub, the HTML representation is unable to render, please try loading this page with nbviewer.org.</b></div><div class=\"sk-container\" hidden><div class=\"sk-item sk-dashed-wrapped\"><div class=\"sk-label-container\"><div class=\"sk-label sk-toggleable\"><input class=\"sk-toggleable__control sk-hidden--visually\" id=\"sk-estimator-id-10\" type=\"checkbox\" ><label for=\"sk-estimator-id-10\" class=\"sk-toggleable__label sk-toggleable__label-arrow\">Pipeline</label><div class=\"sk-toggleable__content\"><pre>Pipeline(steps=[(&#x27;tfidf&#x27;, TfidfVectorizer()), (&#x27;clf&#x27;, LinearSVC())])</pre></div></div></div><div class=\"sk-serial\"><div class=\"sk-item\"><div class=\"sk-estimator sk-toggleable\"><input class=\"sk-toggleable__control sk-hidden--visually\" id=\"sk-estimator-id-11\" type=\"checkbox\" ><label for=\"sk-estimator-id-11\" class=\"sk-toggleable__label sk-toggleable__label-arrow\">TfidfVectorizer</label><div class=\"sk-toggleable__content\"><pre>TfidfVectorizer()</pre></div></div></div><div class=\"sk-item\"><div class=\"sk-estimator sk-toggleable\"><input class=\"sk-toggleable__control sk-hidden--visually\" id=\"sk-estimator-id-12\" type=\"checkbox\" ><label for=\"sk-estimator-id-12\" class=\"sk-toggleable__label sk-toggleable__label-arrow\">LinearSVC</label><div class=\"sk-toggleable__content\"><pre>LinearSVC()</pre></div></div></div></div></div></div></div>"
      ],
      "text/plain": [
       "Pipeline(steps=[('tfidf', TfidfVectorizer()), ('clf', LinearSVC())])"
      ]
     },
     "execution_count": 31,
     "metadata": {},
     "output_type": "execute_result"
    }
   ],
   "source": [
    "clf"
   ]
  },
  {
   "cell_type": "code",
   "execution_count": 32,
   "metadata": {},
   "outputs": [],
   "source": [
    "#if a classifier have tfidf vectorizer in its pipeline, \n",
    "#then i do not need to do vectorization outside the clf.\n",
    "#so we can directly pass the text data to classifier to do the linear classification and tfidf vectorization.\n"
   ]
  },
  {
   "cell_type": "code",
   "execution_count": 33,
   "metadata": {},
   "outputs": [],
   "source": [
    "y_pred = clf.predict(X_test)"
   ]
  },
  {
   "cell_type": "code",
   "execution_count": 34,
   "metadata": {},
   "outputs": [
    {
     "name": "stdout",
     "output_type": "stream",
     "text": [
      "              precision    recall  f1-score   support\n",
      "\n",
      "    negative       0.62      0.50      0.55       155\n",
      "    positive       0.87      0.91      0.89       552\n",
      "\n",
      "    accuracy                           0.82       707\n",
      "   macro avg       0.74      0.71      0.72       707\n",
      "weighted avg       0.81      0.82      0.82       707\n",
      "\n"
     ]
    }
   ],
   "source": [
    "print(classification_report(y_test, y_pred))"
   ]
  },
  {
   "cell_type": "code",
   "execution_count": 40,
   "metadata": {},
   "outputs": [
    {
     "data": {
      "text/plain": [
       "(<Figure size 640x480 with 1 Axes>,\n",
       " <Axes: xlabel='predicted label', ylabel='true label'>)"
      ]
     },
     "execution_count": 40,
     "metadata": {},
     "output_type": "execute_result"
    },
    {
     "data": {
      "image/png": "[encoded data removed]",
      "text/plain": [
       "<Figure size 640x480 with 1 Axes>"
      ]
     },
     "metadata": {},
     "output_type": "display_data"
    }
   ],
   "source": [
    "#confusion matrix to just see where the model is going wrong\n",
    "from mlxtend.plotting import plot_confusion_matrix\n",
    "\n",
    "cm = confusion_matrix(y_test, y_pred)\n",
    "plot_confusion_matrix(cm, class_names=clf.classes_)"
   ]
  },
  {
   "cell_type": "code",
   "execution_count": 41,
   "metadata": {},
   "outputs": [
    {
     "data": {
      "text/plain": [
       "array(['positive'], dtype=object)"
      ]
     },
     "execution_count": 41,
     "metadata": {},
     "output_type": "execute_result"
    }
   ],
   "source": [
    "clf.predict(['this is amazing hospital'])"
   ]
  },
  {
   "cell_type": "code",
   "execution_count": 42,
   "metadata": {},
   "outputs": [
    {
     "data": {
      "text/plain": [
       "array(['positive'], dtype=object)"
      ]
     },
     "execution_count": 42,
     "metadata": {},
     "output_type": "execute_result"
    }
   ],
   "source": [
    "clf.predict(['worse hospital bad hospital'])"
   ]
  },
  {
   "cell_type": "code",
   "execution_count": null,
   "metadata": {},
   "outputs": [],
   "source": []
  }
 ],
 "metadata": {
  "kernelspec": {
   "display_name": "myenv",
   "language": "python",
   "name": "python3"
  },
  "language_info": {
   "codemirror_mode": {
    "name": "ipython",
    "version": 3
   },
   "file_extension": ".py",
   "mimetype": "text/x-python",
   "name": "python",
   "nbconvert_exporter": "python",
   "pygments_lexer": "ipython3",
   "version": "3.11.4"
  }
 },
 "nbformat": 4,
 "nbformat_minor": 2
}
