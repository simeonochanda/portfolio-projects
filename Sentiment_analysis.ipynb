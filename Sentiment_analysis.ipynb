{
 "cells": [
  {
   "cell_type": "code",
   "execution_count": 1,
   "id": "5429a667",
   "metadata": {},
   "outputs": [],
   "source": [
    "#importing necessary libraries for sentiment analysis\n",
    "import pickle\n",
    "import pandas as pd\n",
    "import seaborn as sns\n",
    "import matplotlib.pyplot as plt\n",
    "from collections import Counter\n",
    "\n",
    "import nltk\n",
    "from nltk.corpus import stopwords\n",
    "from nltk.stem import PorterStemmer, LancasterStemmer\n",
    "from nltk.tokenize import sent_tokenize, word_tokenize, RegexpTokenizer\n",
    "\n",
    "from sklearn.metrics import accuracy_score\n",
    "from sklearn.linear_model import LogisticRegression\n",
    "from sklearn.model_selection import train_test_split\n",
    "from sklearn.feature_extraction.text import CountVectorizer, TfidfVectorizer\n",
    "\n",
    "%matplotlib inline"
   ]
  },
  {
   "cell_type": "markdown",
   "id": "43ad37d3",
   "metadata": {},
   "source": [
    "# Data Exploration"
   ]
  },
  {
   "cell_type": "code",
   "execution_count": 2,
   "id": "9d0ca337",
   "metadata": {},
   "outputs": [],
   "source": [
    "df = pd.read_csv(\"IMDB Dataset.csv\")"
   ]
  },
  {
   "cell_type": "code",
   "execution_count": 3,
   "id": "153e1475",
   "metadata": {},
   "outputs": [
    {
     "data": {
      "text/plain": [
       "(50000, 2)"
      ]
     },
     "execution_count": 3,
     "metadata": {},
     "output_type": "execute_result"
    }
   ],
   "source": [
    "df.shape"
   ]
  },
  {
   "cell_type": "code",
   "execution_count": 4,
   "id": "18927958",
   "metadata": {},
   "outputs": [
    {
     "data": {
      "text/html": [
       "<div>\n",
       "<style scoped>\n",
       "    .dataframe tbody tr th:only-of-type {\n",
       "        vertical-align: middle;\n",
       "    }\n",
       "\n",
       "    .dataframe tbody tr th {\n",
       "        vertical-align: top;\n",
       "    }\n",
       "\n",
       "    .dataframe thead th {\n",
       "        text-align: right;\n",
       "    }\n",
       "</style>\n",
       "<table border=\"1\" class=\"dataframe\">\n",
       "  <thead>\n",
       "    <tr style=\"text-align: right;\">\n",
       "      <th></th>\n",
       "      <th>review</th>\n",
       "      <th>sentiment</th>\n",
       "    </tr>\n",
       "  </thead>\n",
       "  <tbody>\n",
       "    <tr>\n",
       "      <th>0</th>\n",
       "      <td>One of the other reviewers has mentioned that ...</td>\n",
       "      <td>positive</td>\n",
       "    </tr>\n",
       "    <tr>\n",
       "      <th>1</th>\n",
       "      <td>A wonderful little production. &lt;br /&gt;&lt;br /&gt;The...</td>\n",
       "      <td>positive</td>\n",
       "    </tr>\n",
       "    <tr>\n",
       "      <th>2</th>\n",
       "      <td>I thought this was a wonderful way to spend ti...</td>\n",
       "      <td>positive</td>\n",
       "    </tr>\n",
       "    <tr>\n",
       "      <th>3</th>\n",
       "      <td>Basically there's a family where a little boy ...</td>\n",
       "      <td>negative</td>\n",
       "    </tr>\n",
       "    <tr>\n",
       "      <th>4</th>\n",
       "      <td>Petter Mattei's \"Love in the Time of Money\" is...</td>\n",
       "      <td>positive</td>\n",
       "    </tr>\n",
       "  </tbody>\n",
       "</table>\n",
       "</div>"
      ],
      "text/plain": [
       "                                              review sentiment\n",
       "0  One of the other reviewers has mentioned that ...  positive\n",
       "1  A wonderful little production. <br /><br />The...  positive\n",
       "2  I thought this was a wonderful way to spend ti...  positive\n",
       "3  Basically there's a family where a little boy ...  negative\n",
       "4  Petter Mattei's \"Love in the Time of Money\" is...  positive"
      ]
     },
     "execution_count": 4,
     "metadata": {},
     "output_type": "execute_result"
    }
   ],
   "source": [
    "df.head()"
   ]
  },
  {
   "cell_type": "code",
   "execution_count": 5,
   "id": "4118117c",
   "metadata": {},
   "outputs": [
    {
     "data": {
      "text/plain": [
       "\"Basically there's a family where a little boy (Jake) thinks there's a zombie in his closet & his parents are fighting all the time.<br /><br />This movie is slower than a soap opera... and suddenly, Jake decides to become Rambo and kill the zombie.<br /><br />OK, first of all when you're going to make a film you must Decide if its a thriller or a drama! As a drama the movie is watchable. Parents are divorcing & arguing like in real life. And then we have Jake with his closet which totally ruins all the film! I expected to see a BOOGEYMAN similar movie, and instead i watched a drama with some meaningless thriller spots.<br /><br />3 out of 10 just for the well playing parents & descent dialogs. As for the shots with Jake: just ignore them.\""
      ]
     },
     "execution_count": 5,
     "metadata": {},
     "output_type": "execute_result"
    }
   ],
   "source": [
    "df.loc[3, \"review\"]"
   ]
  },
  {
   "cell_type": "code",
   "execution_count": 6,
   "id": "a6441791",
   "metadata": {},
   "outputs": [
    {
     "data": {
      "text/plain": [
       "'negative'"
      ]
     },
     "execution_count": 6,
     "metadata": {},
     "output_type": "execute_result"
    }
   ],
   "source": [
    "df.loc[3, \"sentiment\"]"
   ]
  },
  {
   "cell_type": "code",
   "execution_count": 7,
   "id": "f7f74c71",
   "metadata": {},
   "outputs": [
    {
     "data": {
      "text/plain": [
       "\"This movie is terrible, it was so difficult to believe that Katie became a heartfelt teenager with the power to save the pity Chinese people, the movie didn't show any convincing argument to prove that. And the rest of the plot didn't make any effort to show us more than a cheap common sense... <br /><br />The plot is ridiculous and the only thing we can extract from it is that it demonstrate how arrogant a human can be. Katie must have inherited her arrogance from her mother, the most annoying character I have seen for a long time. <br /><br />The acting and scenery were OK, but the plot ruins everything, full of cheap clichés and hypocritical scenes, I expect not to see this movie again in my life. Skip this one!\""
      ]
     },
     "execution_count": 7,
     "metadata": {},
     "output_type": "execute_result"
    }
   ],
   "source": [
    "df.loc[1495, \"review\"]"
   ]
  },
  {
   "cell_type": "code",
   "execution_count": 9,
   "id": "aa0ad067",
   "metadata": {},
   "outputs": [
    {
     "data": {
      "text/plain": [
       "'negative'"
      ]
     },
     "execution_count": 9,
     "metadata": {},
     "output_type": "execute_result"
    }
   ],
   "source": [
    "df.loc[1495, \"sentiment\"]"
   ]
  },
  {
   "cell_type": "markdown",
   "id": "137fce58",
   "metadata": {},
   "source": [
    "### Bar plot of 'Sentiment'"
   ]
  },
  {
   "cell_type": "code",
   "execution_count": 10,
   "id": "769c9054",
   "metadata": {},
   "outputs": [
    {
     "data": {
      "image/png": "[encoded data removed]",
      "text/plain": [
       "<Figure size 640x480 with 1 Axes>"
      ]
     },
     "metadata": {},
     "output_type": "display_data"
    }
   ],
   "source": [
    "sns.countplot(x=\"sentiment\", data=df)\n",
    "plt.show()"
   ]
  },
  {
   "cell_type": "code",
   "execution_count": 11,
   "id": "c4b8daf7",
   "metadata": {},
   "outputs": [
    {
     "data": {
      "text/plain": [
       "positive    25000\n",
       "negative    25000\n",
       "Name: sentiment, dtype: int64"
      ]
     },
     "execution_count": 11,
     "metadata": {},
     "output_type": "execute_result"
    }
   ],
   "source": [
    "df[\"sentiment\"].value_counts()"
   ]
  },
  {
   "cell_type": "markdown",
   "id": "fd824dff",
   "metadata": {},
   "source": [
    "### Find the length of each 'review'"
   ]
  },
  {
   "cell_type": "code",
   "execution_count": 12,
   "id": "e26ea0c5",
   "metadata": {},
   "outputs": [],
   "source": [
    "df[\"len\"] = df[\"review\"].apply(len)"
   ]
  },
  {
   "cell_type": "code",
   "execution_count": 13,
   "id": "aacea977",
   "metadata": {},
   "outputs": [
    {
     "data": {
      "text/plain": [
       "count    50000.000000\n",
       "mean      1309.431020\n",
       "std        989.728014\n",
       "min         32.000000\n",
       "25%        699.000000\n",
       "50%        970.000000\n",
       "75%       1590.250000\n",
       "max      13704.000000\n",
       "Name: len, dtype: float64"
      ]
     },
     "execution_count": 13,
     "metadata": {},
     "output_type": "execute_result"
    }
   ],
   "source": [
    "df[\"len\"].describe()"
   ]
  },
  {
   "cell_type": "markdown",
   "id": "1eea40cd",
   "metadata": {},
   "source": [
    "### Plot the histogram of 'len'"
   ]
  },
  {
   "cell_type": "code",
   "execution_count": 14,
   "id": "fdc54f54",
   "metadata": {},
   "outputs": [
    {
     "data": {
      "image/png": "[encoded data removed]",
      "text/plain": [
       "<Figure size 500x500 with 1 Axes>"
      ]
     },
     "metadata": {},
     "output_type": "display_data"
    }
   ],
   "source": [
    "sns.displot(df[\"len\"])\n",
    "plt.show()"
   ]
  },
  {
   "cell_type": "markdown",
   "id": "6f035532",
   "metadata": {},
   "source": [
    "### Plot the distribution of 'len' for different 'Sentiment' types"
   ]
  },
  {
   "cell_type": "code",
   "execution_count": 16,
   "id": "5d6534e9",
   "metadata": {},
   "outputs": [
    {
     "data": {
      "image/png": "[encoded data removed]",
      "text/plain": [
       "<Figure size 610.875x500 with 1 Axes>"
      ]
     },
     "metadata": {},
     "output_type": "display_data"
    }
   ],
   "source": [
    "sns.displot(data=df, x=\"len\", hue=\"sentiment\", kind=\"kde\", fill=True)\n",
    "plt.show()"
   ]
  },
  {
   "cell_type": "markdown",
   "id": "a93fea6c",
   "metadata": {},
   "source": [
    "# Tokenization"
   ]
  },
  {
   "cell_type": "code",
   "execution_count": 18,
   "id": "76df278e",
   "metadata": {},
   "outputs": [],
   "source": [
    "data = df[[\"review\", \"sentiment\"]]"
   ]
  },
  {
   "cell_type": "code",
   "execution_count": 19,
   "id": "66800c47",
   "metadata": {},
   "outputs": [
    {
     "data": {
      "text/plain": [
       "\"Basically there's a family where a little boy (Jake) thinks there's a zombie in his closet & his parents are fighting all the time.<br /><br />This movie is slower than a soap opera... and suddenly, Jake decides to become Rambo and kill the zombie.<br /><br />OK, first of all when you're going to make a film you must Decide if its a thriller or a drama! As a drama the movie is watchable. Parents are divorcing & arguing like in real life. And then we have Jake with his closet which totally ruins all the film! I expected to see a BOOGEYMAN similar movie, and instead i watched a drama with some meaningless thriller spots.<br /><br />3 out of 10 just for the well playing parents & descent dialogs. As for the shots with Jake: just ignore them.\""
      ]
     },
     "execution_count": 19,
     "metadata": {},
     "output_type": "execute_result"
    }
   ],
   "source": [
    "data.loc[3, \"review\"]"
   ]
  },
  {
   "cell_type": "code",
   "execution_count": 20,
   "id": "1dd5b42c",
   "metadata": {},
   "outputs": [
    {
     "data": {
      "text/plain": [
       "[\"Basically there's a family where a little boy (Jake) thinks there's a zombie in his closet & his parents are fighting all the time.<br /><br />This movie is slower than a soap opera... and suddenly, Jake decides to become Rambo and kill the zombie.<br /><br />OK, first of all when you're going to make a film you must Decide if its a thriller or a drama!\",\n",
       " 'As a drama the movie is watchable.',\n",
       " 'Parents are divorcing & arguing like in real life.',\n",
       " 'And then we have Jake with his closet which totally ruins all the film!',\n",
       " 'I expected to see a BOOGEYMAN similar movie, and instead i watched a drama with some meaningless thriller spots.<br /><br />3 out of 10 just for the well playing parents & descent dialogs.',\n",
       " 'As for the shots with Jake: just ignore them.']"
      ]
     },
     "execution_count": 20,
     "metadata": {},
     "output_type": "execute_result"
    }
   ],
   "source": [
    "sent_tokenize(data.loc[3,\"review\"])"
   ]
  },
  {
   "cell_type": "code",
   "execution_count": 21,
   "id": "38b9730d",
   "metadata": {},
   "outputs": [
    {
     "data": {
      "text/plain": [
       "\"This movie is terrible, it was so difficult to believe that Katie became a heartfelt teenager with the power to save the pity Chinese people, the movie didn't show any convincing argument to prove that. And the rest of the plot didn't make any effort to show us more than a cheap common sense... <br /><br />The plot is ridiculous and the only thing we can extract from it is that it demonstrate how arrogant a human can be. Katie must have inherited her arrogance from her mother, the most annoying character I have seen for a long time. <br /><br />The acting and scenery were OK, but the plot ruins everything, full of cheap clichés and hypocritical scenes, I expect not to see this movie again in my life. Skip this one!\""
      ]
     },
     "execution_count": 21,
     "metadata": {},
     "output_type": "execute_result"
    }
   ],
   "source": [
    "data.loc[1495, \"review\"]"
   ]
  },
  {
   "cell_type": "code",
   "execution_count": 22,
   "id": "efcc8bcd",
   "metadata": {},
   "outputs": [
    {
     "data": {
      "text/plain": [
       "[\"This movie is terrible, it was so difficult to believe that Katie became a heartfelt teenager with the power to save the pity Chinese people, the movie didn't show any convincing argument to prove that.\",\n",
       " \"And the rest of the plot didn't make any effort to show us more than a cheap common sense... <br /><br />The plot is ridiculous and the only thing we can extract from it is that it demonstrate how arrogant a human can be.\",\n",
       " 'Katie must have inherited her arrogance from her mother, the most annoying character I have seen for a long time.',\n",
       " '<br /><br />The acting and scenery were OK, but the plot ruins everything, full of cheap clichés and hypocritical scenes, I expect not to see this movie again in my life.',\n",
       " 'Skip this one!']"
      ]
     },
     "execution_count": 22,
     "metadata": {},
     "output_type": "execute_result"
    }
   ],
   "source": [
    "sent_tokenize(data.loc[1495, \"review\"])"
   ]
  },
  {
   "cell_type": "code",
   "execution_count": 23,
   "id": "b04e56de",
   "metadata": {},
   "outputs": [
    {
     "data": {
      "text/plain": [
       "['The',\n",
       " 'cast',\n",
       " 'played',\n",
       " 'Shakespeare.',\n",
       " '<',\n",
       " 'br',\n",
       " '/',\n",
       " '>',\n",
       " '<',\n",
       " 'br',\n",
       " '/',\n",
       " '>',\n",
       " 'Shakespeare',\n",
       " 'lost.',\n",
       " '<',\n",
       " 'br',\n",
       " '/',\n",
       " '>',\n",
       " '<',\n",
       " 'br',\n",
       " '/',\n",
       " '>',\n",
       " 'I',\n",
       " 'appreciate',\n",
       " 'that',\n",
       " 'this',\n",
       " 'is',\n",
       " 'trying',\n",
       " 'to',\n",
       " 'bring',\n",
       " 'Shakespeare',\n",
       " 'to',\n",
       " 'the',\n",
       " 'masses',\n",
       " ',',\n",
       " 'but',\n",
       " 'why',\n",
       " 'ruin',\n",
       " 'something',\n",
       " 'so',\n",
       " 'good.',\n",
       " '<',\n",
       " 'br',\n",
       " '/',\n",
       " '>',\n",
       " '<',\n",
       " 'br',\n",
       " '/',\n",
       " '>',\n",
       " 'Is',\n",
       " 'it',\n",
       " 'because',\n",
       " \"'The\",\n",
       " 'Scottish',\n",
       " 'Play',\n",
       " \"'\",\n",
       " 'is',\n",
       " 'my',\n",
       " 'favorite',\n",
       " 'Shakespeare',\n",
       " '?',\n",
       " 'I',\n",
       " 'do',\n",
       " 'not',\n",
       " 'know',\n",
       " '.',\n",
       " 'What',\n",
       " 'I',\n",
       " 'do',\n",
       " 'know',\n",
       " 'is',\n",
       " 'that',\n",
       " 'a',\n",
       " 'certain',\n",
       " 'Rev',\n",
       " 'Bowdler',\n",
       " '(',\n",
       " 'hence',\n",
       " 'bowdlerization',\n",
       " ')',\n",
       " 'tried',\n",
       " 'to',\n",
       " 'do',\n",
       " 'something',\n",
       " 'similar',\n",
       " 'in',\n",
       " 'the',\n",
       " 'Victorian',\n",
       " 'era.',\n",
       " '<',\n",
       " 'br',\n",
       " '/',\n",
       " '>',\n",
       " '<',\n",
       " 'br',\n",
       " '/',\n",
       " '>',\n",
       " 'In',\n",
       " 'other',\n",
       " 'words',\n",
       " ',',\n",
       " 'you',\n",
       " 'can',\n",
       " 'not',\n",
       " 'improve',\n",
       " 'perfection.',\n",
       " '<',\n",
       " 'br',\n",
       " '/',\n",
       " '>',\n",
       " '<',\n",
       " 'br',\n",
       " '/',\n",
       " '>',\n",
       " 'I',\n",
       " 'have',\n",
       " 'no',\n",
       " 'more',\n",
       " 'to',\n",
       " 'write',\n",
       " 'but',\n",
       " 'as',\n",
       " 'I',\n",
       " 'have',\n",
       " 'to',\n",
       " 'write',\n",
       " 'at',\n",
       " 'least',\n",
       " 'ten',\n",
       " 'lines',\n",
       " 'of',\n",
       " 'text',\n",
       " '(',\n",
       " 'and',\n",
       " 'English',\n",
       " 'composition',\n",
       " 'was',\n",
       " 'never',\n",
       " 'my',\n",
       " 'forte',\n",
       " 'I',\n",
       " 'will',\n",
       " 'just',\n",
       " 'have',\n",
       " 'to',\n",
       " 'keep',\n",
       " 'going',\n",
       " 'and',\n",
       " 'say',\n",
       " 'that',\n",
       " 'this',\n",
       " 'movie',\n",
       " ',',\n",
       " 'as',\n",
       " 'the',\n",
       " 'saying',\n",
       " 'goes',\n",
       " ',',\n",
       " 'just',\n",
       " 'does',\n",
       " 'not',\n",
       " 'cut',\n",
       " 'it',\n",
       " '.']"
      ]
     },
     "execution_count": 23,
     "metadata": {},
     "output_type": "execute_result"
    }
   ],
   "source": [
    "word_tokenize(data.loc[13, \"review\"])"
   ]
  },
  {
   "cell_type": "code",
   "execution_count": 24,
   "id": "4e206c64",
   "metadata": {},
   "outputs": [
    {
     "data": {
      "text/plain": [
       "['This',\n",
       " 'movie',\n",
       " 'is',\n",
       " 'terrible',\n",
       " ',',\n",
       " 'it',\n",
       " 'was',\n",
       " 'so',\n",
       " 'difficult',\n",
       " 'to',\n",
       " 'believe',\n",
       " 'that',\n",
       " 'Katie',\n",
       " 'became',\n",
       " 'a',\n",
       " 'heartfelt',\n",
       " 'teenager',\n",
       " 'with',\n",
       " 'the',\n",
       " 'power',\n",
       " 'to',\n",
       " 'save',\n",
       " 'the',\n",
       " 'pity',\n",
       " 'Chinese',\n",
       " 'people',\n",
       " ',',\n",
       " 'the',\n",
       " 'movie',\n",
       " 'did',\n",
       " \"n't\",\n",
       " 'show',\n",
       " 'any',\n",
       " 'convincing',\n",
       " 'argument',\n",
       " 'to',\n",
       " 'prove',\n",
       " 'that',\n",
       " '.',\n",
       " 'And',\n",
       " 'the',\n",
       " 'rest',\n",
       " 'of',\n",
       " 'the',\n",
       " 'plot',\n",
       " 'did',\n",
       " \"n't\",\n",
       " 'make',\n",
       " 'any',\n",
       " 'effort',\n",
       " 'to',\n",
       " 'show',\n",
       " 'us',\n",
       " 'more',\n",
       " 'than',\n",
       " 'a',\n",
       " 'cheap',\n",
       " 'common',\n",
       " 'sense',\n",
       " '...',\n",
       " '<',\n",
       " 'br',\n",
       " '/',\n",
       " '>',\n",
       " '<',\n",
       " 'br',\n",
       " '/',\n",
       " '>',\n",
       " 'The',\n",
       " 'plot',\n",
       " 'is',\n",
       " 'ridiculous',\n",
       " 'and',\n",
       " 'the',\n",
       " 'only',\n",
       " 'thing',\n",
       " 'we',\n",
       " 'can',\n",
       " 'extract',\n",
       " 'from',\n",
       " 'it',\n",
       " 'is',\n",
       " 'that',\n",
       " 'it',\n",
       " 'demonstrate',\n",
       " 'how',\n",
       " 'arrogant',\n",
       " 'a',\n",
       " 'human',\n",
       " 'can',\n",
       " 'be',\n",
       " '.',\n",
       " 'Katie',\n",
       " 'must',\n",
       " 'have',\n",
       " 'inherited',\n",
       " 'her',\n",
       " 'arrogance',\n",
       " 'from',\n",
       " 'her',\n",
       " 'mother',\n",
       " ',',\n",
       " 'the',\n",
       " 'most',\n",
       " 'annoying',\n",
       " 'character',\n",
       " 'I',\n",
       " 'have',\n",
       " 'seen',\n",
       " 'for',\n",
       " 'a',\n",
       " 'long',\n",
       " 'time',\n",
       " '.',\n",
       " '<',\n",
       " 'br',\n",
       " '/',\n",
       " '>',\n",
       " '<',\n",
       " 'br',\n",
       " '/',\n",
       " '>',\n",
       " 'The',\n",
       " 'acting',\n",
       " 'and',\n",
       " 'scenery',\n",
       " 'were',\n",
       " 'OK',\n",
       " ',',\n",
       " 'but',\n",
       " 'the',\n",
       " 'plot',\n",
       " 'ruins',\n",
       " 'everything',\n",
       " ',',\n",
       " 'full',\n",
       " 'of',\n",
       " 'cheap',\n",
       " 'clichés',\n",
       " 'and',\n",
       " 'hypocritical',\n",
       " 'scenes',\n",
       " ',',\n",
       " 'I',\n",
       " 'expect',\n",
       " 'not',\n",
       " 'to',\n",
       " 'see',\n",
       " 'this',\n",
       " 'movie',\n",
       " 'again',\n",
       " 'in',\n",
       " 'my',\n",
       " 'life',\n",
       " '.',\n",
       " 'Skip',\n",
       " 'this',\n",
       " 'one',\n",
       " '!']"
      ]
     },
     "execution_count": 24,
     "metadata": {},
     "output_type": "execute_result"
    }
   ],
   "source": [
    "word_tokenize(data.loc[1495, \"review\"])"
   ]
  },
  {
   "cell_type": "markdown",
   "id": "fa40a238",
   "metadata": {},
   "source": [
    "### Convert text to lower case"
   ]
  },
  {
   "cell_type": "code",
   "execution_count": 25,
   "id": "42856681",
   "metadata": {},
   "outputs": [],
   "source": [
    "reviews = list(data[\"review\"])"
   ]
  },
  {
   "cell_type": "code",
   "execution_count": 26,
   "id": "7976bf10",
   "metadata": {},
   "outputs": [
    {
     "data": {
      "text/plain": [
       "50000"
      ]
     },
     "execution_count": 26,
     "metadata": {},
     "output_type": "execute_result"
    }
   ],
   "source": [
    "len(reviews)"
   ]
  },
  {
   "cell_type": "code",
   "execution_count": 27,
   "id": "f6d9f036",
   "metadata": {},
   "outputs": [
    {
     "data": {
      "text/plain": [
       "\"Basically there's a family where a little boy (Jake) thinks there's a zombie in his closet & his parents are fighting all the time.<br /><br />This movie is slower than a soap opera... and suddenly, Jake decides to become Rambo and kill the zombie.<br /><br />OK, first of all when you're going to make a film you must Decide if its a thriller or a drama! As a drama the movie is watchable. Parents are divorcing & arguing like in real life. And then we have Jake with his closet which totally ruins all the film! I expected to see a BOOGEYMAN similar movie, and instead i watched a drama with some meaningless thriller spots.<br /><br />3 out of 10 just for the well playing parents & descent dialogs. As for the shots with Jake: just ignore them.\""
      ]
     },
     "execution_count": 27,
     "metadata": {},
     "output_type": "execute_result"
    }
   ],
   "source": [
    "reviews[3]"
   ]
  },
  {
   "cell_type": "code",
   "execution_count": 28,
   "id": "e4d6f736",
   "metadata": {},
   "outputs": [
    {
     "data": {
      "text/plain": [
       "\"This movie is terrible, it was so difficult to believe that Katie became a heartfelt teenager with the power to save the pity Chinese people, the movie didn't show any convincing argument to prove that. And the rest of the plot didn't make any effort to show us more than a cheap common sense... <br /><br />The plot is ridiculous and the only thing we can extract from it is that it demonstrate how arrogant a human can be. Katie must have inherited her arrogance from her mother, the most annoying character I have seen for a long time. <br /><br />The acting and scenery were OK, but the plot ruins everything, full of cheap clichés and hypocritical scenes, I expect not to see this movie again in my life. Skip this one!\""
      ]
     },
     "execution_count": 28,
     "metadata": {},
     "output_type": "execute_result"
    }
   ],
   "source": [
    "reviews[1495]"
   ]
  },
  {
   "cell_type": "code",
   "execution_count": 29,
   "id": "48114468",
   "metadata": {},
   "outputs": [
    {
     "data": {
      "text/plain": [
       "\"this movie is terrible, it was so difficult to believe that katie became a heartfelt teenager with the power to save the pity chinese people, the movie didn't show any convincing argument to prove that. and the rest of the plot didn't make any effort to show us more than a cheap common sense... <br /><br />the plot is ridiculous and the only thing we can extract from it is that it demonstrate how arrogant a human can be. katie must have inherited her arrogance from her mother, the most annoying character i have seen for a long time. <br /><br />the acting and scenery were ok, but the plot ruins everything, full of cheap clichés and hypocritical scenes, i expect not to see this movie again in my life. skip this one!\""
      ]
     },
     "execution_count": 29,
     "metadata": {},
     "output_type": "execute_result"
    }
   ],
   "source": [
    "reviews[1495].lower()"
   ]
  },
  {
   "cell_type": "code",
   "execution_count": 30,
   "id": "63568983",
   "metadata": {},
   "outputs": [],
   "source": [
    "reviews_lower = [r.lower() for r in reviews]"
   ]
  },
  {
   "cell_type": "code",
   "execution_count": 32,
   "id": "88b291e8",
   "metadata": {},
   "outputs": [
    {
     "data": {
      "text/plain": [
       "\"basically there's a family where a little boy (jake) thinks there's a zombie in his closet & his parents are fighting all the time.<br /><br />this movie is slower than a soap opera... and suddenly, jake decides to become rambo and kill the zombie.<br /><br />ok, first of all when you're going to make a film you must decide if its a thriller or a drama! as a drama the movie is watchable. parents are divorcing & arguing like in real life. and then we have jake with his closet which totally ruins all the film! i expected to see a boogeyman similar movie, and instead i watched a drama with some meaningless thriller spots.<br /><br />3 out of 10 just for the well playing parents & descent dialogs. as for the shots with jake: just ignore them.\""
      ]
     },
     "execution_count": 32,
     "metadata": {},
     "output_type": "execute_result"
    }
   ],
   "source": [
    "reviews_lower[3]"
   ]
  },
  {
   "cell_type": "code",
   "execution_count": 33,
   "id": "6098e882",
   "metadata": {},
   "outputs": [],
   "source": [
    "reviews_lower = []\n",
    "for r in reviews:\n",
    "    reviews_lower.append(r.lower())"
   ]
  },
  {
   "cell_type": "code",
   "execution_count": 34,
   "id": "db39498c",
   "metadata": {},
   "outputs": [],
   "source": [
    "tokens = [word_tokenize(r) for r in reviews_lower]"
   ]
  },
  {
   "cell_type": "code",
   "execution_count": 35,
   "id": "c44025a5",
   "metadata": {},
   "outputs": [
    {
     "data": {
      "text/plain": [
       "['basically',\n",
       " 'there',\n",
       " \"'s\",\n",
       " 'a',\n",
       " 'family',\n",
       " 'where',\n",
       " 'a',\n",
       " 'little',\n",
       " 'boy',\n",
       " '(',\n",
       " 'jake',\n",
       " ')',\n",
       " 'thinks',\n",
       " 'there',\n",
       " \"'s\",\n",
       " 'a',\n",
       " 'zombie',\n",
       " 'in',\n",
       " 'his',\n",
       " 'closet',\n",
       " '&',\n",
       " 'his',\n",
       " 'parents',\n",
       " 'are',\n",
       " 'fighting',\n",
       " 'all',\n",
       " 'the',\n",
       " 'time.',\n",
       " '<',\n",
       " 'br',\n",
       " '/',\n",
       " '>',\n",
       " '<',\n",
       " 'br',\n",
       " '/',\n",
       " '>',\n",
       " 'this',\n",
       " 'movie',\n",
       " 'is',\n",
       " 'slower',\n",
       " 'than',\n",
       " 'a',\n",
       " 'soap',\n",
       " 'opera',\n",
       " '...',\n",
       " 'and',\n",
       " 'suddenly',\n",
       " ',',\n",
       " 'jake',\n",
       " 'decides',\n",
       " 'to',\n",
       " 'become',\n",
       " 'rambo',\n",
       " 'and',\n",
       " 'kill',\n",
       " 'the',\n",
       " 'zombie.',\n",
       " '<',\n",
       " 'br',\n",
       " '/',\n",
       " '>',\n",
       " '<',\n",
       " 'br',\n",
       " '/',\n",
       " '>',\n",
       " 'ok',\n",
       " ',',\n",
       " 'first',\n",
       " 'of',\n",
       " 'all',\n",
       " 'when',\n",
       " 'you',\n",
       " \"'re\",\n",
       " 'going',\n",
       " 'to',\n",
       " 'make',\n",
       " 'a',\n",
       " 'film',\n",
       " 'you',\n",
       " 'must',\n",
       " 'decide',\n",
       " 'if',\n",
       " 'its',\n",
       " 'a',\n",
       " 'thriller',\n",
       " 'or',\n",
       " 'a',\n",
       " 'drama',\n",
       " '!',\n",
       " 'as',\n",
       " 'a',\n",
       " 'drama',\n",
       " 'the',\n",
       " 'movie',\n",
       " 'is',\n",
       " 'watchable',\n",
       " '.',\n",
       " 'parents',\n",
       " 'are',\n",
       " 'divorcing',\n",
       " '&',\n",
       " 'arguing',\n",
       " 'like',\n",
       " 'in',\n",
       " 'real',\n",
       " 'life',\n",
       " '.',\n",
       " 'and',\n",
       " 'then',\n",
       " 'we',\n",
       " 'have',\n",
       " 'jake',\n",
       " 'with',\n",
       " 'his',\n",
       " 'closet',\n",
       " 'which',\n",
       " 'totally',\n",
       " 'ruins',\n",
       " 'all',\n",
       " 'the',\n",
       " 'film',\n",
       " '!',\n",
       " 'i',\n",
       " 'expected',\n",
       " 'to',\n",
       " 'see',\n",
       " 'a',\n",
       " 'boogeyman',\n",
       " 'similar',\n",
       " 'movie',\n",
       " ',',\n",
       " 'and',\n",
       " 'instead',\n",
       " 'i',\n",
       " 'watched',\n",
       " 'a',\n",
       " 'drama',\n",
       " 'with',\n",
       " 'some',\n",
       " 'meaningless',\n",
       " 'thriller',\n",
       " 'spots.',\n",
       " '<',\n",
       " 'br',\n",
       " '/',\n",
       " '>',\n",
       " '<',\n",
       " 'br',\n",
       " '/',\n",
       " '>',\n",
       " '3',\n",
       " 'out',\n",
       " 'of',\n",
       " '10',\n",
       " 'just',\n",
       " 'for',\n",
       " 'the',\n",
       " 'well',\n",
       " 'playing',\n",
       " 'parents',\n",
       " '&',\n",
       " 'descent',\n",
       " 'dialogs',\n",
       " '.',\n",
       " 'as',\n",
       " 'for',\n",
       " 'the',\n",
       " 'shots',\n",
       " 'with',\n",
       " 'jake',\n",
       " ':',\n",
       " 'just',\n",
       " 'ignore',\n",
       " 'them',\n",
       " '.']"
      ]
     },
     "execution_count": 35,
     "metadata": {},
     "output_type": "execute_result"
    }
   ],
   "source": [
    "tokens[3]"
   ]
  },
  {
   "cell_type": "code",
   "execution_count": 36,
   "id": "c17c6bfe",
   "metadata": {},
   "outputs": [
    {
     "data": {
      "text/plain": [
       "['this',\n",
       " 'movie',\n",
       " 'is',\n",
       " 'terrible',\n",
       " ',',\n",
       " 'it',\n",
       " 'was',\n",
       " 'so',\n",
       " 'difficult',\n",
       " 'to',\n",
       " 'believe',\n",
       " 'that',\n",
       " 'katie',\n",
       " 'became',\n",
       " 'a',\n",
       " 'heartfelt',\n",
       " 'teenager',\n",
       " 'with',\n",
       " 'the',\n",
       " 'power',\n",
       " 'to',\n",
       " 'save',\n",
       " 'the',\n",
       " 'pity',\n",
       " 'chinese',\n",
       " 'people',\n",
       " ',',\n",
       " 'the',\n",
       " 'movie',\n",
       " 'did',\n",
       " \"n't\",\n",
       " 'show',\n",
       " 'any',\n",
       " 'convincing',\n",
       " 'argument',\n",
       " 'to',\n",
       " 'prove',\n",
       " 'that',\n",
       " '.',\n",
       " 'and',\n",
       " 'the',\n",
       " 'rest',\n",
       " 'of',\n",
       " 'the',\n",
       " 'plot',\n",
       " 'did',\n",
       " \"n't\",\n",
       " 'make',\n",
       " 'any',\n",
       " 'effort',\n",
       " 'to',\n",
       " 'show',\n",
       " 'us',\n",
       " 'more',\n",
       " 'than',\n",
       " 'a',\n",
       " 'cheap',\n",
       " 'common',\n",
       " 'sense',\n",
       " '...',\n",
       " '<',\n",
       " 'br',\n",
       " '/',\n",
       " '>',\n",
       " '<',\n",
       " 'br',\n",
       " '/',\n",
       " '>',\n",
       " 'the',\n",
       " 'plot',\n",
       " 'is',\n",
       " 'ridiculous',\n",
       " 'and',\n",
       " 'the',\n",
       " 'only',\n",
       " 'thing',\n",
       " 'we',\n",
       " 'can',\n",
       " 'extract',\n",
       " 'from',\n",
       " 'it',\n",
       " 'is',\n",
       " 'that',\n",
       " 'it',\n",
       " 'demonstrate',\n",
       " 'how',\n",
       " 'arrogant',\n",
       " 'a',\n",
       " 'human',\n",
       " 'can',\n",
       " 'be',\n",
       " '.',\n",
       " 'katie',\n",
       " 'must',\n",
       " 'have',\n",
       " 'inherited',\n",
       " 'her',\n",
       " 'arrogance',\n",
       " 'from',\n",
       " 'her',\n",
       " 'mother',\n",
       " ',',\n",
       " 'the',\n",
       " 'most',\n",
       " 'annoying',\n",
       " 'character',\n",
       " 'i',\n",
       " 'have',\n",
       " 'seen',\n",
       " 'for',\n",
       " 'a',\n",
       " 'long',\n",
       " 'time',\n",
       " '.',\n",
       " '<',\n",
       " 'br',\n",
       " '/',\n",
       " '>',\n",
       " '<',\n",
       " 'br',\n",
       " '/',\n",
       " '>',\n",
       " 'the',\n",
       " 'acting',\n",
       " 'and',\n",
       " 'scenery',\n",
       " 'were',\n",
       " 'ok',\n",
       " ',',\n",
       " 'but',\n",
       " 'the',\n",
       " 'plot',\n",
       " 'ruins',\n",
       " 'everything',\n",
       " ',',\n",
       " 'full',\n",
       " 'of',\n",
       " 'cheap',\n",
       " 'clichés',\n",
       " 'and',\n",
       " 'hypocritical',\n",
       " 'scenes',\n",
       " ',',\n",
       " 'i',\n",
       " 'expect',\n",
       " 'not',\n",
       " 'to',\n",
       " 'see',\n",
       " 'this',\n",
       " 'movie',\n",
       " 'again',\n",
       " 'in',\n",
       " 'my',\n",
       " 'life',\n",
       " '.',\n",
       " 'skip',\n",
       " 'this',\n",
       " 'one',\n",
       " '!']"
      ]
     },
     "execution_count": 36,
     "metadata": {},
     "output_type": "execute_result"
    }
   ],
   "source": [
    "tokens[1495]"
   ]
  },
  {
   "cell_type": "code",
   "execution_count": 37,
   "id": "6f747736",
   "metadata": {},
   "outputs": [
    {
     "data": {
      "text/plain": [
       "50000"
      ]
     },
     "execution_count": 37,
     "metadata": {},
     "output_type": "execute_result"
    }
   ],
   "source": [
    "len(tokens)"
   ]
  },
  {
   "cell_type": "markdown",
   "id": "da647ba5",
   "metadata": {},
   "source": [
    "# Stopwords removal"
   ]
  },
  {
   "cell_type": "code",
   "execution_count": 38,
   "id": "5366689a",
   "metadata": {},
   "outputs": [],
   "source": [
    "sw = stopwords.words('english')"
   ]
  },
  {
   "cell_type": "code",
   "execution_count": 39,
   "id": "7b696f93",
   "metadata": {},
   "outputs": [
    {
     "data": {
      "text/plain": [
       "['i', 'me', 'my', 'myself', 'we', 'our', 'ours', 'ourselves', 'you', \"you're\"]"
      ]
     },
     "execution_count": 39,
     "metadata": {},
     "output_type": "execute_result"
    }
   ],
   "source": [
    "sw[:10]"
   ]
  },
  {
   "cell_type": "code",
   "execution_count": 40,
   "id": "e65a3a01",
   "metadata": {},
   "outputs": [],
   "source": [
    "tokens = [[word for word in t if word not in sw] for t in tokens]"
   ]
  },
  {
   "cell_type": "code",
   "execution_count": 41,
   "id": "fdf1f198",
   "metadata": {},
   "outputs": [
    {
     "data": {
      "text/plain": [
       "['basically',\n",
       " \"'s\",\n",
       " 'family',\n",
       " 'little',\n",
       " 'boy',\n",
       " '(',\n",
       " 'jake',\n",
       " ')',\n",
       " 'thinks',\n",
       " \"'s\",\n",
       " 'zombie',\n",
       " 'closet',\n",
       " '&',\n",
       " 'parents',\n",
       " 'fighting',\n",
       " 'time.',\n",
       " '<',\n",
       " 'br',\n",
       " '/',\n",
       " '>',\n",
       " '<',\n",
       " 'br',\n",
       " '/',\n",
       " '>',\n",
       " 'movie',\n",
       " 'slower',\n",
       " 'soap',\n",
       " 'opera',\n",
       " '...',\n",
       " 'suddenly',\n",
       " ',',\n",
       " 'jake',\n",
       " 'decides',\n",
       " 'become',\n",
       " 'rambo',\n",
       " 'kill',\n",
       " 'zombie.',\n",
       " '<',\n",
       " 'br',\n",
       " '/',\n",
       " '>',\n",
       " '<',\n",
       " 'br',\n",
       " '/',\n",
       " '>',\n",
       " 'ok',\n",
       " ',',\n",
       " 'first',\n",
       " \"'re\",\n",
       " 'going',\n",
       " 'make',\n",
       " 'film',\n",
       " 'must',\n",
       " 'decide',\n",
       " 'thriller',\n",
       " 'drama',\n",
       " '!',\n",
       " 'drama',\n",
       " 'movie',\n",
       " 'watchable',\n",
       " '.',\n",
       " 'parents',\n",
       " 'divorcing',\n",
       " '&',\n",
       " 'arguing',\n",
       " 'like',\n",
       " 'real',\n",
       " 'life',\n",
       " '.',\n",
       " 'jake',\n",
       " 'closet',\n",
       " 'totally',\n",
       " 'ruins',\n",
       " 'film',\n",
       " '!',\n",
       " 'expected',\n",
       " 'see',\n",
       " 'boogeyman',\n",
       " 'similar',\n",
       " 'movie',\n",
       " ',',\n",
       " 'instead',\n",
       " 'watched',\n",
       " 'drama',\n",
       " 'meaningless',\n",
       " 'thriller',\n",
       " 'spots.',\n",
       " '<',\n",
       " 'br',\n",
       " '/',\n",
       " '>',\n",
       " '<',\n",
       " 'br',\n",
       " '/',\n",
       " '>',\n",
       " '3',\n",
       " '10',\n",
       " 'well',\n",
       " 'playing',\n",
       " 'parents',\n",
       " '&',\n",
       " 'descent',\n",
       " 'dialogs',\n",
       " '.',\n",
       " 'shots',\n",
       " 'jake',\n",
       " ':',\n",
       " 'ignore',\n",
       " '.']"
      ]
     },
     "execution_count": 41,
     "metadata": {},
     "output_type": "execute_result"
    }
   ],
   "source": [
    "tokens[3]"
   ]
  },
  {
   "cell_type": "code",
   "execution_count": 42,
   "id": "87bd4391",
   "metadata": {},
   "outputs": [
    {
     "data": {
      "text/plain": [
       "\"Basically there's a family where a little boy (Jake) thinks there's a zombie in his closet & his parents are fighting all the time.<br /><br />This movie is slower than a soap opera... and suddenly, Jake decides to become Rambo and kill the zombie.<br /><br />OK, first of all when you're going to make a film you must Decide if its a thriller or a drama! As a drama the movie is watchable. Parents are divorcing & arguing like in real life. And then we have Jake with his closet which totally ruins all the film! I expected to see a BOOGEYMAN similar movie, and instead i watched a drama with some meaningless thriller spots.<br /><br />3 out of 10 just for the well playing parents & descent dialogs. As for the shots with Jake: just ignore them.\""
      ]
     },
     "execution_count": 42,
     "metadata": {},
     "output_type": "execute_result"
    }
   ],
   "source": [
    "reviews[3]"
   ]
  },
  {
   "cell_type": "code",
   "execution_count": 43,
   "id": "900c6ada",
   "metadata": {},
   "outputs": [
    {
     "data": {
      "text/plain": [
       "['movie',\n",
       " 'terrible',\n",
       " ',',\n",
       " 'difficult',\n",
       " 'believe',\n",
       " 'katie',\n",
       " 'became',\n",
       " 'heartfelt',\n",
       " 'teenager',\n",
       " 'power',\n",
       " 'save',\n",
       " 'pity',\n",
       " 'chinese',\n",
       " 'people',\n",
       " ',',\n",
       " 'movie',\n",
       " \"n't\",\n",
       " 'show',\n",
       " 'convincing',\n",
       " 'argument',\n",
       " 'prove',\n",
       " '.',\n",
       " 'rest',\n",
       " 'plot',\n",
       " \"n't\",\n",
       " 'make',\n",
       " 'effort',\n",
       " 'show',\n",
       " 'us',\n",
       " 'cheap',\n",
       " 'common',\n",
       " 'sense',\n",
       " '...',\n",
       " '<',\n",
       " 'br',\n",
       " '/',\n",
       " '>',\n",
       " '<',\n",
       " 'br',\n",
       " '/',\n",
       " '>',\n",
       " 'plot',\n",
       " 'ridiculous',\n",
       " 'thing',\n",
       " 'extract',\n",
       " 'demonstrate',\n",
       " 'arrogant',\n",
       " 'human',\n",
       " '.',\n",
       " 'katie',\n",
       " 'must',\n",
       " 'inherited',\n",
       " 'arrogance',\n",
       " 'mother',\n",
       " ',',\n",
       " 'annoying',\n",
       " 'character',\n",
       " 'seen',\n",
       " 'long',\n",
       " 'time',\n",
       " '.',\n",
       " '<',\n",
       " 'br',\n",
       " '/',\n",
       " '>',\n",
       " '<',\n",
       " 'br',\n",
       " '/',\n",
       " '>',\n",
       " 'acting',\n",
       " 'scenery',\n",
       " 'ok',\n",
       " ',',\n",
       " 'plot',\n",
       " 'ruins',\n",
       " 'everything',\n",
       " ',',\n",
       " 'full',\n",
       " 'cheap',\n",
       " 'clichés',\n",
       " 'hypocritical',\n",
       " 'scenes',\n",
       " ',',\n",
       " 'expect',\n",
       " 'see',\n",
       " 'movie',\n",
       " 'life',\n",
       " '.',\n",
       " 'skip',\n",
       " 'one',\n",
       " '!']"
      ]
     },
     "execution_count": 43,
     "metadata": {},
     "output_type": "execute_result"
    }
   ],
   "source": [
    "tokens[1495]"
   ]
  },
  {
   "cell_type": "code",
   "execution_count": 44,
   "id": "efdf8a3f",
   "metadata": {},
   "outputs": [
    {
     "data": {
      "text/plain": [
       "\"This movie is terrible, it was so difficult to believe that Katie became a heartfelt teenager with the power to save the pity Chinese people, the movie didn't show any convincing argument to prove that. And the rest of the plot didn't make any effort to show us more than a cheap common sense... <br /><br />The plot is ridiculous and the only thing we can extract from it is that it demonstrate how arrogant a human can be. Katie must have inherited her arrogance from her mother, the most annoying character I have seen for a long time. <br /><br />The acting and scenery were OK, but the plot ruins everything, full of cheap clichés and hypocritical scenes, I expect not to see this movie again in my life. Skip this one!\""
      ]
     },
     "execution_count": 44,
     "metadata": {},
     "output_type": "execute_result"
    }
   ],
   "source": [
    "reviews[1495]"
   ]
  },
  {
   "cell_type": "markdown",
   "id": "fa218c91",
   "metadata": {},
   "source": [
    "### Remove punctuations"
   ]
  },
  {
   "cell_type": "code",
   "execution_count": 45,
   "id": "c8ca9513",
   "metadata": {},
   "outputs": [],
   "source": [
    "tokenizer = RegexpTokenizer(r'\\w+')"
   ]
  },
  {
   "cell_type": "code",
   "execution_count": 46,
   "id": "f5549185",
   "metadata": {},
   "outputs": [
    {
     "data": {
      "text/plain": [
       "['wasn', 't']"
      ]
     },
     "execution_count": 46,
     "metadata": {},
     "output_type": "execute_result"
    }
   ],
   "source": [
    "tokenizer.tokenize(\"wasn't\")"
   ]
  },
  {
   "cell_type": "code",
   "execution_count": 47,
   "id": "fe82a0fb",
   "metadata": {},
   "outputs": [],
   "source": [
    "t = tokenizer.tokenize(\"wasn't\")"
   ]
  },
  {
   "cell_type": "code",
   "execution_count": 48,
   "id": "44054633",
   "metadata": {},
   "outputs": [
    {
     "data": {
      "text/plain": [
       "'wasnt'"
      ]
     },
     "execution_count": 48,
     "metadata": {},
     "output_type": "execute_result"
    }
   ],
   "source": [
    "\"\".join(t)"
   ]
  },
  {
   "cell_type": "code",
   "execution_count": 49,
   "id": "0ca9de16",
   "metadata": {},
   "outputs": [
    {
     "data": {
      "text/plain": [
       "[]"
      ]
     },
     "execution_count": 49,
     "metadata": {},
     "output_type": "execute_result"
    }
   ],
   "source": [
    "tokenizer.tokenize(\":\")"
   ]
  },
  {
   "cell_type": "code",
   "execution_count": 50,
   "id": "9019d2de",
   "metadata": {},
   "outputs": [],
   "source": [
    "tokens = [[\"\".join(tokenizer.tokenize(word)) for word in t\n",
    "           if len(tokenizer.tokenize(word))>0] for t in tokens]"
   ]
  },
  {
   "cell_type": "code",
   "execution_count": 51,
   "id": "e4af0982",
   "metadata": {},
   "outputs": [
    {
     "data": {
      "text/plain": [
       "['basically',\n",
       " 's',\n",
       " 'family',\n",
       " 'little',\n",
       " 'boy',\n",
       " 'jake',\n",
       " 'thinks',\n",
       " 's',\n",
       " 'zombie',\n",
       " 'closet',\n",
       " 'parents',\n",
       " 'fighting',\n",
       " 'time',\n",
       " 'br',\n",
       " 'br',\n",
       " 'movie',\n",
       " 'slower',\n",
       " 'soap',\n",
       " 'opera',\n",
       " 'suddenly',\n",
       " 'jake',\n",
       " 'decides',\n",
       " 'become',\n",
       " 'rambo',\n",
       " 'kill',\n",
       " 'zombie',\n",
       " 'br',\n",
       " 'br',\n",
       " 'ok',\n",
       " 'first',\n",
       " 're',\n",
       " 'going',\n",
       " 'make',\n",
       " 'film',\n",
       " 'must',\n",
       " 'decide',\n",
       " 'thriller',\n",
       " 'drama',\n",
       " 'drama',\n",
       " 'movie',\n",
       " 'watchable',\n",
       " 'parents',\n",
       " 'divorcing',\n",
       " 'arguing',\n",
       " 'like',\n",
       " 'real',\n",
       " 'life',\n",
       " 'jake',\n",
       " 'closet',\n",
       " 'totally',\n",
       " 'ruins',\n",
       " 'film',\n",
       " 'expected',\n",
       " 'see',\n",
       " 'boogeyman',\n",
       " 'similar',\n",
       " 'movie',\n",
       " 'instead',\n",
       " 'watched',\n",
       " 'drama',\n",
       " 'meaningless',\n",
       " 'thriller',\n",
       " 'spots',\n",
       " 'br',\n",
       " 'br',\n",
       " '3',\n",
       " '10',\n",
       " 'well',\n",
       " 'playing',\n",
       " 'parents',\n",
       " 'descent',\n",
       " 'dialogs',\n",
       " 'shots',\n",
       " 'jake',\n",
       " 'ignore']"
      ]
     },
     "execution_count": 51,
     "metadata": {},
     "output_type": "execute_result"
    }
   ],
   "source": [
    "tokens[3]"
   ]
  },
  {
   "cell_type": "code",
   "execution_count": 52,
   "id": "2a3c0165",
   "metadata": {},
   "outputs": [
    {
     "data": {
      "text/plain": [
       "\"Basically there's a family where a little boy (Jake) thinks there's a zombie in his closet & his parents are fighting all the time.<br /><br />This movie is slower than a soap opera... and suddenly, Jake decides to become Rambo and kill the zombie.<br /><br />OK, first of all when you're going to make a film you must Decide if its a thriller or a drama! As a drama the movie is watchable. Parents are divorcing & arguing like in real life. And then we have Jake with his closet which totally ruins all the film! I expected to see a BOOGEYMAN similar movie, and instead i watched a drama with some meaningless thriller spots.<br /><br />3 out of 10 just for the well playing parents & descent dialogs. As for the shots with Jake: just ignore them.\""
      ]
     },
     "execution_count": 52,
     "metadata": {},
     "output_type": "execute_result"
    }
   ],
   "source": [
    "reviews[3]"
   ]
  },
  {
   "cell_type": "code",
   "execution_count": 53,
   "id": "bf2faa21",
   "metadata": {},
   "outputs": [
    {
     "data": {
      "text/plain": [
       "['movie',\n",
       " 'terrible',\n",
       " 'difficult',\n",
       " 'believe',\n",
       " 'katie',\n",
       " 'became',\n",
       " 'heartfelt',\n",
       " 'teenager',\n",
       " 'power',\n",
       " 'save',\n",
       " 'pity',\n",
       " 'chinese',\n",
       " 'people',\n",
       " 'movie',\n",
       " 'nt',\n",
       " 'show',\n",
       " 'convincing',\n",
       " 'argument',\n",
       " 'prove',\n",
       " 'rest',\n",
       " 'plot',\n",
       " 'nt',\n",
       " 'make',\n",
       " 'effort',\n",
       " 'show',\n",
       " 'us',\n",
       " 'cheap',\n",
       " 'common',\n",
       " 'sense',\n",
       " 'br',\n",
       " 'br',\n",
       " 'plot',\n",
       " 'ridiculous',\n",
       " 'thing',\n",
       " 'extract',\n",
       " 'demonstrate',\n",
       " 'arrogant',\n",
       " 'human',\n",
       " 'katie',\n",
       " 'must',\n",
       " 'inherited',\n",
       " 'arrogance',\n",
       " 'mother',\n",
       " 'annoying',\n",
       " 'character',\n",
       " 'seen',\n",
       " 'long',\n",
       " 'time',\n",
       " 'br',\n",
       " 'br',\n",
       " 'acting',\n",
       " 'scenery',\n",
       " 'ok',\n",
       " 'plot',\n",
       " 'ruins',\n",
       " 'everything',\n",
       " 'full',\n",
       " 'cheap',\n",
       " 'clichés',\n",
       " 'hypocritical',\n",
       " 'scenes',\n",
       " 'expect',\n",
       " 'see',\n",
       " 'movie',\n",
       " 'life',\n",
       " 'skip',\n",
       " 'one']"
      ]
     },
     "execution_count": 53,
     "metadata": {},
     "output_type": "execute_result"
    }
   ],
   "source": [
    "tokens[1495]"
   ]
  },
  {
   "cell_type": "code",
   "execution_count": 54,
   "id": "37b56f5b",
   "metadata": {},
   "outputs": [
    {
     "data": {
      "text/plain": [
       "\"This movie is terrible, it was so difficult to believe that Katie became a heartfelt teenager with the power to save the pity Chinese people, the movie didn't show any convincing argument to prove that. And the rest of the plot didn't make any effort to show us more than a cheap common sense... <br /><br />The plot is ridiculous and the only thing we can extract from it is that it demonstrate how arrogant a human can be. Katie must have inherited her arrogance from her mother, the most annoying character I have seen for a long time. <br /><br />The acting and scenery were OK, but the plot ruins everything, full of cheap clichés and hypocritical scenes, I expect not to see this movie again in my life. Skip this one!\""
      ]
     },
     "execution_count": 54,
     "metadata": {},
     "output_type": "execute_result"
    }
   ],
   "source": [
    "reviews[1495]"
   ]
  },
  {
   "cell_type": "markdown",
   "id": "ad288a6d",
   "metadata": {},
   "source": [
    "# Stemming"
   ]
  },
  {
   "cell_type": "code",
   "execution_count": 55,
   "id": "4aeea363",
   "metadata": {},
   "outputs": [],
   "source": [
    "porter = PorterStemmer()\n",
    "lancaster = LancasterStemmer()"
   ]
  },
  {
   "cell_type": "code",
   "execution_count": 56,
   "id": "f524b5a7",
   "metadata": {},
   "outputs": [
    {
     "data": {
      "text/plain": [
       "'teacher'"
      ]
     },
     "execution_count": 56,
     "metadata": {},
     "output_type": "execute_result"
    }
   ],
   "source": [
    "porter.stem(\"teachers\")"
   ]
  },
  {
   "cell_type": "code",
   "execution_count": 57,
   "id": "79c3e96e",
   "metadata": {},
   "outputs": [
    {
     "data": {
      "text/plain": [
       "'teach'"
      ]
     },
     "execution_count": 57,
     "metadata": {},
     "output_type": "execute_result"
    }
   ],
   "source": [
    "lancaster.stem(\"teachers\")"
   ]
  },
  {
   "cell_type": "code",
   "execution_count": 58,
   "id": "5500088f",
   "metadata": {},
   "outputs": [
    {
     "data": {
      "text/plain": [
       "'absolut'"
      ]
     },
     "execution_count": 58,
     "metadata": {},
     "output_type": "execute_result"
    }
   ],
   "source": [
    "porter.stem(\"absolutely\")"
   ]
  },
  {
   "cell_type": "code",
   "execution_count": 59,
   "id": "a43bb2ba",
   "metadata": {},
   "outputs": [
    {
     "data": {
      "text/plain": [
       "'absolv'"
      ]
     },
     "execution_count": 59,
     "metadata": {},
     "output_type": "execute_result"
    }
   ],
   "source": [
    "lancaster.stem(\"absolutely\")"
   ]
  },
  {
   "cell_type": "code",
   "execution_count": 60,
   "id": "826ea50f",
   "metadata": {},
   "outputs": [],
   "source": [
    "tokens = [[porter.stem(word) for word in t] for t in tokens]"
   ]
  },
  {
   "cell_type": "code",
   "execution_count": 61,
   "id": "06da3738",
   "metadata": {},
   "outputs": [
    {
     "data": {
      "text/plain": [
       "['basic',\n",
       " 's',\n",
       " 'famili',\n",
       " 'littl',\n",
       " 'boy',\n",
       " 'jake',\n",
       " 'think',\n",
       " 's',\n",
       " 'zombi',\n",
       " 'closet',\n",
       " 'parent',\n",
       " 'fight',\n",
       " 'time',\n",
       " 'br',\n",
       " 'br',\n",
       " 'movi',\n",
       " 'slower',\n",
       " 'soap',\n",
       " 'opera',\n",
       " 'suddenli',\n",
       " 'jake',\n",
       " 'decid',\n",
       " 'becom',\n",
       " 'rambo',\n",
       " 'kill',\n",
       " 'zombi',\n",
       " 'br',\n",
       " 'br',\n",
       " 'ok',\n",
       " 'first',\n",
       " 're',\n",
       " 'go',\n",
       " 'make',\n",
       " 'film',\n",
       " 'must',\n",
       " 'decid',\n",
       " 'thriller',\n",
       " 'drama',\n",
       " 'drama',\n",
       " 'movi',\n",
       " 'watchabl',\n",
       " 'parent',\n",
       " 'divorc',\n",
       " 'argu',\n",
       " 'like',\n",
       " 'real',\n",
       " 'life',\n",
       " 'jake',\n",
       " 'closet',\n",
       " 'total',\n",
       " 'ruin',\n",
       " 'film',\n",
       " 'expect',\n",
       " 'see',\n",
       " 'boogeyman',\n",
       " 'similar',\n",
       " 'movi',\n",
       " 'instead',\n",
       " 'watch',\n",
       " 'drama',\n",
       " 'meaningless',\n",
       " 'thriller',\n",
       " 'spot',\n",
       " 'br',\n",
       " 'br',\n",
       " '3',\n",
       " '10',\n",
       " 'well',\n",
       " 'play',\n",
       " 'parent',\n",
       " 'descent',\n",
       " 'dialog',\n",
       " 'shot',\n",
       " 'jake',\n",
       " 'ignor']"
      ]
     },
     "execution_count": 61,
     "metadata": {},
     "output_type": "execute_result"
    }
   ],
   "source": [
    "tokens[3]"
   ]
  },
  {
   "cell_type": "code",
   "execution_count": 62,
   "id": "42a0a985",
   "metadata": {},
   "outputs": [
    {
     "data": {
      "text/plain": [
       "\"Basically there's a family where a little boy (Jake) thinks there's a zombie in his closet & his parents are fighting all the time.<br /><br />This movie is slower than a soap opera... and suddenly, Jake decides to become Rambo and kill the zombie.<br /><br />OK, first of all when you're going to make a film you must Decide if its a thriller or a drama! As a drama the movie is watchable. Parents are divorcing & arguing like in real life. And then we have Jake with his closet which totally ruins all the film! I expected to see a BOOGEYMAN similar movie, and instead i watched a drama with some meaningless thriller spots.<br /><br />3 out of 10 just for the well playing parents & descent dialogs. As for the shots with Jake: just ignore them.\""
      ]
     },
     "execution_count": 62,
     "metadata": {},
     "output_type": "execute_result"
    }
   ],
   "source": [
    "reviews[3]"
   ]
  },
  {
   "cell_type": "code",
   "execution_count": 63,
   "id": "e0692f7b",
   "metadata": {},
   "outputs": [
    {
     "data": {
      "text/plain": [
       "['movi',\n",
       " 'terribl',\n",
       " 'difficult',\n",
       " 'believ',\n",
       " 'kati',\n",
       " 'becam',\n",
       " 'heartfelt',\n",
       " 'teenag',\n",
       " 'power',\n",
       " 'save',\n",
       " 'piti',\n",
       " 'chines',\n",
       " 'peopl',\n",
       " 'movi',\n",
       " 'nt',\n",
       " 'show',\n",
       " 'convinc',\n",
       " 'argument',\n",
       " 'prove',\n",
       " 'rest',\n",
       " 'plot',\n",
       " 'nt',\n",
       " 'make',\n",
       " 'effort',\n",
       " 'show',\n",
       " 'us',\n",
       " 'cheap',\n",
       " 'common',\n",
       " 'sens',\n",
       " 'br',\n",
       " 'br',\n",
       " 'plot',\n",
       " 'ridicul',\n",
       " 'thing',\n",
       " 'extract',\n",
       " 'demonstr',\n",
       " 'arrog',\n",
       " 'human',\n",
       " 'kati',\n",
       " 'must',\n",
       " 'inherit',\n",
       " 'arrog',\n",
       " 'mother',\n",
       " 'annoy',\n",
       " 'charact',\n",
       " 'seen',\n",
       " 'long',\n",
       " 'time',\n",
       " 'br',\n",
       " 'br',\n",
       " 'act',\n",
       " 'sceneri',\n",
       " 'ok',\n",
       " 'plot',\n",
       " 'ruin',\n",
       " 'everyth',\n",
       " 'full',\n",
       " 'cheap',\n",
       " 'cliché',\n",
       " 'hypocrit',\n",
       " 'scene',\n",
       " 'expect',\n",
       " 'see',\n",
       " 'movi',\n",
       " 'life',\n",
       " 'skip',\n",
       " 'one']"
      ]
     },
     "execution_count": 63,
     "metadata": {},
     "output_type": "execute_result"
    }
   ],
   "source": [
    "tokens[1495]"
   ]
  },
  {
   "cell_type": "code",
   "execution_count": 64,
   "id": "8b9ef0d3",
   "metadata": {},
   "outputs": [
    {
     "data": {
      "text/plain": [
       "\"This movie is terrible, it was so difficult to believe that Katie became a heartfelt teenager with the power to save the pity Chinese people, the movie didn't show any convincing argument to prove that. And the rest of the plot didn't make any effort to show us more than a cheap common sense... <br /><br />The plot is ridiculous and the only thing we can extract from it is that it demonstrate how arrogant a human can be. Katie must have inherited her arrogance from her mother, the most annoying character I have seen for a long time. <br /><br />The acting and scenery were OK, but the plot ruins everything, full of cheap clichés and hypocritical scenes, I expect not to see this movie again in my life. Skip this one!\""
      ]
     },
     "execution_count": 64,
     "metadata": {},
     "output_type": "execute_result"
    }
   ],
   "source": [
    "reviews[1495]"
   ]
  },
  {
   "cell_type": "markdown",
   "id": "e5780d6a",
   "metadata": {},
   "source": [
    "# Word count distribution"
   ]
  },
  {
   "cell_type": "code",
   "execution_count": 65,
   "id": "db8705a4",
   "metadata": {},
   "outputs": [],
   "source": [
    "flat_tokens = [word for t in tokens for word in t]"
   ]
  },
  {
   "cell_type": "code",
   "execution_count": 66,
   "id": "1cd37f07",
   "metadata": {},
   "outputs": [
    {
     "data": {
      "text/plain": [
       "6351985"
      ]
     },
     "execution_count": 66,
     "metadata": {},
     "output_type": "execute_result"
    }
   ],
   "source": [
    "len(flat_tokens)"
   ]
  },
  {
   "cell_type": "code",
   "execution_count": 67,
   "id": "4f712e81",
   "metadata": {},
   "outputs": [
    {
     "data": {
      "text/plain": [
       "['one',\n",
       " 'review',\n",
       " 'mention',\n",
       " 'watch',\n",
       " '1',\n",
       " 'oz',\n",
       " 'episod',\n",
       " 'll',\n",
       " 'hook',\n",
       " 'right']"
      ]
     },
     "execution_count": 67,
     "metadata": {},
     "output_type": "execute_result"
    }
   ],
   "source": [
    "flat_tokens[:10]"
   ]
  },
  {
   "cell_type": "code",
   "execution_count": 68,
   "id": "0b7c4641",
   "metadata": {},
   "outputs": [],
   "source": [
    "counts = Counter(flat_tokens)"
   ]
  },
  {
   "cell_type": "code",
   "execution_count": 69,
   "id": "6c0b5e85",
   "metadata": {},
   "outputs": [
    {
     "data": {
      "text/plain": [
       "106191"
      ]
     },
     "execution_count": 69,
     "metadata": {},
     "output_type": "execute_result"
    }
   ],
   "source": [
    "len(counts)"
   ]
  },
  {
   "cell_type": "code",
   "execution_count": 70,
   "id": "27044c50",
   "metadata": {},
   "outputs": [
    {
     "data": {
      "text/plain": [
       "[('br', 201951),\n",
       " ('s', 122283),\n",
       " ('movi', 101673),\n",
       " ('film', 94460),\n",
       " ('nt', 66253),\n",
       " ('one', 54100),\n",
       " ('like', 44290),\n",
       " ('time', 30901),\n",
       " ('good', 29532),\n",
       " ('make', 28726)]"
      ]
     },
     "execution_count": 70,
     "metadata": {},
     "output_type": "execute_result"
    }
   ],
   "source": [
    "counts.most_common(10)"
   ]
  },
  {
   "cell_type": "markdown",
   "id": "8a7145eb",
   "metadata": {},
   "source": [
    "# Bag of Words"
   ]
  },
  {
   "cell_type": "code",
   "execution_count": 71,
   "id": "8ceece36",
   "metadata": {},
   "outputs": [
    {
     "data": {
      "text/plain": [
       "['basic',\n",
       " 's',\n",
       " 'famili',\n",
       " 'littl',\n",
       " 'boy',\n",
       " 'jake',\n",
       " 'think',\n",
       " 's',\n",
       " 'zombi',\n",
       " 'closet',\n",
       " 'parent',\n",
       " 'fight',\n",
       " 'time',\n",
       " 'br',\n",
       " 'br',\n",
       " 'movi',\n",
       " 'slower',\n",
       " 'soap',\n",
       " 'opera',\n",
       " 'suddenli',\n",
       " 'jake',\n",
       " 'decid',\n",
       " 'becom',\n",
       " 'rambo',\n",
       " 'kill',\n",
       " 'zombi',\n",
       " 'br',\n",
       " 'br',\n",
       " 'ok',\n",
       " 'first',\n",
       " 're',\n",
       " 'go',\n",
       " 'make',\n",
       " 'film',\n",
       " 'must',\n",
       " 'decid',\n",
       " 'thriller',\n",
       " 'drama',\n",
       " 'drama',\n",
       " 'movi',\n",
       " 'watchabl',\n",
       " 'parent',\n",
       " 'divorc',\n",
       " 'argu',\n",
       " 'like',\n",
       " 'real',\n",
       " 'life',\n",
       " 'jake',\n",
       " 'closet',\n",
       " 'total',\n",
       " 'ruin',\n",
       " 'film',\n",
       " 'expect',\n",
       " 'see',\n",
       " 'boogeyman',\n",
       " 'similar',\n",
       " 'movi',\n",
       " 'instead',\n",
       " 'watch',\n",
       " 'drama',\n",
       " 'meaningless',\n",
       " 'thriller',\n",
       " 'spot',\n",
       " 'br',\n",
       " 'br',\n",
       " '3',\n",
       " '10',\n",
       " 'well',\n",
       " 'play',\n",
       " 'parent',\n",
       " 'descent',\n",
       " 'dialog',\n",
       " 'shot',\n",
       " 'jake',\n",
       " 'ignor']"
      ]
     },
     "execution_count": 71,
     "metadata": {},
     "output_type": "execute_result"
    }
   ],
   "source": [
    "tokens[3]"
   ]
  },
  {
   "cell_type": "code",
   "execution_count": 72,
   "id": "20148bfa",
   "metadata": {},
   "outputs": [
    {
     "data": {
      "text/plain": [
       "'basic s famili littl boy jake think s zombi closet parent fight time br br movi slower soap opera suddenli jake decid becom rambo kill zombi br br ok first re go make film must decid thriller drama drama movi watchabl parent divorc argu like real life jake closet total ruin film expect see boogeyman similar movi instead watch drama meaningless thriller spot br br 3 10 well play parent descent dialog shot jake ignor'"
      ]
     },
     "execution_count": 72,
     "metadata": {},
     "output_type": "execute_result"
    }
   ],
   "source": [
    "\" \".join(tokens[3])"
   ]
  },
  {
   "cell_type": "code",
   "execution_count": 73,
   "id": "c2182b74",
   "metadata": {},
   "outputs": [],
   "source": [
    "clean_reviews = [\" \".join(t) for t in tokens]"
   ]
  },
  {
   "cell_type": "code",
   "execution_count": 74,
   "id": "534e48d5",
   "metadata": {},
   "outputs": [
    {
     "data": {
      "text/plain": [
       "'basic s famili littl boy jake think s zombi closet parent fight time br br movi slower soap opera suddenli jake decid becom rambo kill zombi br br ok first re go make film must decid thriller drama drama movi watchabl parent divorc argu like real life jake closet total ruin film expect see boogeyman similar movi instead watch drama meaningless thriller spot br br 3 10 well play parent descent dialog shot jake ignor'"
      ]
     },
     "execution_count": 74,
     "metadata": {},
     "output_type": "execute_result"
    }
   ],
   "source": [
    "clean_reviews[3]"
   ]
  },
  {
   "cell_type": "code",
   "execution_count": 75,
   "id": "b6a78b1a",
   "metadata": {},
   "outputs": [
    {
     "data": {
      "text/plain": [
       "'movi terribl difficult believ kati becam heartfelt teenag power save piti chines peopl movi nt show convinc argument prove rest plot nt make effort show us cheap common sens br br plot ridicul thing extract demonstr arrog human kati must inherit arrog mother annoy charact seen long time br br act sceneri ok plot ruin everyth full cheap cliché hypocrit scene expect see movi life skip one'"
      ]
     },
     "execution_count": 75,
     "metadata": {},
     "output_type": "execute_result"
    }
   ],
   "source": [
    "clean_reviews[1495]"
   ]
  },
  {
   "cell_type": "code",
   "execution_count": 76,
   "id": "fd0ab97a",
   "metadata": {},
   "outputs": [],
   "source": [
    "vect = CountVectorizer(binary=True, min_df=5)"
   ]
  },
  {
   "cell_type": "code",
   "execution_count": 77,
   "id": "d35f889d",
   "metadata": {},
   "outputs": [],
   "source": [
    "X = vect.fit_transform(clean_reviews)"
   ]
  },
  {
   "cell_type": "code",
   "execution_count": 78,
   "id": "4039e6ab",
   "metadata": {},
   "outputs": [
    {
     "data": {
      "text/plain": [
       "(50000, 26581)"
      ]
     },
     "execution_count": 78,
     "metadata": {},
     "output_type": "execute_result"
    }
   ],
   "source": [
    "X.shape"
   ]
  },
  {
   "cell_type": "markdown",
   "id": "78d386fd",
   "metadata": {},
   "source": [
    "### Unique words in the vocabulary"
   ]
  },
  {
   "cell_type": "code",
   "execution_count": 79,
   "id": "6c9da9ce",
   "metadata": {},
   "outputs": [
    {
     "data": {
      "text/plain": [
       "26581"
      ]
     },
     "execution_count": 79,
     "metadata": {},
     "output_type": "execute_result"
    }
   ],
   "source": [
    "len(vect.vocabulary_)"
   ]
  },
  {
   "cell_type": "markdown",
   "id": "0b3a9945",
   "metadata": {},
   "source": [
    "### Convert the sparse matrix to array"
   ]
  },
  {
   "cell_type": "code",
   "execution_count": 80,
   "id": "f4a6ce3e",
   "metadata": {},
   "outputs": [
    {
     "data": {
      "text/plain": [
       "scipy.sparse._csr.csr_matrix"
      ]
     },
     "execution_count": 80,
     "metadata": {},
     "output_type": "execute_result"
    }
   ],
   "source": [
    "type(X)"
   ]
  },
  {
   "cell_type": "code",
   "execution_count": 81,
   "id": "40e94c86",
   "metadata": {},
   "outputs": [],
   "source": [
    "X_a = X.toarray()"
   ]
  },
  {
   "cell_type": "code",
   "execution_count": 82,
   "id": "673daeb2",
   "metadata": {},
   "outputs": [
    {
     "data": {
      "text/plain": [
       "(50000, 26581)"
      ]
     },
     "execution_count": 82,
     "metadata": {},
     "output_type": "execute_result"
    }
   ],
   "source": [
    "X_a.shape"
   ]
  },
  {
   "cell_type": "code",
   "execution_count": 83,
   "id": "cd005ed0",
   "metadata": {},
   "outputs": [
    {
     "data": {
      "text/plain": [
       "array([0, 0, 0, ..., 0, 0, 0], dtype=int64)"
      ]
     },
     "execution_count": 83,
     "metadata": {},
     "output_type": "execute_result"
    }
   ],
   "source": [
    "X_a[3,:]"
   ]
  },
  {
   "cell_type": "code",
   "execution_count": 84,
   "id": "35ceddb7",
   "metadata": {},
   "outputs": [
    {
     "data": {
      "text/plain": [
       "53"
      ]
     },
     "execution_count": 84,
     "metadata": {},
     "output_type": "execute_result"
    }
   ],
   "source": [
    "X_a[3,:].sum()"
   ]
  },
  {
   "cell_type": "code",
   "execution_count": 85,
   "id": "e227645e",
   "metadata": {},
   "outputs": [
    {
     "data": {
      "text/plain": [
       "'basic s famili littl boy jake think s zombi closet parent fight time br br movi slower soap opera suddenli jake decid becom rambo kill zombi br br ok first re go make film must decid thriller drama drama movi watchabl parent divorc argu like real life jake closet total ruin film expect see boogeyman similar movi instead watch drama meaningless thriller spot br br 3 10 well play parent descent dialog shot jake ignor'"
      ]
     },
     "execution_count": 85,
     "metadata": {},
     "output_type": "execute_result"
    }
   ],
   "source": [
    "clean_reviews[3]"
   ]
  },
  {
   "cell_type": "code",
   "execution_count": 87,
   "id": "70c921d1",
   "metadata": {},
   "outputs": [
    {
     "data": {
      "text/plain": [
       "11528"
      ]
     },
     "execution_count": 87,
     "metadata": {},
     "output_type": "execute_result"
    }
   ],
   "source": [
    "vect.get_feature_names_out().tolist().index(\"ignor\")\n"
   ]
  },
  {
   "cell_type": "code",
   "execution_count": 88,
   "id": "66fb4b28",
   "metadata": {},
   "outputs": [
    {
     "data": {
      "text/plain": [
       "1"
      ]
     },
     "execution_count": 88,
     "metadata": {},
     "output_type": "execute_result"
    }
   ],
   "source": [
    "X_a[3,11528]"
   ]
  },
  {
   "cell_type": "code",
   "execution_count": 89,
   "id": "b86f5d6a",
   "metadata": {},
   "outputs": [
    {
     "data": {
      "text/plain": [
       "2236"
      ]
     },
     "execution_count": 89,
     "metadata": {},
     "output_type": "execute_result"
    }
   ],
   "source": [
    "vect.get_feature_names_out().tolist().index(\"basic\")"
   ]
  },
  {
   "cell_type": "code",
   "execution_count": 90,
   "id": "1234e9fd",
   "metadata": {},
   "outputs": [
    {
     "data": {
      "text/plain": [
       "1"
      ]
     },
     "execution_count": 90,
     "metadata": {},
     "output_type": "execute_result"
    }
   ],
   "source": [
    "X_a[3,2236]"
   ]
  },
  {
   "cell_type": "code",
   "execution_count": 91,
   "id": "a7733b84",
   "metadata": {},
   "outputs": [
    {
     "data": {
      "text/html": [
       "<div>\n",
       "<style scoped>\n",
       "    .dataframe tbody tr th:only-of-type {\n",
       "        vertical-align: middle;\n",
       "    }\n",
       "\n",
       "    .dataframe tbody tr th {\n",
       "        vertical-align: top;\n",
       "    }\n",
       "\n",
       "    .dataframe thead th {\n",
       "        text-align: right;\n",
       "    }\n",
       "</style>\n",
       "<table border=\"1\" class=\"dataframe\">\n",
       "  <thead>\n",
       "    <tr style=\"text-align: right;\">\n",
       "      <th></th>\n",
       "      <th>review</th>\n",
       "      <th>sentiment</th>\n",
       "    </tr>\n",
       "  </thead>\n",
       "  <tbody>\n",
       "    <tr>\n",
       "      <th>0</th>\n",
       "      <td>One of the other reviewers has mentioned that ...</td>\n",
       "      <td>positive</td>\n",
       "    </tr>\n",
       "    <tr>\n",
       "      <th>1</th>\n",
       "      <td>A wonderful little production. &lt;br /&gt;&lt;br /&gt;The...</td>\n",
       "      <td>positive</td>\n",
       "    </tr>\n",
       "    <tr>\n",
       "      <th>2</th>\n",
       "      <td>I thought this was a wonderful way to spend ti...</td>\n",
       "      <td>positive</td>\n",
       "    </tr>\n",
       "    <tr>\n",
       "      <th>3</th>\n",
       "      <td>Basically there's a family where a little boy ...</td>\n",
       "      <td>negative</td>\n",
       "    </tr>\n",
       "    <tr>\n",
       "      <th>4</th>\n",
       "      <td>Petter Mattei's \"Love in the Time of Money\" is...</td>\n",
       "      <td>positive</td>\n",
       "    </tr>\n",
       "  </tbody>\n",
       "</table>\n",
       "</div>"
      ],
      "text/plain": [
       "                                              review sentiment\n",
       "0  One of the other reviewers has mentioned that ...  positive\n",
       "1  A wonderful little production. <br /><br />The...  positive\n",
       "2  I thought this was a wonderful way to spend ti...  positive\n",
       "3  Basically there's a family where a little boy ...  negative\n",
       "4  Petter Mattei's \"Love in the Time of Money\" is...  positive"
      ]
     },
     "execution_count": 91,
     "metadata": {},
     "output_type": "execute_result"
    }
   ],
   "source": [
    "data.head()"
   ]
  },
  {
   "cell_type": "code",
   "execution_count": 92,
   "id": "f943bead",
   "metadata": {},
   "outputs": [
    {
     "name": "stderr",
     "output_type": "stream",
     "text": [
      "C:\\Users\\ochan\\AppData\\Local\\Temp\\ipykernel_20088\\3470924500.py:1: SettingWithCopyWarning: \n",
      "A value is trying to be set on a copy of a slice from a DataFrame.\n",
      "Try using .loc[row_indexer,col_indexer] = value instead\n",
      "\n",
      "See the caveats in the documentation: https://pandas.pydata.org/pandas-docs/stable/user_guide/indexing.html#returning-a-view-versus-a-copy\n",
      "  data[\"sentiment\"] = data[\"sentiment\"].apply(lambda x: 1 if x==\"positive\" else 0)\n"
     ]
    }
   ],
   "source": [
    "data[\"sentiment\"] = data[\"sentiment\"].apply(lambda x: 1 if x==\"positive\" else 0)"
   ]
  },
  {
   "cell_type": "code",
   "execution_count": 93,
   "id": "7bcead92",
   "metadata": {},
   "outputs": [],
   "source": [
    "y = data[\"sentiment\"]"
   ]
  },
  {
   "cell_type": "markdown",
   "id": "7fcb7804",
   "metadata": {},
   "source": [
    "### Split the dataset into train and test"
   ]
  },
  {
   "cell_type": "code",
   "execution_count": 94,
   "id": "0a0b2968",
   "metadata": {},
   "outputs": [],
   "source": [
    "X_train, X_test, y_train, y_test = train_test_split(X, y, test_size=0.2,\n",
    "                                                   stratify=y, random_state=42)"
   ]
  },
  {
   "cell_type": "markdown",
   "id": "a0f64151",
   "metadata": {},
   "source": [
    "### Build a Logistic Regression model"
   ]
  },
  {
   "cell_type": "code",
   "execution_count": 97,
   "id": "8805bf78",
   "metadata": {},
   "outputs": [],
   "source": [
    "model = LogisticRegression(max_iter=1000)"
   ]
  },
  {
   "cell_type": "code",
   "execution_count": 98,
   "id": "85f9b1a7",
   "metadata": {},
   "outputs": [
    {
     "data": {
      "text/html": [
       "<style>#sk-container-id-2 {\n",
       "  /* Definition of color scheme common for light and dark mode */\n",
       "  --sklearn-color-text: black;\n",
       "  --sklearn-color-line: gray;\n",
       "  /* Definition of color scheme for unfitted estimators */\n",
       "  --sklearn-color-unfitted-level-0: #fff5e6;\n",
       "  --sklearn-color-unfitted-level-1: #f6e4d2;\n",
       "  --sklearn-color-unfitted-level-2: #ffe0b3;\n",
       "  --sklearn-color-unfitted-level-3: chocolate;\n",
       "  /* Definition of color scheme for fitted estimators */\n",
       "  --sklearn-color-fitted-level-0: #f0f8ff;\n",
       "  --sklearn-color-fitted-level-1: #d4ebff;\n",
       "  --sklearn-color-fitted-level-2: #b3dbfd;\n",
       "  --sklearn-color-fitted-level-3: cornflowerblue;\n",
       "\n",
       "  /* Specific color for light theme */\n",
       "  --sklearn-color-text-on-default-background: var(--sg-text-color, var(--theme-code-foreground, var(--jp-content-font-color1, black)));\n",
       "  --sklearn-color-background: var(--sg-background-color, var(--theme-background, var(--jp-layout-color0, white)));\n",
       "  --sklearn-color-border-box: var(--sg-text-color, var(--theme-code-foreground, var(--jp-content-font-color1, black)));\n",
       "  --sklearn-color-icon: #696969;\n",
       "\n",
       "  @media (prefers-color-scheme: dark) {\n",
       "    /* Redefinition of color scheme for dark theme */\n",
       "    --sklearn-color-text-on-default-background: var(--sg-text-color, var(--theme-code-foreground, var(--jp-content-font-color1, white)));\n",
       "    --sklearn-color-background: var(--sg-background-color, var(--theme-background, var(--jp-layout-color0, #111)));\n",
       "    --sklearn-color-border-box: var(--sg-text-color, var(--theme-code-foreground, var(--jp-content-font-color1, white)));\n",
       "    --sklearn-color-icon: #878787;\n",
       "  }\n",
       "}\n",
       "\n",
       "#sk-container-id-2 {\n",
       "  color: var(--sklearn-color-text);\n",
       "}\n",
       "\n",
       "#sk-container-id-2 pre {\n",
       "  padding: 0;\n",
       "}\n",
       "\n",
       "#sk-container-id-2 input.sk-hidden--visually {\n",
       "  border: 0;\n",
       "  clip: rect(1px 1px 1px 1px);\n",
       "  clip: rect(1px, 1px, 1px, 1px);\n",
       "  height: 1px;\n",
       "  margin: -1px;\n",
       "  overflow: hidden;\n",
       "  padding: 0;\n",
       "  position: absolute;\n",
       "  width: 1px;\n",
       "}\n",
       "\n",
       "#sk-container-id-2 div.sk-dashed-wrapped {\n",
       "  border: 1px dashed var(--sklearn-color-line);\n",
       "  margin: 0 0.4em 0.5em 0.4em;\n",
       "  box-sizing: border-box;\n",
       "  padding-bottom: 0.4em;\n",
       "  background-color: var(--sklearn-color-background);\n",
       "}\n",
       "\n",
       "#sk-container-id-2 div.sk-container {\n",
       "  /* jupyter's `normalize.less` sets `[hidden] { display: none; }`\n",
       "     but bootstrap.min.css set `[hidden] { display: none !important; }`\n",
       "     so we also need the `!important` here to be able to override the\n",
       "     default hidden behavior on the sphinx rendered scikit-learn.org.\n",
       "     See: https://github.com/scikit-learn/scikit-learn/issues/21755 */\n",
       "  display: inline-block !important;\n",
       "  position: relative;\n",
       "}\n",
       "\n",
       "#sk-container-id-2 div.sk-text-repr-fallback {\n",
       "  display: none;\n",
       "}\n",
       "\n",
       "div.sk-parallel-item,\n",
       "div.sk-serial,\n",
       "div.sk-item {\n",
       "  /* draw centered vertical line to link estimators */\n",
       "  background-image: linear-gradient(var(--sklearn-color-text-on-default-background), var(--sklearn-color-text-on-default-background));\n",
       "  background-size: 2px 100%;\n",
       "  background-repeat: no-repeat;\n",
       "  background-position: center center;\n",
       "}\n",
       "\n",
       "/* Parallel-specific style estimator block */\n",
       "\n",
       "#sk-container-id-2 div.sk-parallel-item::after {\n",
       "  content: \"\";\n",
       "  width: 100%;\n",
       "  border-bottom: 2px solid var(--sklearn-color-text-on-default-background);\n",
       "  flex-grow: 1;\n",
       "}\n",
       "\n",
       "#sk-container-id-2 div.sk-parallel {\n",
       "  display: flex;\n",
       "  align-items: stretch;\n",
       "  justify-content: center;\n",
       "  background-color: var(--sklearn-color-background);\n",
       "  position: relative;\n",
       "}\n",
       "\n",
       "#sk-container-id-2 div.sk-parallel-item {\n",
       "  display: flex;\n",
       "  flex-direction: column;\n",
       "}\n",
       "\n",
       "#sk-container-id-2 div.sk-parallel-item:first-child::after {\n",
       "  align-self: flex-end;\n",
       "  width: 50%;\n",
       "}\n",
       "\n",
       "#sk-container-id-2 div.sk-parallel-item:last-child::after {\n",
       "  align-self: flex-start;\n",
       "  width: 50%;\n",
       "}\n",
       "\n",
       "#sk-container-id-2 div.sk-parallel-item:only-child::after {\n",
       "  width: 0;\n",
       "}\n",
       "\n",
       "/* Serial-specific style estimator block */\n",
       "\n",
       "#sk-container-id-2 div.sk-serial {\n",
       "  display: flex;\n",
       "  flex-direction: column;\n",
       "  align-items: center;\n",
       "  background-color: var(--sklearn-color-background);\n",
       "  padding-right: 1em;\n",
       "  padding-left: 1em;\n",
       "}\n",
       "\n",
       "\n",
       "/* Toggleable style: style used for estimator/Pipeline/ColumnTransformer box that is\n",
       "clickable and can be expanded/collapsed.\n",
       "- Pipeline and ColumnTransformer use this feature and define the default style\n",
       "- Estimators will overwrite some part of the style using the `sk-estimator` class\n",
       "*/\n",
       "\n",
       "/* Pipeline and ColumnTransformer style (default) */\n",
       "\n",
       "#sk-container-id-2 div.sk-toggleable {\n",
       "  /* Default theme specific background. It is overwritten whether we have a\n",
       "  specific estimator or a Pipeline/ColumnTransformer */\n",
       "  background-color: var(--sklearn-color-background);\n",
       "}\n",
       "\n",
       "/* Toggleable label */\n",
       "#sk-container-id-2 label.sk-toggleable__label {\n",
       "  cursor: pointer;\n",
       "  display: block;\n",
       "  width: 100%;\n",
       "  margin-bottom: 0;\n",
       "  padding: 0.5em;\n",
       "  box-sizing: border-box;\n",
       "  text-align: center;\n",
       "}\n",
       "\n",
       "#sk-container-id-2 label.sk-toggleable__label-arrow:before {\n",
       "  /* Arrow on the left of the label */\n",
       "  content: \"▸\";\n",
       "  float: left;\n",
       "  margin-right: 0.25em;\n",
       "  color: var(--sklearn-color-icon);\n",
       "}\n",
       "\n",
       "#sk-container-id-2 label.sk-toggleable__label-arrow:hover:before {\n",
       "  color: var(--sklearn-color-text);\n",
       "}\n",
       "\n",
       "/* Toggleable content - dropdown */\n",
       "\n",
       "#sk-container-id-2 div.sk-toggleable__content {\n",
       "  max-height: 0;\n",
       "  max-width: 0;\n",
       "  overflow: hidden;\n",
       "  text-align: left;\n",
       "  /* unfitted */\n",
       "  background-color: var(--sklearn-color-unfitted-level-0);\n",
       "}\n",
       "\n",
       "#sk-container-id-2 div.sk-toggleable__content.fitted {\n",
       "  /* fitted */\n",
       "  background-color: var(--sklearn-color-fitted-level-0);\n",
       "}\n",
       "\n",
       "#sk-container-id-2 div.sk-toggleable__content pre {\n",
       "  margin: 0.2em;\n",
       "  border-radius: 0.25em;\n",
       "  color: var(--sklearn-color-text);\n",
       "  /* unfitted */\n",
       "  background-color: var(--sklearn-color-unfitted-level-0);\n",
       "}\n",
       "\n",
       "#sk-container-id-2 div.sk-toggleable__content.fitted pre {\n",
       "  /* unfitted */\n",
       "  background-color: var(--sklearn-color-fitted-level-0);\n",
       "}\n",
       "\n",
       "#sk-container-id-2 input.sk-toggleable__control:checked~div.sk-toggleable__content {\n",
       "  /* Expand drop-down */\n",
       "  max-height: 200px;\n",
       "  max-width: 100%;\n",
       "  overflow: auto;\n",
       "}\n",
       "\n",
       "#sk-container-id-2 input.sk-toggleable__control:checked~label.sk-toggleable__label-arrow:before {\n",
       "  content: \"▾\";\n",
       "}\n",
       "\n",
       "/* Pipeline/ColumnTransformer-specific style */\n",
       "\n",
       "#sk-container-id-2 div.sk-label input.sk-toggleable__control:checked~label.sk-toggleable__label {\n",
       "  color: var(--sklearn-color-text);\n",
       "  background-color: var(--sklearn-color-unfitted-level-2);\n",
       "}\n",
       "\n",
       "#sk-container-id-2 div.sk-label.fitted input.sk-toggleable__control:checked~label.sk-toggleable__label {\n",
       "  background-color: var(--sklearn-color-fitted-level-2);\n",
       "}\n",
       "\n",
       "/* Estimator-specific style */\n",
       "\n",
       "/* Colorize estimator box */\n",
       "#sk-container-id-2 div.sk-estimator input.sk-toggleable__control:checked~label.sk-toggleable__label {\n",
       "  /* unfitted */\n",
       "  background-color: var(--sklearn-color-unfitted-level-2);\n",
       "}\n",
       "\n",
       "#sk-container-id-2 div.sk-estimator.fitted input.sk-toggleable__control:checked~label.sk-toggleable__label {\n",
       "  /* fitted */\n",
       "  background-color: var(--sklearn-color-fitted-level-2);\n",
       "}\n",
       "\n",
       "#sk-container-id-2 div.sk-label label.sk-toggleable__label,\n",
       "#sk-container-id-2 div.sk-label label {\n",
       "  /* The background is the default theme color */\n",
       "  color: var(--sklearn-color-text-on-default-background);\n",
       "}\n",
       "\n",
       "/* On hover, darken the color of the background */\n",
       "#sk-container-id-2 div.sk-label:hover label.sk-toggleable__label {\n",
       "  color: var(--sklearn-color-text);\n",
       "  background-color: var(--sklearn-color-unfitted-level-2);\n",
       "}\n",
       "\n",
       "/* Label box, darken color on hover, fitted */\n",
       "#sk-container-id-2 div.sk-label.fitted:hover label.sk-toggleable__label.fitted {\n",
       "  color: var(--sklearn-color-text);\n",
       "  background-color: var(--sklearn-color-fitted-level-2);\n",
       "}\n",
       "\n",
       "/* Estimator label */\n",
       "\n",
       "#sk-container-id-2 div.sk-label label {\n",
       "  font-family: monospace;\n",
       "  font-weight: bold;\n",
       "  display: inline-block;\n",
       "  line-height: 1.2em;\n",
       "}\n",
       "\n",
       "#sk-container-id-2 div.sk-label-container {\n",
       "  text-align: center;\n",
       "}\n",
       "\n",
       "/* Estimator-specific */\n",
       "#sk-container-id-2 div.sk-estimator {\n",
       "  font-family: monospace;\n",
       "  border: 1px dotted var(--sklearn-color-border-box);\n",
       "  border-radius: 0.25em;\n",
       "  box-sizing: border-box;\n",
       "  margin-bottom: 0.5em;\n",
       "  /* unfitted */\n",
       "  background-color: var(--sklearn-color-unfitted-level-0);\n",
       "}\n",
       "\n",
       "#sk-container-id-2 div.sk-estimator.fitted {\n",
       "  /* fitted */\n",
       "  background-color: var(--sklearn-color-fitted-level-0);\n",
       "}\n",
       "\n",
       "/* on hover */\n",
       "#sk-container-id-2 div.sk-estimator:hover {\n",
       "  /* unfitted */\n",
       "  background-color: var(--sklearn-color-unfitted-level-2);\n",
       "}\n",
       "\n",
       "#sk-container-id-2 div.sk-estimator.fitted:hover {\n",
       "  /* fitted */\n",
       "  background-color: var(--sklearn-color-fitted-level-2);\n",
       "}\n",
       "\n",
       "/* Specification for estimator info (e.g. \"i\" and \"?\") */\n",
       "\n",
       "/* Common style for \"i\" and \"?\" */\n",
       "\n",
       ".sk-estimator-doc-link,\n",
       "a:link.sk-estimator-doc-link,\n",
       "a:visited.sk-estimator-doc-link {\n",
       "  float: right;\n",
       "  font-size: smaller;\n",
       "  line-height: 1em;\n",
       "  font-family: monospace;\n",
       "  background-color: var(--sklearn-color-background);\n",
       "  border-radius: 1em;\n",
       "  height: 1em;\n",
       "  width: 1em;\n",
       "  text-decoration: none !important;\n",
       "  margin-left: 1ex;\n",
       "  /* unfitted */\n",
       "  border: var(--sklearn-color-unfitted-level-1) 1pt solid;\n",
       "  color: var(--sklearn-color-unfitted-level-1);\n",
       "}\n",
       "\n",
       ".sk-estimator-doc-link.fitted,\n",
       "a:link.sk-estimator-doc-link.fitted,\n",
       "a:visited.sk-estimator-doc-link.fitted {\n",
       "  /* fitted */\n",
       "  border: var(--sklearn-color-fitted-level-1) 1pt solid;\n",
       "  color: var(--sklearn-color-fitted-level-1);\n",
       "}\n",
       "\n",
       "/* On hover */\n",
       "div.sk-estimator:hover .sk-estimator-doc-link:hover,\n",
       ".sk-estimator-doc-link:hover,\n",
       "div.sk-label-container:hover .sk-estimator-doc-link:hover,\n",
       ".sk-estimator-doc-link:hover {\n",
       "  /* unfitted */\n",
       "  background-color: var(--sklearn-color-unfitted-level-3);\n",
       "  color: var(--sklearn-color-background);\n",
       "  text-decoration: none;\n",
       "}\n",
       "\n",
       "div.sk-estimator.fitted:hover .sk-estimator-doc-link.fitted:hover,\n",
       ".sk-estimator-doc-link.fitted:hover,\n",
       "div.sk-label-container:hover .sk-estimator-doc-link.fitted:hover,\n",
       ".sk-estimator-doc-link.fitted:hover {\n",
       "  /* fitted */\n",
       "  background-color: var(--sklearn-color-fitted-level-3);\n",
       "  color: var(--sklearn-color-background);\n",
       "  text-decoration: none;\n",
       "}\n",
       "\n",
       "/* Span, style for the box shown on hovering the info icon */\n",
       ".sk-estimator-doc-link span {\n",
       "  display: none;\n",
       "  z-index: 9999;\n",
       "  position: relative;\n",
       "  font-weight: normal;\n",
       "  right: .2ex;\n",
       "  padding: .5ex;\n",
       "  margin: .5ex;\n",
       "  width: min-content;\n",
       "  min-width: 20ex;\n",
       "  max-width: 50ex;\n",
       "  color: var(--sklearn-color-text);\n",
       "  box-shadow: 2pt 2pt 4pt #999;\n",
       "  /* unfitted */\n",
       "  background: var(--sklearn-color-unfitted-level-0);\n",
       "  border: .5pt solid var(--sklearn-color-unfitted-level-3);\n",
       "}\n",
       "\n",
       ".sk-estimator-doc-link.fitted span {\n",
       "  /* fitted */\n",
       "  background: var(--sklearn-color-fitted-level-0);\n",
       "  border: var(--sklearn-color-fitted-level-3);\n",
       "}\n",
       "\n",
       ".sk-estimator-doc-link:hover span {\n",
       "  display: block;\n",
       "}\n",
       "\n",
       "/* \"?\"-specific style due to the `<a>` HTML tag */\n",
       "\n",
       "#sk-container-id-2 a.estimator_doc_link {\n",
       "  float: right;\n",
       "  font-size: 1rem;\n",
       "  line-height: 1em;\n",
       "  font-family: monospace;\n",
       "  background-color: var(--sklearn-color-background);\n",
       "  border-radius: 1rem;\n",
       "  height: 1rem;\n",
       "  width: 1rem;\n",
       "  text-decoration: none;\n",
       "  /* unfitted */\n",
       "  color: var(--sklearn-color-unfitted-level-1);\n",
       "  border: var(--sklearn-color-unfitted-level-1) 1pt solid;\n",
       "}\n",
       "\n",
       "#sk-container-id-2 a.estimator_doc_link.fitted {\n",
       "  /* fitted */\n",
       "  border: var(--sklearn-color-fitted-level-1) 1pt solid;\n",
       "  color: var(--sklearn-color-fitted-level-1);\n",
       "}\n",
       "\n",
       "/* On hover */\n",
       "#sk-container-id-2 a.estimator_doc_link:hover {\n",
       "  /* unfitted */\n",
       "  background-color: var(--sklearn-color-unfitted-level-3);\n",
       "  color: var(--sklearn-color-background);\n",
       "  text-decoration: none;\n",
       "}\n",
       "\n",
       "#sk-container-id-2 a.estimator_doc_link.fitted:hover {\n",
       "  /* fitted */\n",
       "  background-color: var(--sklearn-color-fitted-level-3);\n",
       "}\n",
       "</style><div id=\"sk-container-id-2\" class=\"sk-top-container\"><div class=\"sk-text-repr-fallback\"><pre>LogisticRegression(max_iter=1000)</pre><b>In a Jupyter environment, please rerun this cell to show the HTML representation or trust the notebook. <br />On GitHub, the HTML representation is unable to render, please try loading this page with nbviewer.org.</b></div><div class=\"sk-container\" hidden><div class=\"sk-item\"><div class=\"sk-estimator fitted sk-toggleable\"><input class=\"sk-toggleable__control sk-hidden--visually\" id=\"sk-estimator-id-2\" type=\"checkbox\" checked><label for=\"sk-estimator-id-2\" class=\"sk-toggleable__label fitted sk-toggleable__label-arrow fitted\">&nbsp;&nbsp;LogisticRegression<a class=\"sk-estimator-doc-link fitted\" rel=\"noreferrer\" target=\"_blank\" href=\"https://scikit-learn.org/1.4/modules/generated/sklearn.linear_model.LogisticRegression.html\">?<span>Documentation for LogisticRegression</span></a><span class=\"sk-estimator-doc-link fitted\">i<span>Fitted</span></span></label><div class=\"sk-toggleable__content fitted\"><pre>LogisticRegression(max_iter=1000)</pre></div> </div></div></div></div>"
      ],
      "text/plain": [
       "LogisticRegression(max_iter=1000)"
      ]
     },
     "execution_count": 98,
     "metadata": {},
     "output_type": "execute_result"
    }
   ],
   "source": [
    "model.fit(X_train, y_train)"
   ]
  },
  {
   "cell_type": "code",
   "execution_count": 99,
   "id": "fb0cb2b7",
   "metadata": {},
   "outputs": [],
   "source": [
    "train_pred = model.predict(X_train)"
   ]
  },
  {
   "cell_type": "code",
   "execution_count": 100,
   "id": "3c50f036",
   "metadata": {},
   "outputs": [
    {
     "data": {
      "text/plain": [
       "0.98445"
      ]
     },
     "execution_count": 100,
     "metadata": {},
     "output_type": "execute_result"
    }
   ],
   "source": [
    "accuracy_score(y_train, train_pred)"
   ]
  },
  {
   "cell_type": "code",
   "execution_count": 101,
   "id": "794f093c",
   "metadata": {},
   "outputs": [
    {
     "data": {
      "text/plain": [
       "0.8835"
      ]
     },
     "execution_count": 101,
     "metadata": {},
     "output_type": "execute_result"
    }
   ],
   "source": [
    "test_pred = model.predict(X_test)\n",
    "accuracy_score(y_test, test_pred)"
   ]
  },
  {
   "cell_type": "markdown",
   "id": "400ac5ba",
   "metadata": {},
   "source": [
    "### Save both the vectorizer and the model"
   ]
  },
  {
   "cell_type": "code",
   "execution_count": 105,
   "id": "40b81d04",
   "metadata": {},
   "outputs": [],
   "source": [
    "import os\n",
    "\n",
    "os.makedirs(\"Output\", exist_ok=True)\n",
    "with open(\"Output/binary_count_vectorizer.pkl\", \"wb\") as f:\n",
    "    pickle.dump(vect, f)\n",
    "with open(\"Output/binary_count_model_lr.pkl\", \"wb\") as f:\n",
    "    pickle.dump(model, f)"
   ]
  },
  {
   "cell_type": "markdown",
   "id": "35284dda",
   "metadata": {},
   "source": [
    "### Bag of words without binary"
   ]
  },
  {
   "cell_type": "code",
   "execution_count": 106,
   "id": "cdf59374",
   "metadata": {},
   "outputs": [],
   "source": [
    "vect = CountVectorizer(min_df=5)\n",
    "X = vect.fit_transform(clean_reviews)"
   ]
  },
  {
   "cell_type": "code",
   "execution_count": 107,
   "id": "68f43311",
   "metadata": {},
   "outputs": [],
   "source": [
    "X_a = X.toarray()"
   ]
  },
  {
   "cell_type": "code",
   "execution_count": 108,
   "id": "c220a6ef",
   "metadata": {},
   "outputs": [
    {
     "data": {
      "text/plain": [
       "'basic s famili littl boy jake think s zombi closet parent fight time br br movi slower soap opera suddenli jake decid becom rambo kill zombi br br ok first re go make film must decid thriller drama drama movi watchabl parent divorc argu like real life jake closet total ruin film expect see boogeyman similar movi instead watch drama meaningless thriller spot br br 3 10 well play parent descent dialog shot jake ignor'"
      ]
     },
     "execution_count": 108,
     "metadata": {},
     "output_type": "execute_result"
    }
   ],
   "source": [
    "clean_reviews[3]"
   ]
  },
  {
   "cell_type": "code",
   "execution_count": 109,
   "id": "f5bbee77",
   "metadata": {},
   "outputs": [
    {
     "data": {
      "text/plain": [
       "2236"
      ]
     },
     "execution_count": 109,
     "metadata": {},
     "output_type": "execute_result"
    }
   ],
   "source": [
    "vect.get_feature_names_out().tolist().index(\"basic\")"
   ]
  },
  {
   "cell_type": "code",
   "execution_count": 110,
   "id": "c261e772",
   "metadata": {},
   "outputs": [
    {
     "data": {
      "text/plain": [
       "array([0, 0, 0, ..., 0, 0, 0], dtype=int64)"
      ]
     },
     "execution_count": 110,
     "metadata": {},
     "output_type": "execute_result"
    }
   ],
   "source": [
    "X_a[3,:]"
   ]
  },
  {
   "cell_type": "code",
   "execution_count": 111,
   "id": "c3bd6f76",
   "metadata": {},
   "outputs": [
    {
     "data": {
      "text/plain": [
       "1"
      ]
     },
     "execution_count": 111,
     "metadata": {},
     "output_type": "execute_result"
    }
   ],
   "source": [
    "X_a[3,2236]"
   ]
  },
  {
   "cell_type": "code",
   "execution_count": 112,
   "id": "e49751cc",
   "metadata": {},
   "outputs": [],
   "source": [
    "X_train, X_test, y_train, y_test = train_test_split(X, y, test_size=0.2,\n",
    "                                                   stratify=y, random_state=42)"
   ]
  },
  {
   "cell_type": "code",
   "execution_count": 114,
   "id": "b9913410",
   "metadata": {},
   "outputs": [
    {
     "data": {
      "text/html": [
       "<style>#sk-container-id-4 {\n",
       "  /* Definition of color scheme common for light and dark mode */\n",
       "  --sklearn-color-text: black;\n",
       "  --sklearn-color-line: gray;\n",
       "  /* Definition of color scheme for unfitted estimators */\n",
       "  --sklearn-color-unfitted-level-0: #fff5e6;\n",
       "  --sklearn-color-unfitted-level-1: #f6e4d2;\n",
       "  --sklearn-color-unfitted-level-2: #ffe0b3;\n",
       "  --sklearn-color-unfitted-level-3: chocolate;\n",
       "  /* Definition of color scheme for fitted estimators */\n",
       "  --sklearn-color-fitted-level-0: #f0f8ff;\n",
       "  --sklearn-color-fitted-level-1: #d4ebff;\n",
       "  --sklearn-color-fitted-level-2: #b3dbfd;\n",
       "  --sklearn-color-fitted-level-3: cornflowerblue;\n",
       "\n",
       "  /* Specific color for light theme */\n",
       "  --sklearn-color-text-on-default-background: var(--sg-text-color, var(--theme-code-foreground, var(--jp-content-font-color1, black)));\n",
       "  --sklearn-color-background: var(--sg-background-color, var(--theme-background, var(--jp-layout-color0, white)));\n",
       "  --sklearn-color-border-box: var(--sg-text-color, var(--theme-code-foreground, var(--jp-content-font-color1, black)));\n",
       "  --sklearn-color-icon: #696969;\n",
       "\n",
       "  @media (prefers-color-scheme: dark) {\n",
       "    /* Redefinition of color scheme for dark theme */\n",
       "    --sklearn-color-text-on-default-background: var(--sg-text-color, var(--theme-code-foreground, var(--jp-content-font-color1, white)));\n",
       "    --sklearn-color-background: var(--sg-background-color, var(--theme-background, var(--jp-layout-color0, #111)));\n",
       "    --sklearn-color-border-box: var(--sg-text-color, var(--theme-code-foreground, var(--jp-content-font-color1, white)));\n",
       "    --sklearn-color-icon: #878787;\n",
       "  }\n",
       "}\n",
       "\n",
       "#sk-container-id-4 {\n",
       "  color: var(--sklearn-color-text);\n",
       "}\n",
       "\n",
       "#sk-container-id-4 pre {\n",
       "  padding: 0;\n",
       "}\n",
       "\n",
       "#sk-container-id-4 input.sk-hidden--visually {\n",
       "  border: 0;\n",
       "  clip: rect(1px 1px 1px 1px);\n",
       "  clip: rect(1px, 1px, 1px, 1px);\n",
       "  height: 1px;\n",
       "  margin: -1px;\n",
       "  overflow: hidden;\n",
       "  padding: 0;\n",
       "  position: absolute;\n",
       "  width: 1px;\n",
       "}\n",
       "\n",
       "#sk-container-id-4 div.sk-dashed-wrapped {\n",
       "  border: 1px dashed var(--sklearn-color-line);\n",
       "  margin: 0 0.4em 0.5em 0.4em;\n",
       "  box-sizing: border-box;\n",
       "  padding-bottom: 0.4em;\n",
       "  background-color: var(--sklearn-color-background);\n",
       "}\n",
       "\n",
       "#sk-container-id-4 div.sk-container {\n",
       "  /* jupyter's `normalize.less` sets `[hidden] { display: none; }`\n",
       "     but bootstrap.min.css set `[hidden] { display: none !important; }`\n",
       "     so we also need the `!important` here to be able to override the\n",
       "     default hidden behavior on the sphinx rendered scikit-learn.org.\n",
       "     See: https://github.com/scikit-learn/scikit-learn/issues/21755 */\n",
       "  display: inline-block !important;\n",
       "  position: relative;\n",
       "}\n",
       "\n",
       "#sk-container-id-4 div.sk-text-repr-fallback {\n",
       "  display: none;\n",
       "}\n",
       "\n",
       "div.sk-parallel-item,\n",
       "div.sk-serial,\n",
       "div.sk-item {\n",
       "  /* draw centered vertical line to link estimators */\n",
       "  background-image: linear-gradient(var(--sklearn-color-text-on-default-background), var(--sklearn-color-text-on-default-background));\n",
       "  background-size: 2px 100%;\n",
       "  background-repeat: no-repeat;\n",
       "  background-position: center center;\n",
       "}\n",
       "\n",
       "/* Parallel-specific style estimator block */\n",
       "\n",
       "#sk-container-id-4 div.sk-parallel-item::after {\n",
       "  content: \"\";\n",
       "  width: 100%;\n",
       "  border-bottom: 2px solid var(--sklearn-color-text-on-default-background);\n",
       "  flex-grow: 1;\n",
       "}\n",
       "\n",
       "#sk-container-id-4 div.sk-parallel {\n",
       "  display: flex;\n",
       "  align-items: stretch;\n",
       "  justify-content: center;\n",
       "  background-color: var(--sklearn-color-background);\n",
       "  position: relative;\n",
       "}\n",
       "\n",
       "#sk-container-id-4 div.sk-parallel-item {\n",
       "  display: flex;\n",
       "  flex-direction: column;\n",
       "}\n",
       "\n",
       "#sk-container-id-4 div.sk-parallel-item:first-child::after {\n",
       "  align-self: flex-end;\n",
       "  width: 50%;\n",
       "}\n",
       "\n",
       "#sk-container-id-4 div.sk-parallel-item:last-child::after {\n",
       "  align-self: flex-start;\n",
       "  width: 50%;\n",
       "}\n",
       "\n",
       "#sk-container-id-4 div.sk-parallel-item:only-child::after {\n",
       "  width: 0;\n",
       "}\n",
       "\n",
       "/* Serial-specific style estimator block */\n",
       "\n",
       "#sk-container-id-4 div.sk-serial {\n",
       "  display: flex;\n",
       "  flex-direction: column;\n",
       "  align-items: center;\n",
       "  background-color: var(--sklearn-color-background);\n",
       "  padding-right: 1em;\n",
       "  padding-left: 1em;\n",
       "}\n",
       "\n",
       "\n",
       "/* Toggleable style: style used for estimator/Pipeline/ColumnTransformer box that is\n",
       "clickable and can be expanded/collapsed.\n",
       "- Pipeline and ColumnTransformer use this feature and define the default style\n",
       "- Estimators will overwrite some part of the style using the `sk-estimator` class\n",
       "*/\n",
       "\n",
       "/* Pipeline and ColumnTransformer style (default) */\n",
       "\n",
       "#sk-container-id-4 div.sk-toggleable {\n",
       "  /* Default theme specific background. It is overwritten whether we have a\n",
       "  specific estimator or a Pipeline/ColumnTransformer */\n",
       "  background-color: var(--sklearn-color-background);\n",
       "}\n",
       "\n",
       "/* Toggleable label */\n",
       "#sk-container-id-4 label.sk-toggleable__label {\n",
       "  cursor: pointer;\n",
       "  display: block;\n",
       "  width: 100%;\n",
       "  margin-bottom: 0;\n",
       "  padding: 0.5em;\n",
       "  box-sizing: border-box;\n",
       "  text-align: center;\n",
       "}\n",
       "\n",
       "#sk-container-id-4 label.sk-toggleable__label-arrow:before {\n",
       "  /* Arrow on the left of the label */\n",
       "  content: \"▸\";\n",
       "  float: left;\n",
       "  margin-right: 0.25em;\n",
       "  color: var(--sklearn-color-icon);\n",
       "}\n",
       "\n",
       "#sk-container-id-4 label.sk-toggleable__label-arrow:hover:before {\n",
       "  color: var(--sklearn-color-text);\n",
       "}\n",
       "\n",
       "/* Toggleable content - dropdown */\n",
       "\n",
       "#sk-container-id-4 div.sk-toggleable__content {\n",
       "  max-height: 0;\n",
       "  max-width: 0;\n",
       "  overflow: hidden;\n",
       "  text-align: left;\n",
       "  /* unfitted */\n",
       "  background-color: var(--sklearn-color-unfitted-level-0);\n",
       "}\n",
       "\n",
       "#sk-container-id-4 div.sk-toggleable__content.fitted {\n",
       "  /* fitted */\n",
       "  background-color: var(--sklearn-color-fitted-level-0);\n",
       "}\n",
       "\n",
       "#sk-container-id-4 div.sk-toggleable__content pre {\n",
       "  margin: 0.2em;\n",
       "  border-radius: 0.25em;\n",
       "  color: var(--sklearn-color-text);\n",
       "  /* unfitted */\n",
       "  background-color: var(--sklearn-color-unfitted-level-0);\n",
       "}\n",
       "\n",
       "#sk-container-id-4 div.sk-toggleable__content.fitted pre {\n",
       "  /* unfitted */\n",
       "  background-color: var(--sklearn-color-fitted-level-0);\n",
       "}\n",
       "\n",
       "#sk-container-id-4 input.sk-toggleable__control:checked~div.sk-toggleable__content {\n",
       "  /* Expand drop-down */\n",
       "  max-height: 200px;\n",
       "  max-width: 100%;\n",
       "  overflow: auto;\n",
       "}\n",
       "\n",
       "#sk-container-id-4 input.sk-toggleable__control:checked~label.sk-toggleable__label-arrow:before {\n",
       "  content: \"▾\";\n",
       "}\n",
       "\n",
       "/* Pipeline/ColumnTransformer-specific style */\n",
       "\n",
       "#sk-container-id-4 div.sk-label input.sk-toggleable__control:checked~label.sk-toggleable__label {\n",
       "  color: var(--sklearn-color-text);\n",
       "  background-color: var(--sklearn-color-unfitted-level-2);\n",
       "}\n",
       "\n",
       "#sk-container-id-4 div.sk-label.fitted input.sk-toggleable__control:checked~label.sk-toggleable__label {\n",
       "  background-color: var(--sklearn-color-fitted-level-2);\n",
       "}\n",
       "\n",
       "/* Estimator-specific style */\n",
       "\n",
       "/* Colorize estimator box */\n",
       "#sk-container-id-4 div.sk-estimator input.sk-toggleable__control:checked~label.sk-toggleable__label {\n",
       "  /* unfitted */\n",
       "  background-color: var(--sklearn-color-unfitted-level-2);\n",
       "}\n",
       "\n",
       "#sk-container-id-4 div.sk-estimator.fitted input.sk-toggleable__control:checked~label.sk-toggleable__label {\n",
       "  /* fitted */\n",
       "  background-color: var(--sklearn-color-fitted-level-2);\n",
       "}\n",
       "\n",
       "#sk-container-id-4 div.sk-label label.sk-toggleable__label,\n",
       "#sk-container-id-4 div.sk-label label {\n",
       "  /* The background is the default theme color */\n",
       "  color: var(--sklearn-color-text-on-default-background);\n",
       "}\n",
       "\n",
       "/* On hover, darken the color of the background */\n",
       "#sk-container-id-4 div.sk-label:hover label.sk-toggleable__label {\n",
       "  color: var(--sklearn-color-text);\n",
       "  background-color: var(--sklearn-color-unfitted-level-2);\n",
       "}\n",
       "\n",
       "/* Label box, darken color on hover, fitted */\n",
       "#sk-container-id-4 div.sk-label.fitted:hover label.sk-toggleable__label.fitted {\n",
       "  color: var(--sklearn-color-text);\n",
       "  background-color: var(--sklearn-color-fitted-level-2);\n",
       "}\n",
       "\n",
       "/* Estimator label */\n",
       "\n",
       "#sk-container-id-4 div.sk-label label {\n",
       "  font-family: monospace;\n",
       "  font-weight: bold;\n",
       "  display: inline-block;\n",
       "  line-height: 1.2em;\n",
       "}\n",
       "\n",
       "#sk-container-id-4 div.sk-label-container {\n",
       "  text-align: center;\n",
       "}\n",
       "\n",
       "/* Estimator-specific */\n",
       "#sk-container-id-4 div.sk-estimator {\n",
       "  font-family: monospace;\n",
       "  border: 1px dotted var(--sklearn-color-border-box);\n",
       "  border-radius: 0.25em;\n",
       "  box-sizing: border-box;\n",
       "  margin-bottom: 0.5em;\n",
       "  /* unfitted */\n",
       "  background-color: var(--sklearn-color-unfitted-level-0);\n",
       "}\n",
       "\n",
       "#sk-container-id-4 div.sk-estimator.fitted {\n",
       "  /* fitted */\n",
       "  background-color: var(--sklearn-color-fitted-level-0);\n",
       "}\n",
       "\n",
       "/* on hover */\n",
       "#sk-container-id-4 div.sk-estimator:hover {\n",
       "  /* unfitted */\n",
       "  background-color: var(--sklearn-color-unfitted-level-2);\n",
       "}\n",
       "\n",
       "#sk-container-id-4 div.sk-estimator.fitted:hover {\n",
       "  /* fitted */\n",
       "  background-color: var(--sklearn-color-fitted-level-2);\n",
       "}\n",
       "\n",
       "/* Specification for estimator info (e.g. \"i\" and \"?\") */\n",
       "\n",
       "/* Common style for \"i\" and \"?\" */\n",
       "\n",
       ".sk-estimator-doc-link,\n",
       "a:link.sk-estimator-doc-link,\n",
       "a:visited.sk-estimator-doc-link {\n",
       "  float: right;\n",
       "  font-size: smaller;\n",
       "  line-height: 1em;\n",
       "  font-family: monospace;\n",
       "  background-color: var(--sklearn-color-background);\n",
       "  border-radius: 1em;\n",
       "  height: 1em;\n",
       "  width: 1em;\n",
       "  text-decoration: none !important;\n",
       "  margin-left: 1ex;\n",
       "  /* unfitted */\n",
       "  border: var(--sklearn-color-unfitted-level-1) 1pt solid;\n",
       "  color: var(--sklearn-color-unfitted-level-1);\n",
       "}\n",
       "\n",
       ".sk-estimator-doc-link.fitted,\n",
       "a:link.sk-estimator-doc-link.fitted,\n",
       "a:visited.sk-estimator-doc-link.fitted {\n",
       "  /* fitted */\n",
       "  border: var(--sklearn-color-fitted-level-1) 1pt solid;\n",
       "  color: var(--sklearn-color-fitted-level-1);\n",
       "}\n",
       "\n",
       "/* On hover */\n",
       "div.sk-estimator:hover .sk-estimator-doc-link:hover,\n",
       ".sk-estimator-doc-link:hover,\n",
       "div.sk-label-container:hover .sk-estimator-doc-link:hover,\n",
       ".sk-estimator-doc-link:hover {\n",
       "  /* unfitted */\n",
       "  background-color: var(--sklearn-color-unfitted-level-3);\n",
       "  color: var(--sklearn-color-background);\n",
       "  text-decoration: none;\n",
       "}\n",
       "\n",
       "div.sk-estimator.fitted:hover .sk-estimator-doc-link.fitted:hover,\n",
       ".sk-estimator-doc-link.fitted:hover,\n",
       "div.sk-label-container:hover .sk-estimator-doc-link.fitted:hover,\n",
       ".sk-estimator-doc-link.fitted:hover {\n",
       "  /* fitted */\n",
       "  background-color: var(--sklearn-color-fitted-level-3);\n",
       "  color: var(--sklearn-color-background);\n",
       "  text-decoration: none;\n",
       "}\n",
       "\n",
       "/* Span, style for the box shown on hovering the info icon */\n",
       ".sk-estimator-doc-link span {\n",
       "  display: none;\n",
       "  z-index: 9999;\n",
       "  position: relative;\n",
       "  font-weight: normal;\n",
       "  right: .2ex;\n",
       "  padding: .5ex;\n",
       "  margin: .5ex;\n",
       "  width: min-content;\n",
       "  min-width: 20ex;\n",
       "  max-width: 50ex;\n",
       "  color: var(--sklearn-color-text);\n",
       "  box-shadow: 2pt 2pt 4pt #999;\n",
       "  /* unfitted */\n",
       "  background: var(--sklearn-color-unfitted-level-0);\n",
       "  border: .5pt solid var(--sklearn-color-unfitted-level-3);\n",
       "}\n",
       "\n",
       ".sk-estimator-doc-link.fitted span {\n",
       "  /* fitted */\n",
       "  background: var(--sklearn-color-fitted-level-0);\n",
       "  border: var(--sklearn-color-fitted-level-3);\n",
       "}\n",
       "\n",
       ".sk-estimator-doc-link:hover span {\n",
       "  display: block;\n",
       "}\n",
       "\n",
       "/* \"?\"-specific style due to the `<a>` HTML tag */\n",
       "\n",
       "#sk-container-id-4 a.estimator_doc_link {\n",
       "  float: right;\n",
       "  font-size: 1rem;\n",
       "  line-height: 1em;\n",
       "  font-family: monospace;\n",
       "  background-color: var(--sklearn-color-background);\n",
       "  border-radius: 1rem;\n",
       "  height: 1rem;\n",
       "  width: 1rem;\n",
       "  text-decoration: none;\n",
       "  /* unfitted */\n",
       "  color: var(--sklearn-color-unfitted-level-1);\n",
       "  border: var(--sklearn-color-unfitted-level-1) 1pt solid;\n",
       "}\n",
       "\n",
       "#sk-container-id-4 a.estimator_doc_link.fitted {\n",
       "  /* fitted */\n",
       "  border: var(--sklearn-color-fitted-level-1) 1pt solid;\n",
       "  color: var(--sklearn-color-fitted-level-1);\n",
       "}\n",
       "\n",
       "/* On hover */\n",
       "#sk-container-id-4 a.estimator_doc_link:hover {\n",
       "  /* unfitted */\n",
       "  background-color: var(--sklearn-color-unfitted-level-3);\n",
       "  color: var(--sklearn-color-background);\n",
       "  text-decoration: none;\n",
       "}\n",
       "\n",
       "#sk-container-id-4 a.estimator_doc_link.fitted:hover {\n",
       "  /* fitted */\n",
       "  background-color: var(--sklearn-color-fitted-level-3);\n",
       "}\n",
       "</style><div id=\"sk-container-id-4\" class=\"sk-top-container\"><div class=\"sk-text-repr-fallback\"><pre>LogisticRegression(max_iter=1000)</pre><b>In a Jupyter environment, please rerun this cell to show the HTML representation or trust the notebook. <br />On GitHub, the HTML representation is unable to render, please try loading this page with nbviewer.org.</b></div><div class=\"sk-container\" hidden><div class=\"sk-item\"><div class=\"sk-estimator fitted sk-toggleable\"><input class=\"sk-toggleable__control sk-hidden--visually\" id=\"sk-estimator-id-4\" type=\"checkbox\" checked><label for=\"sk-estimator-id-4\" class=\"sk-toggleable__label fitted sk-toggleable__label-arrow fitted\">&nbsp;&nbsp;LogisticRegression<a class=\"sk-estimator-doc-link fitted\" rel=\"noreferrer\" target=\"_blank\" href=\"https://scikit-learn.org/1.4/modules/generated/sklearn.linear_model.LogisticRegression.html\">?<span>Documentation for LogisticRegression</span></a><span class=\"sk-estimator-doc-link fitted\">i<span>Fitted</span></span></label><div class=\"sk-toggleable__content fitted\"><pre>LogisticRegression(max_iter=1000)</pre></div> </div></div></div></div>"
      ],
      "text/plain": [
       "LogisticRegression(max_iter=1000)"
      ]
     },
     "execution_count": 114,
     "metadata": {},
     "output_type": "execute_result"
    }
   ],
   "source": [
    "\n",
    "model = LogisticRegression(max_iter=1000)\n",
    "model.fit(X_train, y_train)"
   ]
  },
  {
   "cell_type": "code",
   "execution_count": 115,
   "id": "a032e94f",
   "metadata": {},
   "outputs": [
    {
     "name": "stdout",
     "output_type": "stream",
     "text": [
      "Train Accuracy:0.98925\n",
      "Test Accuracy:0.8841\n"
     ]
    }
   ],
   "source": [
    "train_pred = model.predict(X_train)\n",
    "test_pred = model.predict(X_test)\n",
    "print(f\"Train Accuracy:{accuracy_score(y_train, train_pred)}\")\n",
    "print(f\"Test Accuracy:{accuracy_score(y_test, test_pred)}\")"
   ]
  },
  {
   "cell_type": "code",
   "execution_count": 117,
   "id": "d9ee904b",
   "metadata": {},
   "outputs": [],
   "source": [
    "with open(\"Output/count_vectorizer.pkl\", \"wb\") as f:\n",
    "    pickle.dump(vect, f)\n",
    "with open(\"Output/count_model_lr.pkl\", \"wb\") as f:\n",
    "    pickle.dump(model, f)"
   ]
  },
  {
   "cell_type": "markdown",
   "id": "14c02071",
   "metadata": {},
   "source": [
    "# N-grams"
   ]
  },
  {
   "cell_type": "code",
   "execution_count": 118,
   "id": "3143daf0",
   "metadata": {},
   "outputs": [],
   "source": [
    "vect = CountVectorizer(min_df=5, ngram_range=(1,3))\n",
    "X = vect.fit_transform(clean_reviews)"
   ]
  },
  {
   "cell_type": "code",
   "execution_count": 119,
   "id": "4db855d7",
   "metadata": {},
   "outputs": [
    {
     "data": {
      "text/plain": [
       "(50000, 220688)"
      ]
     },
     "execution_count": 119,
     "metadata": {},
     "output_type": "execute_result"
    }
   ],
   "source": [
    "X.shape"
   ]
  },
  {
   "cell_type": "code",
   "execution_count": 120,
   "id": "99e7a226",
   "metadata": {},
   "outputs": [
    {
     "data": {
      "text/plain": [
       "{'one': 139311,\n",
       " 'review': 162539,\n",
       " 'mention': 121345,\n",
       " 'watch': 209165,\n",
       " 'oz': 143189,\n",
       " 'episod': 58786,\n",
       " 'll': 110994,\n",
       " 'hook': 91670,\n",
       " 'right': 163133,\n",
       " 'exactli': 62449,\n",
       " 'happen': 87603,\n",
       " 'me': 120387,\n",
       " 'br': 22654,\n",
       " 'first': 72885,\n",
       " 'thing': 193062,\n",
       " 'struck': 186930,\n",
       " 'brutal': 29988,\n",
       " 'unflinch': 203180,\n",
       " 'scene': 167438,\n",
       " 'violenc': 207079,\n",
       " 'set': 173820,\n",
       " 'word': 215555,\n",
       " 'go': 81434,\n",
       " 'trust': 200651,\n",
       " 'show': 175805,\n",
       " 'faint': 65020,\n",
       " 'heart': 89052,\n",
       " 'timid': 197239,\n",
       " 'pull': 154722,\n",
       " 'punch': 154812,\n",
       " 'regard': 160556,\n",
       " 'drug': 53531,\n",
       " 'sex': 174370,\n",
       " 'hardcor': 88199,\n",
       " 'classic': 37485,\n",
       " 'use': 204531,\n",
       " 'call': 31198,\n",
       " 'nicknam': 133530,\n",
       " 'given': 81107,\n",
       " 'oswald': 142423,\n",
       " 'maximum': 119781,\n",
       " 'secur': 170047,\n",
       " 'state': 183882,\n",
       " 'focus': 74360,\n",
       " 'mainli': 115901,\n",
       " 'emerald': 56242,\n",
       " 'citi': 37212,\n",
       " 'experiment': 63636,\n",
       " 'section': 170033,\n",
       " 'prison': 153108,\n",
       " 'cell': 33631,\n",
       " 'glass': 81314,\n",
       " 'front': 76471,\n",
       " 'face': 64345,\n",
       " 'inward': 97667,\n",
       " 'privaci': 153156,\n",
       " 'high': 90102,\n",
       " 'agenda': 5536,\n",
       " 'em': 56169,\n",
       " 'home': 91336,\n",
       " 'mani': 118084,\n",
       " 'aryan': 12202,\n",
       " 'muslim': 130458,\n",
       " 'gangsta': 77889,\n",
       " 'latino': 104227,\n",
       " 'christian': 36737,\n",
       " 'italian': 97960,\n",
       " 'irish': 97710,\n",
       " 'scuffl': 169589,\n",
       " 'death': 46936,\n",
       " 'stare': 183488,\n",
       " 'dodgi': 51956,\n",
       " 'deal': 46812,\n",
       " 'shadi': 174624,\n",
       " 'agreement': 5725,\n",
       " 'never': 132280,\n",
       " 'far': 66128,\n",
       " 'away': 13892,\n",
       " 'would': 217177,\n",
       " 'say': 166588,\n",
       " 'main': 115726,\n",
       " 'appeal': 11026,\n",
       " 'due': 53710,\n",
       " 'fact': 64543,\n",
       " 'goe': 82363,\n",
       " 'nt': 135037,\n",
       " 'dare': 45751,\n",
       " 'forget': 74964,\n",
       " 'pretti': 152605,\n",
       " 'pictur': 147675,\n",
       " 'paint': 143479,\n",
       " 'mainstream': 115917,\n",
       " 'audienc': 13110,\n",
       " 'charm': 35683,\n",
       " 'romanc': 164382,\n",
       " 'mess': 121557,\n",
       " 'around': 11641,\n",
       " 'ever': 61013,\n",
       " 'saw': 166298,\n",
       " 'nasti': 131335,\n",
       " 'surreal': 189305,\n",
       " 'could': 42389,\n",
       " 'readi': 157886,\n",
       " 'develop': 48966,\n",
       " 'tast': 191168,\n",
       " 'got': 84104,\n",
       " 'accustom': 2345,\n",
       " 'level': 106446,\n",
       " 'graphic': 84685,\n",
       " 'injustic': 96085,\n",
       " 'crook': 44753,\n",
       " 'guard': 86110,\n",
       " 'sold': 179650,\n",
       " 'nickel': 133527,\n",
       " 'inmat': 96097,\n",
       " 'kill': 101101,\n",
       " 'order': 141834,\n",
       " 'get': 78852,\n",
       " 'well': 211590,\n",
       " 'manner': 118757,\n",
       " 'middl': 121966,\n",
       " 'class': 37423,\n",
       " 'turn': 200856,\n",
       " 'bitch': 20396,\n",
       " 'lack': 103054,\n",
       " 'street': 186625,\n",
       " 'skill': 178499,\n",
       " 'experi': 63497,\n",
       " 'may': 119789,\n",
       " 'becom': 16982,\n",
       " 'comfort': 39684,\n",
       " 'uncomfort': 202687,\n",
       " 'view': 206579,\n",
       " 'that': 192648,\n",
       " 'touch': 198619,\n",
       " 'darker': 45914,\n",
       " 'side': 176904,\n",
       " 'one review': 140817,\n",
       " 'review mention': 162623,\n",
       " 'mention watch': 121450,\n",
       " 'episod ll': 58899,\n",
       " 'll hook': 111098,\n",
       " 'exactli happen': 62471,\n",
       " 'me br': 120388,\n",
       " 'br br': 23136,\n",
       " 'br first': 26127,\n",
       " 'first thing': 73413,\n",
       " 'thing struck': 193640,\n",
       " 'scene violenc': 168287,\n",
       " 'set right': 174091,\n",
       " 'right word': 163408,\n",
       " 'word go': 215610,\n",
       " 'faint heart': 65022,\n",
       " 'show pull': 176396,\n",
       " 'pull punch': 154769,\n",
       " 'drug sex': 53574,\n",
       " 'sex violenc': 174472,\n",
       " 'classic use': 37642,\n",
       " 'use word': 204980,\n",
       " 'word br': 215572,\n",
       " 'br call': 25373,\n",
       " 'nicknam given': 133531,\n",
       " 'maximum secur': 119784,\n",
       " 'focus mainli': 74376,\n",
       " 'emerald citi': 56243,\n",
       " 'prison cell': 153115,\n",
       " 'front face': 76490,\n",
       " 'citi home': 37250,\n",
       " 'home mani': 91407,\n",
       " 'never far': 132421,\n",
       " 'far away': 66147,\n",
       " 'away br': 13913,\n",
       " 'br would': 28797,\n",
       " 'would say': 217988,\n",
       " 'say main': 166885,\n",
       " 'main appeal': 115732,\n",
       " 'appeal show': 11065,\n",
       " 'show due': 176005,\n",
       " 'due fact': 53721,\n",
       " 'goe show': 82528,\n",
       " 'show would': 176671,\n",
       " 'would nt': 217763,\n",
       " 'nt dare': 135455,\n",
       " 'pretti pictur': 152808,\n",
       " 'pictur paint': 147769,\n",
       " 'mainstream audienc': 115919,\n",
       " 'nt mess': 136468,\n",
       " 'mess around': 121560,\n",
       " 'around first': 11742,\n",
       " 'first episod': 73020,\n",
       " 'episod ever': 58845,\n",
       " 'ever saw': 61285,\n",
       " 'could nt': 42765,\n",
       " 'nt say': 136914,\n",
       " 'readi watch': 157904,\n",
       " 'watch develop': 209361,\n",
       " 'develop tast': 49074,\n",
       " 'high level': 90153,\n",
       " 'graphic violenc': 84715,\n",
       " 'violenc violenc': 207144,\n",
       " 'll kill': 111103,\n",
       " 'kill order': 101311,\n",
       " 'order get': 141871,\n",
       " 'get away': 78914,\n",
       " 'away well': 14108,\n",
       " 'middl class': 121975,\n",
       " 'due lack': 53726,\n",
       " 'experi watch': 63612,\n",
       " 'may becom': 119814,\n",
       " 'get touch': 79887,\n",
       " 'darker side': 45916,\n",
       " 'one review mention': 140818,\n",
       " 'me br br': 120389,\n",
       " 'br br first': 23894,\n",
       " 'br first thing': 26158,\n",
       " 'word br br': 215573,\n",
       " 'br br call': 23443,\n",
       " 'far away br': 66149,\n",
       " 'away br br': 13914,\n",
       " 'br br would': 25301,\n",
       " 'br would say': 28815,\n",
       " 'show would nt': 176674,\n",
       " 'would nt dare': 217780,\n",
       " 'could nt say': 42836,\n",
       " 'wonder': 215132,\n",
       " 'littl': 110041,\n",
       " 'product': 153826,\n",
       " 'film': 68415,\n",
       " 'techniqu': 191482,\n",
       " 'unassum': 202576,\n",
       " 'fashion': 66463,\n",
       " 'give': 80582,\n",
       " 'sometim': 180538,\n",
       " 'discomfort': 51308,\n",
       " 'sens': 172744,\n",
       " 'realism': 158302,\n",
       " 'entir': 58558,\n",
       " 'piec': 147843,\n",
       " 'actor': 3484,\n",
       " 'extrem': 64016,\n",
       " 'chosen': 36687,\n",
       " 'michael': 121788,\n",
       " 'sheen': 174933,\n",
       " 'voic': 207441,\n",
       " 'pat': 144725,\n",
       " 'truli': 200474,\n",
       " 'see': 170068,\n",
       " 'seamless': 169648,\n",
       " 'edit': 54878,\n",
       " 'guid': 86294,\n",
       " 'refer': 160429,\n",
       " 'william': 213736,\n",
       " 'diari': 49459,\n",
       " 'entri': 58714,\n",
       " 'worth': 216957,\n",
       " 'terrificli': 192470,\n",
       " 'written': 218684,\n",
       " 'perform': 146183,\n",
       " 'master': 119331,\n",
       " 'great': 84788,\n",
       " 'comedi': 39343,\n",
       " 'life': 106656,\n",
       " 'realli': 158540,\n",
       " 'come': 38810,\n",
       " 'fantasi': 66028,\n",
       " 'rather': 156928,\n",
       " 'tradit': 198994,\n",
       " 'dream': 53198,\n",
       " 'remain': 161099,\n",
       " 'solid': 179727,\n",
       " 'disappear': 51086,\n",
       " 'play': 148634,\n",
       " 'knowledg': 102693,\n",
       " 'particularli': 144410,\n",
       " 'concern': 40736,\n",
       " 'orton': 142333,\n",
       " 'halliwel': 87213,\n",
       " 'flat': 73830,\n",
       " 'mural': 129875,\n",
       " 'decor': 47479,\n",
       " 'everi': 61500,\n",
       " 'surfac': 189073,\n",
       " 'terribl': 192252,\n",
       " 'done': 52181,\n",
       " 'wonder littl': 215281,\n",
       " 'littl product': 110407,\n",
       " 'product br': 153841,\n",
       " 'br film': 25985,\n",
       " 'film techniqu': 71258,\n",
       " 'sens realism': 172889,\n",
       " 'entir piec': 58650,\n",
       " 'piec br': 147855,\n",
       " 'br actor': 22756,\n",
       " 'actor extrem': 3645,\n",
       " 'extrem well': 64136,\n",
       " 'well chosen': 211693,\n",
       " 'michael sheen': 121880,\n",
       " 'truli see': 200604,\n",
       " 'well worth': 212332,\n",
       " 'worth watch': 217098,\n",
       " 'written perform': 218751,\n",
       " 'perform piec': 146494,\n",
       " 'product one': 153917,\n",
       " 'one great': 140117,\n",
       " 'great master': 85198,\n",
       " 'comedi life': 39480,\n",
       " 'life br': 106715,\n",
       " 'br realism': 27768,\n",
       " 'realli come': 158679,\n",
       " 'come home': 39015,\n",
       " 'home littl': 91400,\n",
       " 'littl thing': 110495,\n",
       " 'rather use': 157135,\n",
       " 'particularli scene': 144464,\n",
       " 'scene concern': 167585,\n",
       " 'set particularli': 174056,\n",
       " 'terribl well': 192424,\n",
       " 'well done': 211769,\n",
       " 'product br br': 153842,\n",
       " 'br br film': 23887,\n",
       " 'piec br br': 147856,\n",
       " 'br br actor': 23189,\n",
       " 'well worth watch': 212347,\n",
       " 'life br br': 106716,\n",
       " 'br br realism': 24706,\n",
       " 'thought': 195018,\n",
       " 'way': 210494,\n",
       " 'spend': 182245,\n",
       " 'time': 196026,\n",
       " 'hot': 92469,\n",
       " 'summer': 188307,\n",
       " 'weekend': 211485,\n",
       " 'sit': 178162,\n",
       " 'air': 5816,\n",
       " 'condit': 40849,\n",
       " 'theater': 192723,\n",
       " 'lightheart': 107370,\n",
       " 'plot': 149671,\n",
       " 'simplist': 177602,\n",
       " 'dialogu': 49267,\n",
       " 'witti': 214596,\n",
       " 'charact': 34438,\n",
       " 'likabl': 107389,\n",
       " 'even': 59744,\n",
       " 'bread': 29005,\n",
       " 'suspect': 189419,\n",
       " 'serial': 173571,\n",
       " 'killer': 101425,\n",
       " 'disappoint': 51104,\n",
       " 'realiz': 158437,\n",
       " 'match': 119445,\n",
       " 'point': 150360,\n",
       " 'risk': 163555,\n",
       " 'addict': 4852,\n",
       " 'proof': 154213,\n",
       " 'woodi': 215534,\n",
       " 'allen': 6244,\n",
       " 'still': 184476,\n",
       " 'fulli': 76743,\n",
       " 'control': 41654,\n",
       " 'style': 187489,\n",
       " 'us': 204191,\n",
       " 'grown': 86038,\n",
       " 'love': 113529,\n",
       " 'laugh': 104262,\n",
       " 'year': 219310,\n",
       " 'decad': 47145,\n",
       " 've': 205604,\n",
       " 'impress': 95116,\n",
       " 'scarlet': 167398,\n",
       " 'manag': 117927,\n",
       " 'tone': 197997,\n",
       " 'sexi': 174484,\n",
       " 'imag': 94566,\n",
       " 'jump': 99904,\n",
       " 'averag': 13548,\n",
       " 'spirit': 182460,\n",
       " 'young': 220116,\n",
       " 'woman': 214760,\n",
       " 'crown': 44817,\n",
       " 'jewel': 98787,\n",
       " 'career': 32375,\n",
       " 'wittier': 214619,\n",
       " 'devil': 49106,\n",
       " 'wear': 211341,\n",
       " 'prada': 152049,\n",
       " 'interest': 96799,\n",
       " 'superman': 188503,\n",
       " 'friend': 76111,\n",
       " 'thought wonder': 195291,\n",
       " 'wonder way': 215416,\n",
       " 'way spend': 211065,\n",
       " 'spend time': 182317,\n",
       " 'hot summer': 92516,\n",
       " 'air condit': 5827,\n",
       " 'theater watch': 192801,\n",
       " 'lightheart comedi': 107372,\n",
       " 'comedi plot': 39548,\n",
       " 'plot simplist': 150120,\n",
       " 'dialogu witti': 49419,\n",
       " 'witti charact': 214600,\n",
       " 'charact likabl': 34976,\n",
       " 'likabl even': 107397,\n",
       " 'even well': 60800,\n",
       " 'suspect serial': 189443,\n",
       " 'serial killer': 173575,\n",
       " 'killer may': 101484,\n",
       " 'may disappoint': 119849,\n",
       " 'match point': 119474,\n",
       " 'woodi allen': 215535,\n",
       " 'allen still': 6256,\n",
       " 'style mani': 187556,\n",
       " 'mani us': 118663,\n",
       " 'grown love': 86041,\n",
       " 'love br': 113591,\n",
       " 'br laugh': 26716,\n",
       " 'laugh one': 104428,\n",
       " 'comedi year': 39656,\n",
       " 'dare say': 45765,\n",
       " 'decad ve': 47163,\n",
       " 've never': 205770,\n",
       " 'never impress': 132513,\n",
       " 'jump right': 99935,\n",
       " 'young woman': 220318,\n",
       " 'woman br': 214785,\n",
       " 'br may': 26935,\n",
       " 'crown jewel': 44825,\n",
       " 'devil wear': 49118,\n",
       " 'wear prada': 211371,\n",
       " 'great comedi': 84915,\n",
       " 'comedi go': 39448,\n",
       " 'go see': 81996,\n",
       " 'see friend': 170471,\n",
       " 'way spend time': 211070,\n",
       " 'suspect serial killer': 189444,\n",
       " 'love br br': 113592,\n",
       " 'br br laugh': 24261,\n",
       " 'young woman br': 220319,\n",
       " 'woman br br': 214786,\n",
       " 'br br may': 24370,\n",
       " 'devil wear prada': 49119,\n",
       " 'go see friend': 81999,\n",
       " 'basic': 16209,\n",
       " 'famili': 65370,\n",
       " 'boy': 22435,\n",
       " 'jake': 98217,\n",
       " 'think': 193741,\n",
       " 'zombi': 220578,\n",
       " 'closet': 38234,\n",
       " 'parent': 143729,\n",
       " 'fight': 68107,\n",
       " 'movi': 125226,\n",
       " 'slower': 178976,\n",
       " 'soap': 179447,\n",
       " 'opera': 141635,\n",
       " 'suddenli': 188040,\n",
       " 'decid': 47272,\n",
       " 'rambo': 156472,\n",
       " 'ok': 138720,\n",
       " 're': 157249,\n",
       " 'make': 116037,\n",
       " 'must': 130464,\n",
       " 'thriller': 195588,\n",
       " 'drama': 52936,\n",
       " 'watchabl': 210389,\n",
       " 'divorc': 51755,\n",
       " 'argu': 11511,\n",
       " 'like': 107413,\n",
       " 'real': 157916,\n",
       " 'total': 198432,\n",
       " 'ruin': 164905,\n",
       " 'expect': 63227,\n",
       " 'boogeyman': 21527,\n",
       " 'similar': 177257,\n",
       " 'instead': 96390,\n",
       " 'meaningless': 120639,\n",
       " 'spot': 182702,\n",
       " '10': 13,\n",
       " 'descent': 48356,\n",
       " 'dialog': 49183,\n",
       " 'shot': 175530,\n",
       " 'ignor': 94458,\n",
       " 'basic famili': 16235,\n",
       " 'famili littl': 65506,\n",
       " 'littl boy': 110096,\n",
       " 'think zombi': 194508,\n",
       " 'parent fight': 143752,\n",
       " 'fight time': 68231,\n",
       " 'time br': 196140,\n",
       " 'br movi': 27022,\n",
       " 'soap opera': 179451,\n",
       " 'decid becom': 47278,\n",
       " 'kill zombi': 101424,\n",
       " 'zombi br': 220586,\n",
       " 'br ok': 27345,\n",
       " 'ok first': 138745,\n",
       " 'first re': 73311,\n",
       " 're go': 157356,\n",
       " 'go make': 81837,\n",
       " 'make film': 116357,\n",
       " 'film must': 70260,\n",
       " 'must decid': 130520,\n",
       " 'thriller drama': 195601,\n",
       " 'drama movi': 53004,\n",
       " 'movi watchabl': 128590,\n",
       " 'parent divorc': 143744,\n",
       " 'like real': 108837,\n",
       " 'real life': 158086,\n",
       " 'jake closet': 98219,\n",
       " 'total ruin': 198560,\n",
       " 'ruin film': 164921,\n",
       " 'film expect': 69349,\n",
       " 'expect see': 63417,\n",
       " 'similar movi': 177284,\n",
       " 'movi instead': 126717,\n",
       " 'instead watch': 96529,\n",
       " 'watch drama': 209382,\n",
       " 'spot br': 182705,\n",
       " 'br 10': 22657,\n",
       " '10 well': 139,\n",
       " 'well play': 212102,\n",
       " 'time br br': 196141,\n",
       " 'br br movi': 24434,\n",
       " 'zombi br br': 220587,\n",
       " 'br br ok': 24520,\n",
       " 're go make': 157360,\n",
       " 'go make film': 81838,\n",
       " 'make film must': 116380,\n",
       " 'like real life': 108838,\n",
       " 'film expect see': 69351,\n",
       " 'spot br br': 182706,\n",
       " 'br br 10': 23139,\n",
       " 'mattei': 119593,\n",
       " 'money': 124069,\n",
       " 'visual': 207296,\n",
       " 'stun': 187255,\n",
       " 'mr': 128807,\n",
       " 'offer': 138284,\n",
       " 'vivid': 207411,\n",
       " 'portrait': 151346,\n",
       " 'human': 93420,\n",
       " 'relat': 160724,\n",
       " 'seem': 171277,\n",
       " 'tell': 191747,\n",
       " 'power': 151866,\n",
       " 'success': 187866,\n",
       " 'peopl': 145192,\n",
       " 'differ': 49714,\n",
       " 'situat': 178295,\n",
       " 'encount': 56522,\n",
       " 'variat': 205509,\n",
       " 'arthur': 12108,\n",
       " 'theme': 192852,\n",
       " 'director': 50526,\n",
       " 'transfer': 199192,\n",
       " 'action': 3204,\n",
       " 'present': 152445,\n",
       " 'new': 132833,\n",
       " 'york': 220068,\n",
       " 'meet': 120810,\n",
       " 'connect': 41014,\n",
       " 'anoth': 9658,\n",
       " 'next': 133194,\n",
       " 'person': 146886,\n",
       " 'know': 102091,\n",
       " 'previou': 152906,\n",
       " 'contact': 41383,\n",
       " 'stylishli': 187616,\n",
       " 'sophist': 181135,\n",
       " 'luxuri': 114669,\n",
       " 'look': 111910,\n",
       " 'taken': 190550,\n",
       " 'live': 110565,\n",
       " 'world': 216303,\n",
       " 'habitat': 86913,\n",
       " 'soul': 181333,\n",
       " 'stage': 182874,\n",
       " 'loneli': 111574,\n",
       " 'inhabit': 96032,\n",
       " 'big': 19542,\n",
       " 'best': 18341,\n",
       " 'place': 148154,\n",
       " 'find': 72116,\n",
       " 'sincer': 177875,\n",
       " 'fulfil': 76595,\n",
       " 'discern': 51292,\n",
       " 'case': 32713,\n",
       " 'act': 2474,\n",
       " 'good': 82745,\n",
       " 'direct': 50153,\n",
       " 'steve': 184337,\n",
       " 'buscemi': 30655,\n",
       " 'rosario': 164662,\n",
       " 'dawson': 46250,\n",
       " 'carol': 32538,\n",
       " 'kane': 100093,\n",
       " 'imperioli': 94955,\n",
       " 'adrian': 5048,\n",
       " 'grenier': 85729,\n",
       " 'rest': 162072,\n",
       " 'talent': 190678,\n",
       " 'cast': 32878,\n",
       " 'aliv': 6201,\n",
       " 'wish': 214022,\n",
       " 'luck': 114527,\n",
       " 'await': 13822,\n",
       " 'anxious': 10194,\n",
       " 'work': 215711,\n",
       " 'love time': 114170,\n",
       " 'time money': 196642,\n",
       " 'visual stun': 207369,\n",
       " 'stun film': 187267,\n",
       " 'film watch': 71506,\n",
       " 'watch mr': 209923,\n",
       " 'offer us': 138356,\n",
       " 'vivid portrait': 207416,\n",
       " 'portrait human': 151347,\n",
       " 'human relat': 93527,\n",
       " 'relat movi': 160743,\n",
       " 'movi seem': 127938,\n",
       " 'seem tell': 171822,\n",
       " 'tell us': 191955,\n",
       " 'us money': 204384,\n",
       " 'money power': 124195,\n",
       " 'success peopl': 187927,\n",
       " 'peopl differ': 145357,\n",
       " 'differ situat': 49900,\n",
       " 'encount br': 56525,\n",
       " 'play theme': 149317,\n",
       " 'present time': 152510,\n",
       " 'time new': 196695,\n",
       " 'new york': 133088,\n",
       " 'differ charact': 49745,\n",
       " 'charact meet': 35030,\n",
       " 'connect one': 41031,\n",
       " 'one way': 141273,\n",
       " 'way anoth': 210521,\n",
       " 'next person': 133261,\n",
       " 'person one': 147060,\n",
       " 'one seem': 140892,\n",
       " 'seem know': 171547,\n",
       " 'taken see': 190598,\n",
       " 'see peopl': 170874,\n",
       " 'peopl live': 145561,\n",
       " 'live world': 110955,\n",
       " 'world live': 216450,\n",
       " 'br thing': 28410,\n",
       " 'thing one': 193498,\n",
       " 'one get': 140082,\n",
       " 'differ stage': 49905,\n",
       " 'big citi': 19594,\n",
       " 'exactli best': 62452,\n",
       " 'best place': 18683,\n",
       " 'place human': 148256,\n",
       " 'fulfil one': 76603,\n",
       " 'case peopl': 32785,\n",
       " 'peopl encount': 145382,\n",
       " 'br act': 22723,\n",
       " 'act good': 2729,\n",
       " 'good mr': 83442,\n",
       " 'direct steve': 50440,\n",
       " 'steve buscemi': 184344,\n",
       " 'rosario dawson': 164663,\n",
       " 'carol kane': 32542,\n",
       " 'michael imperioli': 121832,\n",
       " 'adrian grenier': 5051,\n",
       " 'talent cast': 190700,\n",
       " 'cast make': 33076,\n",
       " 'make charact': 116168,\n",
       " 'charact come': 34591,\n",
       " 'come aliv': 38838,\n",
       " 'aliv br': 6204,\n",
       " 'br wish': 28761,\n",
       " 'good luck': 83337,\n",
       " 'next work': 133309,\n",
       " 'visual stun film': 207370,\n",
       " 'encount br br': 56526,\n",
       " 'one way anoth': 141274,\n",
       " 'br br thing': 25095,\n",
       " 'br br act': 23187,\n",
       " 'br act good': 22734,\n",
       " 'make charact come': 116170,\n",
       " 'charact come aliv': 34593,\n",
       " 'aliv br br': 6205,\n",
       " 'br br wish': 25282,\n",
       " 'probabl': 153206,\n",
       " 'alltim': 6362,\n",
       " 'favorit': 66824,\n",
       " 'stori': 185306,\n",
       " 'selfless': 172614,\n",
       " 'sacrific': 165347,\n",
       " 'dedic': 47487,\n",
       " 'nobl': 133916,\n",
       " 'caus': 33469,\n",
       " 'preachi': 152102,\n",
       " 'bore': 21850,\n",
       " 'old': 138886,\n",
       " 'despit': 48668,\n",
       " 'seen': 171906,\n",
       " '15': 361,\n",
       " 'last': 103685,\n",
       " '25': 899,\n",
       " 'paul': 144863,\n",
       " 'luka': 114591,\n",
       " 'bring': 29447,\n",
       " 'tear': 191387,\n",
       " 'eye': 64147,\n",
       " 'bett': 18897,\n",
       " 'davi': 46144,\n",
       " 'sympathet': 189833,\n",
       " 'role': 163989,\n",
       " 'delight': 47889,\n",
       " 'kid': 100792,\n",
       " 'grandma': 84649,\n",
       " 'midget': 122028,\n",
       " 'children': 36338,\n",
       " 'fun': 76792,\n",
       " 'mother': 124758,\n",
       " 'slow': 178901,\n",
       " 'awaken': 13833,\n",
       " 'roof': 164545,\n",
       " 'believ': 17749,\n",
       " 'startl': 183869,\n",
       " 'dozen': 52758,\n",
       " 'thumb': 195865,\n",
       " 'alltim favorit': 6365,\n",
       " 'favorit movi': 66874,\n",
       " 'movi stori': 128183,\n",
       " 'nobl caus': 133918,\n",
       " 'bore never': 21989,\n",
       " 'never get': 132455,\n",
       " 'get old': 79556,\n",
       " '15 time': 385,\n",
       " 'time last': 196551,\n",
       " 'last 25': 103698,\n",
       " '25 year': 908,\n",
       " 'paul luka': 144885,\n",
       " 'perform bring': 146238,\n",
       " 'bring tear': 29553,\n",
       " 'tear eye': 191396,\n",
       " 'bett davi': 18898,\n",
       " 'davi one': 46158,\n",
       " 'one truli': 141184,\n",
       " 'sympathet role': 189840,\n",
       " 'say like': 166862,\n",
       " 'children make': 36407,\n",
       " 'make fun': 116420,\n",
       " 'fun watch': 76992,\n",
       " 'watch mother': 209779,\n",
       " 'happen world': 87896,\n",
       " 'alltim favorit movi': 6367,\n",
       " 'never get old': 132463,\n",
       " 'last 25 year': 103700,\n",
       " 'bring tear eye': 29554,\n",
       " 'make fun watch': 116424,\n",
       " 'sure': 188805,\n",
       " 'resurrect': 162281,\n",
       " 'date': 45986,\n",
       " 'seri': 173294,\n",
       " 'tech': 191433,\n",
       " 'today': 197505,\n",
       " 'back': 14293,\n",
       " 'excit': 62949,\n",
       " 'mei': 120933,\n",
       " 'grew': 85738,\n",
       " 'black': 20473,\n",
       " 'white': 212967,\n",
       " 'tv': 201202,\n",
       " 'gunsmok': 86447,\n",
       " 'hero': 89826,\n",
       " 'vote': 207589,\n",
       " 'comeback': 39315,\n",
       " 'sea': 169609,\n",
       " 'need': 131782,\n",
       " 'chang': 34181,\n",
       " 'pace': 143198,\n",
       " 'water': 210411,\n",
       " 'thank': 192577,\n",
       " 'outlet': 142685,\n",
       " 'viewpoint': 206934,\n",
       " 'ole': 139236,\n",
       " 'wan': 208061,\n",
       " 'na': 130913,\n",
       " 'nice': 133327,\n",
       " 'read': 157640,\n",
       " 'plu': 150256,\n",
       " 'rhyme': 162817,\n",
       " 'line': 109526,\n",
       " 'let': 106207,\n",
       " 'submit': 187714,\n",
       " 'leav': 105391,\n",
       " 'doubt': 52605,\n",
       " 'quit': 155818,\n",
       " 'sure would': 189061,\n",
       " 'would like': 217625,\n",
       " 'like see': 108971,\n",
       " 'today would': 197597,\n",
       " 'would bring': 217280,\n",
       " 'bring back': 29456,\n",
       " 'back kid': 14503,\n",
       " 'black white': 20594,\n",
       " 'white tv': 213040,\n",
       " 'hero everi': 89850,\n",
       " 'need chang': 131814,\n",
       " 'chang pace': 34286,\n",
       " 'tv would': 201429,\n",
       " 'would work': 218217,\n",
       " 'work world': 216277,\n",
       " 'world water': 216585,\n",
       " 'way thank': 211108,\n",
       " 'like view': 109306,\n",
       " 'view mani': 206672,\n",
       " 'tv mani': 201294,\n",
       " 'way believ': 210553,\n",
       " 'believ ve': 18059,\n",
       " 've got': 205705,\n",
       " 'wan na': 208062,\n",
       " 'plu point': 150286,\n",
       " 'would 10': 217178,\n",
       " '10 line': 70,\n",
       " 'line would': 109804,\n",
       " 'would let': 217621,\n",
       " 'leav doubt': 105437,\n",
       " 'must go': 130567,\n",
       " 'go let': 81808,\n",
       " 'sure would like': 189062,\n",
       " 'would like see': 217643,\n",
       " 'would bring back': 217281,\n",
       " 'black white tv': 20612,\n",
       " 'amaz': 8399,\n",
       " 'fresh': 76037,\n",
       " 'innov': 96165,\n",
       " 'idea': 94145,\n",
       " '70': 1306,\n",
       " 'brilliant': 29333,\n",
       " 'drop': 53488,\n",
       " '1990': 690,\n",
       " 'funni': 77049,\n",
       " 'anymor': 10229,\n",
       " 'continu': 41503,\n",
       " 'declin': 47466,\n",
       " 'complet': 40283,\n",
       " 'wast': 208998,\n",
       " 'disgrac': 51413,\n",
       " 'fallen': 65323,\n",
       " 'write': 218374,\n",
       " 'pain': 143405,\n",
       " 'bad': 14804,\n",
       " 'almost': 6392,\n",
       " 'mildli': 122367,\n",
       " 'entertain': 58289,\n",
       " 'respit': 162041,\n",
       " 'hard': 88008,\n",
       " 'creator': 44175,\n",
       " 'origin': 141970,\n",
       " 'also': 7003,\n",
       " 'chose': 36675,\n",
       " 'band': 15776,\n",
       " 'hack': 86915,\n",
       " 'follow': 74448,\n",
       " 'recogn': 159991,\n",
       " 'brillianc': 29327,\n",
       " 'fit': 73591,\n",
       " 'replac': 161720,\n",
       " 'mediocr': 120769,\n",
       " 'felt': 67702,\n",
       " 'star': 183174,\n",
       " 'respect': 161981,\n",
       " 'made': 114852,\n",
       " 'huge': 93329,\n",
       " 'aw': 13675,\n",
       " 'ca': 30887,\n",
       " 'show amaz': 175834,\n",
       " 'fresh innov': 76046,\n",
       " 'innov idea': 96170,\n",
       " '70 first': 1323,\n",
       " 'first air': 72918,\n",
       " 'air first': 5833,\n",
       " 'first year': 73540,\n",
       " 'brilliant thing': 29414,\n",
       " 'show realli': 176416,\n",
       " 'realli funni': 158834,\n",
       " 'funni anymor': 77064,\n",
       " 'complet wast': 40524,\n",
       " 'wast time': 209101,\n",
       " 'time today': 197067,\n",
       " 'today br': 197511,\n",
       " 'br truli': 28525,\n",
       " 'far show': 66324,\n",
       " 'pain bad': 143409,\n",
       " 'bad perform': 15326,\n",
       " 'perform almost': 146197,\n",
       " 'almost bad': 6423,\n",
       " 'mildli entertain': 122372,\n",
       " 'show probabl': 176384,\n",
       " 'probabl would': 153449,\n",
       " 'nt still': 137135,\n",
       " 'still air': 184485,\n",
       " 'find hard': 72297,\n",
       " 'hard believ': 88020,\n",
       " 'believ creator': 17807,\n",
       " 'origin cast': 142012,\n",
       " 'cast also': 32893,\n",
       " 'follow one': 74549,\n",
       " 'one recogn': 140789,\n",
       " 'see fit': 170454,\n",
       " 'must give': 130564,\n",
       " 'give star': 81011,\n",
       " 'respect origin': 162019,\n",
       " 'cast made': 33073,\n",
       " 'made show': 115407,\n",
       " 'show huge': 176171,\n",
       " 'huge success': 93375,\n",
       " 'success show': 187940,\n",
       " 'show aw': 175855,\n",
       " 'aw ca': 13697,\n",
       " 'ca nt': 30888,\n",
       " 'nt believ': 135202,\n",
       " 'believ still': 18029,\n",
       " 'show realli funni': 176417,\n",
       " 'complet wast time': 40528,\n",
       " 'today br br': 197512,\n",
       " 'br br truli': 25160,\n",
       " 'probabl would nt': 153453,\n",
       " 'find hard believ': 72298,\n",
       " 'aw ca nt': 13698,\n",
       " 'ca nt believ': 30906,\n",
       " 'encourag': 56537,\n",
       " 'posit': 151486,\n",
       " 'comment': 39785,\n",
       " 'forward': 75233,\n",
       " 'mistak': 123452,\n",
       " '950': 1560,\n",
       " 'worst': 216767,\n",
       " 'storylin': 186339,\n",
       " 'soundtrack': 181546,\n",
       " 'song': 180866,\n",
       " 'lame': 103375,\n",
       " 'countri': 43172,\n",
       " 'tune': 200796,\n",
       " 'less': 106020,\n",
       " 'four': 75514,\n",
       " 'cheap': 35827,\n",
       " 'rare': 156662,\n",
       " 'happi': 87905,\n",
       " 'end': 56549,\n",
       " 'credit': 44237,\n",
       " 'prevent': 152885,\n",
       " 'harvey': 88425,\n",
       " 'keitel': 100521,\n",
       " 'least': 105099,\n",
       " 'bit': 20102,\n",
       " 'effort': 55387,\n",
       " 'obsess': 137884,\n",
       " 'posit comment': 151494,\n",
       " 'comment film': 39819,\n",
       " 'film look': 70027,\n",
       " 'look forward': 112138,\n",
       " 'forward watch': 75270,\n",
       " 'watch film': 209464,\n",
       " 'film bad': 68700,\n",
       " 'bad mistak': 15210,\n",
       " 've seen': 205832,\n",
       " 'film truli': 71392,\n",
       " 'truli one': 200585,\n",
       " 'one worst': 141327,\n",
       " 'aw almost': 13682,\n",
       " 'almost everi': 6470,\n",
       " 'everi way': 61799,\n",
       " 'way edit': 210663,\n",
       " 'edit pace': 54933,\n",
       " 'pace storylin': 143276,\n",
       " 'storylin act': 186340,\n",
       " 'act soundtrack': 3060,\n",
       " 'soundtrack film': 181573,\n",
       " 'film song': 71071,\n",
       " 'tune play': 200809,\n",
       " 'play less': 149015,\n",
       " 'less four': 106067,\n",
       " 'four time': 75568,\n",
       " 'time film': 196383,\n",
       " 'look cheap': 112008,\n",
       " 'cheap nasti': 35869,\n",
       " 'bore extrem': 21915,\n",
       " 'extrem rare': 64109,\n",
       " 'happi see': 87969,\n",
       " 'see end': 170334,\n",
       " 'end credit': 56675,\n",
       " 'credit film': 44265,\n",
       " 'film br': 68804,\n",
       " 'thing prevent': 193535,\n",
       " 'harvey keitel': 88426,\n",
       " 'far best': 66160,\n",
       " 'best perform': 18663,\n",
       " 'perform least': 146409,\n",
       " 'least seem': 105314,\n",
       " 'seem make': 171636,\n",
       " 'make bit': 116128,\n",
       " 'bit effort': 20184,\n",
       " 'effort one': 55428,\n",
       " ...}"
      ]
     },
     "execution_count": 120,
     "metadata": {},
     "output_type": "execute_result"
    }
   ],
   "source": [
    "vect.vocabulary_"
   ]
  },
  {
   "cell_type": "code",
   "execution_count": 121,
   "id": "25c98ea8",
   "metadata": {},
   "outputs": [],
   "source": [
    "X_train, X_test, y_train, y_test = train_test_split(X, y, test_size=0.2,\n",
    "                                                   stratify=y, random_state=42)"
   ]
  },
  {
   "cell_type": "code",
   "execution_count": 122,
   "id": "87365566",
   "metadata": {},
   "outputs": [
    {
     "data": {
      "text/html": [
       "<style>#sk-container-id-5 {\n",
       "  /* Definition of color scheme common for light and dark mode */\n",
       "  --sklearn-color-text: black;\n",
       "  --sklearn-color-line: gray;\n",
       "  /* Definition of color scheme for unfitted estimators */\n",
       "  --sklearn-color-unfitted-level-0: #fff5e6;\n",
       "  --sklearn-color-unfitted-level-1: #f6e4d2;\n",
       "  --sklearn-color-unfitted-level-2: #ffe0b3;\n",
       "  --sklearn-color-unfitted-level-3: chocolate;\n",
       "  /* Definition of color scheme for fitted estimators */\n",
       "  --sklearn-color-fitted-level-0: #f0f8ff;\n",
       "  --sklearn-color-fitted-level-1: #d4ebff;\n",
       "  --sklearn-color-fitted-level-2: #b3dbfd;\n",
       "  --sklearn-color-fitted-level-3: cornflowerblue;\n",
       "\n",
       "  /* Specific color for light theme */\n",
       "  --sklearn-color-text-on-default-background: var(--sg-text-color, var(--theme-code-foreground, var(--jp-content-font-color1, black)));\n",
       "  --sklearn-color-background: var(--sg-background-color, var(--theme-background, var(--jp-layout-color0, white)));\n",
       "  --sklearn-color-border-box: var(--sg-text-color, var(--theme-code-foreground, var(--jp-content-font-color1, black)));\n",
       "  --sklearn-color-icon: #696969;\n",
       "\n",
       "  @media (prefers-color-scheme: dark) {\n",
       "    /* Redefinition of color scheme for dark theme */\n",
       "    --sklearn-color-text-on-default-background: var(--sg-text-color, var(--theme-code-foreground, var(--jp-content-font-color1, white)));\n",
       "    --sklearn-color-background: var(--sg-background-color, var(--theme-background, var(--jp-layout-color0, #111)));\n",
       "    --sklearn-color-border-box: var(--sg-text-color, var(--theme-code-foreground, var(--jp-content-font-color1, white)));\n",
       "    --sklearn-color-icon: #878787;\n",
       "  }\n",
       "}\n",
       "\n",
       "#sk-container-id-5 {\n",
       "  color: var(--sklearn-color-text);\n",
       "}\n",
       "\n",
       "#sk-container-id-5 pre {\n",
       "  padding: 0;\n",
       "}\n",
       "\n",
       "#sk-container-id-5 input.sk-hidden--visually {\n",
       "  border: 0;\n",
       "  clip: rect(1px 1px 1px 1px);\n",
       "  clip: rect(1px, 1px, 1px, 1px);\n",
       "  height: 1px;\n",
       "  margin: -1px;\n",
       "  overflow: hidden;\n",
       "  padding: 0;\n",
       "  position: absolute;\n",
       "  width: 1px;\n",
       "}\n",
       "\n",
       "#sk-container-id-5 div.sk-dashed-wrapped {\n",
       "  border: 1px dashed var(--sklearn-color-line);\n",
       "  margin: 0 0.4em 0.5em 0.4em;\n",
       "  box-sizing: border-box;\n",
       "  padding-bottom: 0.4em;\n",
       "  background-color: var(--sklearn-color-background);\n",
       "}\n",
       "\n",
       "#sk-container-id-5 div.sk-container {\n",
       "  /* jupyter's `normalize.less` sets `[hidden] { display: none; }`\n",
       "     but bootstrap.min.css set `[hidden] { display: none !important; }`\n",
       "     so we also need the `!important` here to be able to override the\n",
       "     default hidden behavior on the sphinx rendered scikit-learn.org.\n",
       "     See: https://github.com/scikit-learn/scikit-learn/issues/21755 */\n",
       "  display: inline-block !important;\n",
       "  position: relative;\n",
       "}\n",
       "\n",
       "#sk-container-id-5 div.sk-text-repr-fallback {\n",
       "  display: none;\n",
       "}\n",
       "\n",
       "div.sk-parallel-item,\n",
       "div.sk-serial,\n",
       "div.sk-item {\n",
       "  /* draw centered vertical line to link estimators */\n",
       "  background-image: linear-gradient(var(--sklearn-color-text-on-default-background), var(--sklearn-color-text-on-default-background));\n",
       "  background-size: 2px 100%;\n",
       "  background-repeat: no-repeat;\n",
       "  background-position: center center;\n",
       "}\n",
       "\n",
       "/* Parallel-specific style estimator block */\n",
       "\n",
       "#sk-container-id-5 div.sk-parallel-item::after {\n",
       "  content: \"\";\n",
       "  width: 100%;\n",
       "  border-bottom: 2px solid var(--sklearn-color-text-on-default-background);\n",
       "  flex-grow: 1;\n",
       "}\n",
       "\n",
       "#sk-container-id-5 div.sk-parallel {\n",
       "  display: flex;\n",
       "  align-items: stretch;\n",
       "  justify-content: center;\n",
       "  background-color: var(--sklearn-color-background);\n",
       "  position: relative;\n",
       "}\n",
       "\n",
       "#sk-container-id-5 div.sk-parallel-item {\n",
       "  display: flex;\n",
       "  flex-direction: column;\n",
       "}\n",
       "\n",
       "#sk-container-id-5 div.sk-parallel-item:first-child::after {\n",
       "  align-self: flex-end;\n",
       "  width: 50%;\n",
       "}\n",
       "\n",
       "#sk-container-id-5 div.sk-parallel-item:last-child::after {\n",
       "  align-self: flex-start;\n",
       "  width: 50%;\n",
       "}\n",
       "\n",
       "#sk-container-id-5 div.sk-parallel-item:only-child::after {\n",
       "  width: 0;\n",
       "}\n",
       "\n",
       "/* Serial-specific style estimator block */\n",
       "\n",
       "#sk-container-id-5 div.sk-serial {\n",
       "  display: flex;\n",
       "  flex-direction: column;\n",
       "  align-items: center;\n",
       "  background-color: var(--sklearn-color-background);\n",
       "  padding-right: 1em;\n",
       "  padding-left: 1em;\n",
       "}\n",
       "\n",
       "\n",
       "/* Toggleable style: style used for estimator/Pipeline/ColumnTransformer box that is\n",
       "clickable and can be expanded/collapsed.\n",
       "- Pipeline and ColumnTransformer use this feature and define the default style\n",
       "- Estimators will overwrite some part of the style using the `sk-estimator` class\n",
       "*/\n",
       "\n",
       "/* Pipeline and ColumnTransformer style (default) */\n",
       "\n",
       "#sk-container-id-5 div.sk-toggleable {\n",
       "  /* Default theme specific background. It is overwritten whether we have a\n",
       "  specific estimator or a Pipeline/ColumnTransformer */\n",
       "  background-color: var(--sklearn-color-background);\n",
       "}\n",
       "\n",
       "/* Toggleable label */\n",
       "#sk-container-id-5 label.sk-toggleable__label {\n",
       "  cursor: pointer;\n",
       "  display: block;\n",
       "  width: 100%;\n",
       "  margin-bottom: 0;\n",
       "  padding: 0.5em;\n",
       "  box-sizing: border-box;\n",
       "  text-align: center;\n",
       "}\n",
       "\n",
       "#sk-container-id-5 label.sk-toggleable__label-arrow:before {\n",
       "  /* Arrow on the left of the label */\n",
       "  content: \"▸\";\n",
       "  float: left;\n",
       "  margin-right: 0.25em;\n",
       "  color: var(--sklearn-color-icon);\n",
       "}\n",
       "\n",
       "#sk-container-id-5 label.sk-toggleable__label-arrow:hover:before {\n",
       "  color: var(--sklearn-color-text);\n",
       "}\n",
       "\n",
       "/* Toggleable content - dropdown */\n",
       "\n",
       "#sk-container-id-5 div.sk-toggleable__content {\n",
       "  max-height: 0;\n",
       "  max-width: 0;\n",
       "  overflow: hidden;\n",
       "  text-align: left;\n",
       "  /* unfitted */\n",
       "  background-color: var(--sklearn-color-unfitted-level-0);\n",
       "}\n",
       "\n",
       "#sk-container-id-5 div.sk-toggleable__content.fitted {\n",
       "  /* fitted */\n",
       "  background-color: var(--sklearn-color-fitted-level-0);\n",
       "}\n",
       "\n",
       "#sk-container-id-5 div.sk-toggleable__content pre {\n",
       "  margin: 0.2em;\n",
       "  border-radius: 0.25em;\n",
       "  color: var(--sklearn-color-text);\n",
       "  /* unfitted */\n",
       "  background-color: var(--sklearn-color-unfitted-level-0);\n",
       "}\n",
       "\n",
       "#sk-container-id-5 div.sk-toggleable__content.fitted pre {\n",
       "  /* unfitted */\n",
       "  background-color: var(--sklearn-color-fitted-level-0);\n",
       "}\n",
       "\n",
       "#sk-container-id-5 input.sk-toggleable__control:checked~div.sk-toggleable__content {\n",
       "  /* Expand drop-down */\n",
       "  max-height: 200px;\n",
       "  max-width: 100%;\n",
       "  overflow: auto;\n",
       "}\n",
       "\n",
       "#sk-container-id-5 input.sk-toggleable__control:checked~label.sk-toggleable__label-arrow:before {\n",
       "  content: \"▾\";\n",
       "}\n",
       "\n",
       "/* Pipeline/ColumnTransformer-specific style */\n",
       "\n",
       "#sk-container-id-5 div.sk-label input.sk-toggleable__control:checked~label.sk-toggleable__label {\n",
       "  color: var(--sklearn-color-text);\n",
       "  background-color: var(--sklearn-color-unfitted-level-2);\n",
       "}\n",
       "\n",
       "#sk-container-id-5 div.sk-label.fitted input.sk-toggleable__control:checked~label.sk-toggleable__label {\n",
       "  background-color: var(--sklearn-color-fitted-level-2);\n",
       "}\n",
       "\n",
       "/* Estimator-specific style */\n",
       "\n",
       "/* Colorize estimator box */\n",
       "#sk-container-id-5 div.sk-estimator input.sk-toggleable__control:checked~label.sk-toggleable__label {\n",
       "  /* unfitted */\n",
       "  background-color: var(--sklearn-color-unfitted-level-2);\n",
       "}\n",
       "\n",
       "#sk-container-id-5 div.sk-estimator.fitted input.sk-toggleable__control:checked~label.sk-toggleable__label {\n",
       "  /* fitted */\n",
       "  background-color: var(--sklearn-color-fitted-level-2);\n",
       "}\n",
       "\n",
       "#sk-container-id-5 div.sk-label label.sk-toggleable__label,\n",
       "#sk-container-id-5 div.sk-label label {\n",
       "  /* The background is the default theme color */\n",
       "  color: var(--sklearn-color-text-on-default-background);\n",
       "}\n",
       "\n",
       "/* On hover, darken the color of the background */\n",
       "#sk-container-id-5 div.sk-label:hover label.sk-toggleable__label {\n",
       "  color: var(--sklearn-color-text);\n",
       "  background-color: var(--sklearn-color-unfitted-level-2);\n",
       "}\n",
       "\n",
       "/* Label box, darken color on hover, fitted */\n",
       "#sk-container-id-5 div.sk-label.fitted:hover label.sk-toggleable__label.fitted {\n",
       "  color: var(--sklearn-color-text);\n",
       "  background-color: var(--sklearn-color-fitted-level-2);\n",
       "}\n",
       "\n",
       "/* Estimator label */\n",
       "\n",
       "#sk-container-id-5 div.sk-label label {\n",
       "  font-family: monospace;\n",
       "  font-weight: bold;\n",
       "  display: inline-block;\n",
       "  line-height: 1.2em;\n",
       "}\n",
       "\n",
       "#sk-container-id-5 div.sk-label-container {\n",
       "  text-align: center;\n",
       "}\n",
       "\n",
       "/* Estimator-specific */\n",
       "#sk-container-id-5 div.sk-estimator {\n",
       "  font-family: monospace;\n",
       "  border: 1px dotted var(--sklearn-color-border-box);\n",
       "  border-radius: 0.25em;\n",
       "  box-sizing: border-box;\n",
       "  margin-bottom: 0.5em;\n",
       "  /* unfitted */\n",
       "  background-color: var(--sklearn-color-unfitted-level-0);\n",
       "}\n",
       "\n",
       "#sk-container-id-5 div.sk-estimator.fitted {\n",
       "  /* fitted */\n",
       "  background-color: var(--sklearn-color-fitted-level-0);\n",
       "}\n",
       "\n",
       "/* on hover */\n",
       "#sk-container-id-5 div.sk-estimator:hover {\n",
       "  /* unfitted */\n",
       "  background-color: var(--sklearn-color-unfitted-level-2);\n",
       "}\n",
       "\n",
       "#sk-container-id-5 div.sk-estimator.fitted:hover {\n",
       "  /* fitted */\n",
       "  background-color: var(--sklearn-color-fitted-level-2);\n",
       "}\n",
       "\n",
       "/* Specification for estimator info (e.g. \"i\" and \"?\") */\n",
       "\n",
       "/* Common style for \"i\" and \"?\" */\n",
       "\n",
       ".sk-estimator-doc-link,\n",
       "a:link.sk-estimator-doc-link,\n",
       "a:visited.sk-estimator-doc-link {\n",
       "  float: right;\n",
       "  font-size: smaller;\n",
       "  line-height: 1em;\n",
       "  font-family: monospace;\n",
       "  background-color: var(--sklearn-color-background);\n",
       "  border-radius: 1em;\n",
       "  height: 1em;\n",
       "  width: 1em;\n",
       "  text-decoration: none !important;\n",
       "  margin-left: 1ex;\n",
       "  /* unfitted */\n",
       "  border: var(--sklearn-color-unfitted-level-1) 1pt solid;\n",
       "  color: var(--sklearn-color-unfitted-level-1);\n",
       "}\n",
       "\n",
       ".sk-estimator-doc-link.fitted,\n",
       "a:link.sk-estimator-doc-link.fitted,\n",
       "a:visited.sk-estimator-doc-link.fitted {\n",
       "  /* fitted */\n",
       "  border: var(--sklearn-color-fitted-level-1) 1pt solid;\n",
       "  color: var(--sklearn-color-fitted-level-1);\n",
       "}\n",
       "\n",
       "/* On hover */\n",
       "div.sk-estimator:hover .sk-estimator-doc-link:hover,\n",
       ".sk-estimator-doc-link:hover,\n",
       "div.sk-label-container:hover .sk-estimator-doc-link:hover,\n",
       ".sk-estimator-doc-link:hover {\n",
       "  /* unfitted */\n",
       "  background-color: var(--sklearn-color-unfitted-level-3);\n",
       "  color: var(--sklearn-color-background);\n",
       "  text-decoration: none;\n",
       "}\n",
       "\n",
       "div.sk-estimator.fitted:hover .sk-estimator-doc-link.fitted:hover,\n",
       ".sk-estimator-doc-link.fitted:hover,\n",
       "div.sk-label-container:hover .sk-estimator-doc-link.fitted:hover,\n",
       ".sk-estimator-doc-link.fitted:hover {\n",
       "  /* fitted */\n",
       "  background-color: var(--sklearn-color-fitted-level-3);\n",
       "  color: var(--sklearn-color-background);\n",
       "  text-decoration: none;\n",
       "}\n",
       "\n",
       "/* Span, style for the box shown on hovering the info icon */\n",
       ".sk-estimator-doc-link span {\n",
       "  display: none;\n",
       "  z-index: 9999;\n",
       "  position: relative;\n",
       "  font-weight: normal;\n",
       "  right: .2ex;\n",
       "  padding: .5ex;\n",
       "  margin: .5ex;\n",
       "  width: min-content;\n",
       "  min-width: 20ex;\n",
       "  max-width: 50ex;\n",
       "  color: var(--sklearn-color-text);\n",
       "  box-shadow: 2pt 2pt 4pt #999;\n",
       "  /* unfitted */\n",
       "  background: var(--sklearn-color-unfitted-level-0);\n",
       "  border: .5pt solid var(--sklearn-color-unfitted-level-3);\n",
       "}\n",
       "\n",
       ".sk-estimator-doc-link.fitted span {\n",
       "  /* fitted */\n",
       "  background: var(--sklearn-color-fitted-level-0);\n",
       "  border: var(--sklearn-color-fitted-level-3);\n",
       "}\n",
       "\n",
       ".sk-estimator-doc-link:hover span {\n",
       "  display: block;\n",
       "}\n",
       "\n",
       "/* \"?\"-specific style due to the `<a>` HTML tag */\n",
       "\n",
       "#sk-container-id-5 a.estimator_doc_link {\n",
       "  float: right;\n",
       "  font-size: 1rem;\n",
       "  line-height: 1em;\n",
       "  font-family: monospace;\n",
       "  background-color: var(--sklearn-color-background);\n",
       "  border-radius: 1rem;\n",
       "  height: 1rem;\n",
       "  width: 1rem;\n",
       "  text-decoration: none;\n",
       "  /* unfitted */\n",
       "  color: var(--sklearn-color-unfitted-level-1);\n",
       "  border: var(--sklearn-color-unfitted-level-1) 1pt solid;\n",
       "}\n",
       "\n",
       "#sk-container-id-5 a.estimator_doc_link.fitted {\n",
       "  /* fitted */\n",
       "  border: var(--sklearn-color-fitted-level-1) 1pt solid;\n",
       "  color: var(--sklearn-color-fitted-level-1);\n",
       "}\n",
       "\n",
       "/* On hover */\n",
       "#sk-container-id-5 a.estimator_doc_link:hover {\n",
       "  /* unfitted */\n",
       "  background-color: var(--sklearn-color-unfitted-level-3);\n",
       "  color: var(--sklearn-color-background);\n",
       "  text-decoration: none;\n",
       "}\n",
       "\n",
       "#sk-container-id-5 a.estimator_doc_link.fitted:hover {\n",
       "  /* fitted */\n",
       "  background-color: var(--sklearn-color-fitted-level-3);\n",
       "}\n",
       "</style><div id=\"sk-container-id-5\" class=\"sk-top-container\"><div class=\"sk-text-repr-fallback\"><pre>LogisticRegression(max_iter=1000)</pre><b>In a Jupyter environment, please rerun this cell to show the HTML representation or trust the notebook. <br />On GitHub, the HTML representation is unable to render, please try loading this page with nbviewer.org.</b></div><div class=\"sk-container\" hidden><div class=\"sk-item\"><div class=\"sk-estimator fitted sk-toggleable\"><input class=\"sk-toggleable__control sk-hidden--visually\" id=\"sk-estimator-id-5\" type=\"checkbox\" checked><label for=\"sk-estimator-id-5\" class=\"sk-toggleable__label fitted sk-toggleable__label-arrow fitted\">&nbsp;&nbsp;LogisticRegression<a class=\"sk-estimator-doc-link fitted\" rel=\"noreferrer\" target=\"_blank\" href=\"https://scikit-learn.org/1.4/modules/generated/sklearn.linear_model.LogisticRegression.html\">?<span>Documentation for LogisticRegression</span></a><span class=\"sk-estimator-doc-link fitted\">i<span>Fitted</span></span></label><div class=\"sk-toggleable__content fitted\"><pre>LogisticRegression(max_iter=1000)</pre></div> </div></div></div></div>"
      ],
      "text/plain": [
       "LogisticRegression(max_iter=1000)"
      ]
     },
     "execution_count": 122,
     "metadata": {},
     "output_type": "execute_result"
    }
   ],
   "source": [
    "model = LogisticRegression(max_iter=1000)\n",
    "model.fit(X_train, y_train)"
   ]
  },
  {
   "cell_type": "code",
   "execution_count": 123,
   "id": "300c4a26",
   "metadata": {},
   "outputs": [
    {
     "name": "stdout",
     "output_type": "stream",
     "text": [
      "Train Accuracy:1.0\n",
      "Test Accuracy:0.9027\n"
     ]
    }
   ],
   "source": [
    "train_pred = model.predict(X_train)\n",
    "test_pred = model.predict(X_test)\n",
    "print(f\"Train Accuracy:{accuracy_score(y_train, train_pred)}\")\n",
    "print(f\"Test Accuracy:{accuracy_score(y_test, test_pred)}\")"
   ]
  },
  {
   "cell_type": "code",
   "execution_count": 124,
   "id": "95d7e794",
   "metadata": {},
   "outputs": [],
   "source": [
    "with open(\"Output/n_gram.pkl\", \"wb\") as f:\n",
    "    pickle.dump(vect, f)\n",
    "with open(\"Output/n_gram_lr.pkl\", \"wb\") as f:\n",
    "    pickle.dump(model, f)"
   ]
  },
  {
   "cell_type": "markdown",
   "id": "d7628808",
   "metadata": {},
   "source": [
    "# TF-IDF"
   ]
  },
  {
   "cell_type": "code",
   "execution_count": 125,
   "id": "6219f56c",
   "metadata": {},
   "outputs": [],
   "source": [
    "vect = TfidfVectorizer(min_df=5)"
   ]
  },
  {
   "cell_type": "code",
   "execution_count": 126,
   "id": "f10d308c",
   "metadata": {},
   "outputs": [],
   "source": [
    "X = vect.fit_transform(clean_reviews)"
   ]
  },
  {
   "cell_type": "code",
   "execution_count": 127,
   "id": "20cbd328",
   "metadata": {},
   "outputs": [
    {
     "data": {
      "text/plain": [
       "(50000, 26581)"
      ]
     },
     "execution_count": 127,
     "metadata": {},
     "output_type": "execute_result"
    }
   ],
   "source": [
    "X.shape"
   ]
  },
  {
   "cell_type": "code",
   "execution_count": 128,
   "id": "9f8ce389",
   "metadata": {},
   "outputs": [],
   "source": [
    "X_train, X_test, y_train, y_test = train_test_split(X, y, test_size=0.2,\n",
    "                                                   stratify=y, random_state=42)"
   ]
  },
  {
   "cell_type": "code",
   "execution_count": 129,
   "id": "4bc8a891",
   "metadata": {},
   "outputs": [
    {
     "data": {
      "text/html": [
       "<style>#sk-container-id-6 {\n",
       "  /* Definition of color scheme common for light and dark mode */\n",
       "  --sklearn-color-text: black;\n",
       "  --sklearn-color-line: gray;\n",
       "  /* Definition of color scheme for unfitted estimators */\n",
       "  --sklearn-color-unfitted-level-0: #fff5e6;\n",
       "  --sklearn-color-unfitted-level-1: #f6e4d2;\n",
       "  --sklearn-color-unfitted-level-2: #ffe0b3;\n",
       "  --sklearn-color-unfitted-level-3: chocolate;\n",
       "  /* Definition of color scheme for fitted estimators */\n",
       "  --sklearn-color-fitted-level-0: #f0f8ff;\n",
       "  --sklearn-color-fitted-level-1: #d4ebff;\n",
       "  --sklearn-color-fitted-level-2: #b3dbfd;\n",
       "  --sklearn-color-fitted-level-3: cornflowerblue;\n",
       "\n",
       "  /* Specific color for light theme */\n",
       "  --sklearn-color-text-on-default-background: var(--sg-text-color, var(--theme-code-foreground, var(--jp-content-font-color1, black)));\n",
       "  --sklearn-color-background: var(--sg-background-color, var(--theme-background, var(--jp-layout-color0, white)));\n",
       "  --sklearn-color-border-box: var(--sg-text-color, var(--theme-code-foreground, var(--jp-content-font-color1, black)));\n",
       "  --sklearn-color-icon: #696969;\n",
       "\n",
       "  @media (prefers-color-scheme: dark) {\n",
       "    /* Redefinition of color scheme for dark theme */\n",
       "    --sklearn-color-text-on-default-background: var(--sg-text-color, var(--theme-code-foreground, var(--jp-content-font-color1, white)));\n",
       "    --sklearn-color-background: var(--sg-background-color, var(--theme-background, var(--jp-layout-color0, #111)));\n",
       "    --sklearn-color-border-box: var(--sg-text-color, var(--theme-code-foreground, var(--jp-content-font-color1, white)));\n",
       "    --sklearn-color-icon: #878787;\n",
       "  }\n",
       "}\n",
       "\n",
       "#sk-container-id-6 {\n",
       "  color: var(--sklearn-color-text);\n",
       "}\n",
       "\n",
       "#sk-container-id-6 pre {\n",
       "  padding: 0;\n",
       "}\n",
       "\n",
       "#sk-container-id-6 input.sk-hidden--visually {\n",
       "  border: 0;\n",
       "  clip: rect(1px 1px 1px 1px);\n",
       "  clip: rect(1px, 1px, 1px, 1px);\n",
       "  height: 1px;\n",
       "  margin: -1px;\n",
       "  overflow: hidden;\n",
       "  padding: 0;\n",
       "  position: absolute;\n",
       "  width: 1px;\n",
       "}\n",
       "\n",
       "#sk-container-id-6 div.sk-dashed-wrapped {\n",
       "  border: 1px dashed var(--sklearn-color-line);\n",
       "  margin: 0 0.4em 0.5em 0.4em;\n",
       "  box-sizing: border-box;\n",
       "  padding-bottom: 0.4em;\n",
       "  background-color: var(--sklearn-color-background);\n",
       "}\n",
       "\n",
       "#sk-container-id-6 div.sk-container {\n",
       "  /* jupyter's `normalize.less` sets `[hidden] { display: none; }`\n",
       "     but bootstrap.min.css set `[hidden] { display: none !important; }`\n",
       "     so we also need the `!important` here to be able to override the\n",
       "     default hidden behavior on the sphinx rendered scikit-learn.org.\n",
       "     See: https://github.com/scikit-learn/scikit-learn/issues/21755 */\n",
       "  display: inline-block !important;\n",
       "  position: relative;\n",
       "}\n",
       "\n",
       "#sk-container-id-6 div.sk-text-repr-fallback {\n",
       "  display: none;\n",
       "}\n",
       "\n",
       "div.sk-parallel-item,\n",
       "div.sk-serial,\n",
       "div.sk-item {\n",
       "  /* draw centered vertical line to link estimators */\n",
       "  background-image: linear-gradient(var(--sklearn-color-text-on-default-background), var(--sklearn-color-text-on-default-background));\n",
       "  background-size: 2px 100%;\n",
       "  background-repeat: no-repeat;\n",
       "  background-position: center center;\n",
       "}\n",
       "\n",
       "/* Parallel-specific style estimator block */\n",
       "\n",
       "#sk-container-id-6 div.sk-parallel-item::after {\n",
       "  content: \"\";\n",
       "  width: 100%;\n",
       "  border-bottom: 2px solid var(--sklearn-color-text-on-default-background);\n",
       "  flex-grow: 1;\n",
       "}\n",
       "\n",
       "#sk-container-id-6 div.sk-parallel {\n",
       "  display: flex;\n",
       "  align-items: stretch;\n",
       "  justify-content: center;\n",
       "  background-color: var(--sklearn-color-background);\n",
       "  position: relative;\n",
       "}\n",
       "\n",
       "#sk-container-id-6 div.sk-parallel-item {\n",
       "  display: flex;\n",
       "  flex-direction: column;\n",
       "}\n",
       "\n",
       "#sk-container-id-6 div.sk-parallel-item:first-child::after {\n",
       "  align-self: flex-end;\n",
       "  width: 50%;\n",
       "}\n",
       "\n",
       "#sk-container-id-6 div.sk-parallel-item:last-child::after {\n",
       "  align-self: flex-start;\n",
       "  width: 50%;\n",
       "}\n",
       "\n",
       "#sk-container-id-6 div.sk-parallel-item:only-child::after {\n",
       "  width: 0;\n",
       "}\n",
       "\n",
       "/* Serial-specific style estimator block */\n",
       "\n",
       "#sk-container-id-6 div.sk-serial {\n",
       "  display: flex;\n",
       "  flex-direction: column;\n",
       "  align-items: center;\n",
       "  background-color: var(--sklearn-color-background);\n",
       "  padding-right: 1em;\n",
       "  padding-left: 1em;\n",
       "}\n",
       "\n",
       "\n",
       "/* Toggleable style: style used for estimator/Pipeline/ColumnTransformer box that is\n",
       "clickable and can be expanded/collapsed.\n",
       "- Pipeline and ColumnTransformer use this feature and define the default style\n",
       "- Estimators will overwrite some part of the style using the `sk-estimator` class\n",
       "*/\n",
       "\n",
       "/* Pipeline and ColumnTransformer style (default) */\n",
       "\n",
       "#sk-container-id-6 div.sk-toggleable {\n",
       "  /* Default theme specific background. It is overwritten whether we have a\n",
       "  specific estimator or a Pipeline/ColumnTransformer */\n",
       "  background-color: var(--sklearn-color-background);\n",
       "}\n",
       "\n",
       "/* Toggleable label */\n",
       "#sk-container-id-6 label.sk-toggleable__label {\n",
       "  cursor: pointer;\n",
       "  display: block;\n",
       "  width: 100%;\n",
       "  margin-bottom: 0;\n",
       "  padding: 0.5em;\n",
       "  box-sizing: border-box;\n",
       "  text-align: center;\n",
       "}\n",
       "\n",
       "#sk-container-id-6 label.sk-toggleable__label-arrow:before {\n",
       "  /* Arrow on the left of the label */\n",
       "  content: \"▸\";\n",
       "  float: left;\n",
       "  margin-right: 0.25em;\n",
       "  color: var(--sklearn-color-icon);\n",
       "}\n",
       "\n",
       "#sk-container-id-6 label.sk-toggleable__label-arrow:hover:before {\n",
       "  color: var(--sklearn-color-text);\n",
       "}\n",
       "\n",
       "/* Toggleable content - dropdown */\n",
       "\n",
       "#sk-container-id-6 div.sk-toggleable__content {\n",
       "  max-height: 0;\n",
       "  max-width: 0;\n",
       "  overflow: hidden;\n",
       "  text-align: left;\n",
       "  /* unfitted */\n",
       "  background-color: var(--sklearn-color-unfitted-level-0);\n",
       "}\n",
       "\n",
       "#sk-container-id-6 div.sk-toggleable__content.fitted {\n",
       "  /* fitted */\n",
       "  background-color: var(--sklearn-color-fitted-level-0);\n",
       "}\n",
       "\n",
       "#sk-container-id-6 div.sk-toggleable__content pre {\n",
       "  margin: 0.2em;\n",
       "  border-radius: 0.25em;\n",
       "  color: var(--sklearn-color-text);\n",
       "  /* unfitted */\n",
       "  background-color: var(--sklearn-color-unfitted-level-0);\n",
       "}\n",
       "\n",
       "#sk-container-id-6 div.sk-toggleable__content.fitted pre {\n",
       "  /* unfitted */\n",
       "  background-color: var(--sklearn-color-fitted-level-0);\n",
       "}\n",
       "\n",
       "#sk-container-id-6 input.sk-toggleable__control:checked~div.sk-toggleable__content {\n",
       "  /* Expand drop-down */\n",
       "  max-height: 200px;\n",
       "  max-width: 100%;\n",
       "  overflow: auto;\n",
       "}\n",
       "\n",
       "#sk-container-id-6 input.sk-toggleable__control:checked~label.sk-toggleable__label-arrow:before {\n",
       "  content: \"▾\";\n",
       "}\n",
       "\n",
       "/* Pipeline/ColumnTransformer-specific style */\n",
       "\n",
       "#sk-container-id-6 div.sk-label input.sk-toggleable__control:checked~label.sk-toggleable__label {\n",
       "  color: var(--sklearn-color-text);\n",
       "  background-color: var(--sklearn-color-unfitted-level-2);\n",
       "}\n",
       "\n",
       "#sk-container-id-6 div.sk-label.fitted input.sk-toggleable__control:checked~label.sk-toggleable__label {\n",
       "  background-color: var(--sklearn-color-fitted-level-2);\n",
       "}\n",
       "\n",
       "/* Estimator-specific style */\n",
       "\n",
       "/* Colorize estimator box */\n",
       "#sk-container-id-6 div.sk-estimator input.sk-toggleable__control:checked~label.sk-toggleable__label {\n",
       "  /* unfitted */\n",
       "  background-color: var(--sklearn-color-unfitted-level-2);\n",
       "}\n",
       "\n",
       "#sk-container-id-6 div.sk-estimator.fitted input.sk-toggleable__control:checked~label.sk-toggleable__label {\n",
       "  /* fitted */\n",
       "  background-color: var(--sklearn-color-fitted-level-2);\n",
       "}\n",
       "\n",
       "#sk-container-id-6 div.sk-label label.sk-toggleable__label,\n",
       "#sk-container-id-6 div.sk-label label {\n",
       "  /* The background is the default theme color */\n",
       "  color: var(--sklearn-color-text-on-default-background);\n",
       "}\n",
       "\n",
       "/* On hover, darken the color of the background */\n",
       "#sk-container-id-6 div.sk-label:hover label.sk-toggleable__label {\n",
       "  color: var(--sklearn-color-text);\n",
       "  background-color: var(--sklearn-color-unfitted-level-2);\n",
       "}\n",
       "\n",
       "/* Label box, darken color on hover, fitted */\n",
       "#sk-container-id-6 div.sk-label.fitted:hover label.sk-toggleable__label.fitted {\n",
       "  color: var(--sklearn-color-text);\n",
       "  background-color: var(--sklearn-color-fitted-level-2);\n",
       "}\n",
       "\n",
       "/* Estimator label */\n",
       "\n",
       "#sk-container-id-6 div.sk-label label {\n",
       "  font-family: monospace;\n",
       "  font-weight: bold;\n",
       "  display: inline-block;\n",
       "  line-height: 1.2em;\n",
       "}\n",
       "\n",
       "#sk-container-id-6 div.sk-label-container {\n",
       "  text-align: center;\n",
       "}\n",
       "\n",
       "/* Estimator-specific */\n",
       "#sk-container-id-6 div.sk-estimator {\n",
       "  font-family: monospace;\n",
       "  border: 1px dotted var(--sklearn-color-border-box);\n",
       "  border-radius: 0.25em;\n",
       "  box-sizing: border-box;\n",
       "  margin-bottom: 0.5em;\n",
       "  /* unfitted */\n",
       "  background-color: var(--sklearn-color-unfitted-level-0);\n",
       "}\n",
       "\n",
       "#sk-container-id-6 div.sk-estimator.fitted {\n",
       "  /* fitted */\n",
       "  background-color: var(--sklearn-color-fitted-level-0);\n",
       "}\n",
       "\n",
       "/* on hover */\n",
       "#sk-container-id-6 div.sk-estimator:hover {\n",
       "  /* unfitted */\n",
       "  background-color: var(--sklearn-color-unfitted-level-2);\n",
       "}\n",
       "\n",
       "#sk-container-id-6 div.sk-estimator.fitted:hover {\n",
       "  /* fitted */\n",
       "  background-color: var(--sklearn-color-fitted-level-2);\n",
       "}\n",
       "\n",
       "/* Specification for estimator info (e.g. \"i\" and \"?\") */\n",
       "\n",
       "/* Common style for \"i\" and \"?\" */\n",
       "\n",
       ".sk-estimator-doc-link,\n",
       "a:link.sk-estimator-doc-link,\n",
       "a:visited.sk-estimator-doc-link {\n",
       "  float: right;\n",
       "  font-size: smaller;\n",
       "  line-height: 1em;\n",
       "  font-family: monospace;\n",
       "  background-color: var(--sklearn-color-background);\n",
       "  border-radius: 1em;\n",
       "  height: 1em;\n",
       "  width: 1em;\n",
       "  text-decoration: none !important;\n",
       "  margin-left: 1ex;\n",
       "  /* unfitted */\n",
       "  border: var(--sklearn-color-unfitted-level-1) 1pt solid;\n",
       "  color: var(--sklearn-color-unfitted-level-1);\n",
       "}\n",
       "\n",
       ".sk-estimator-doc-link.fitted,\n",
       "a:link.sk-estimator-doc-link.fitted,\n",
       "a:visited.sk-estimator-doc-link.fitted {\n",
       "  /* fitted */\n",
       "  border: var(--sklearn-color-fitted-level-1) 1pt solid;\n",
       "  color: var(--sklearn-color-fitted-level-1);\n",
       "}\n",
       "\n",
       "/* On hover */\n",
       "div.sk-estimator:hover .sk-estimator-doc-link:hover,\n",
       ".sk-estimator-doc-link:hover,\n",
       "div.sk-label-container:hover .sk-estimator-doc-link:hover,\n",
       ".sk-estimator-doc-link:hover {\n",
       "  /* unfitted */\n",
       "  background-color: var(--sklearn-color-unfitted-level-3);\n",
       "  color: var(--sklearn-color-background);\n",
       "  text-decoration: none;\n",
       "}\n",
       "\n",
       "div.sk-estimator.fitted:hover .sk-estimator-doc-link.fitted:hover,\n",
       ".sk-estimator-doc-link.fitted:hover,\n",
       "div.sk-label-container:hover .sk-estimator-doc-link.fitted:hover,\n",
       ".sk-estimator-doc-link.fitted:hover {\n",
       "  /* fitted */\n",
       "  background-color: var(--sklearn-color-fitted-level-3);\n",
       "  color: var(--sklearn-color-background);\n",
       "  text-decoration: none;\n",
       "}\n",
       "\n",
       "/* Span, style for the box shown on hovering the info icon */\n",
       ".sk-estimator-doc-link span {\n",
       "  display: none;\n",
       "  z-index: 9999;\n",
       "  position: relative;\n",
       "  font-weight: normal;\n",
       "  right: .2ex;\n",
       "  padding: .5ex;\n",
       "  margin: .5ex;\n",
       "  width: min-content;\n",
       "  min-width: 20ex;\n",
       "  max-width: 50ex;\n",
       "  color: var(--sklearn-color-text);\n",
       "  box-shadow: 2pt 2pt 4pt #999;\n",
       "  /* unfitted */\n",
       "  background: var(--sklearn-color-unfitted-level-0);\n",
       "  border: .5pt solid var(--sklearn-color-unfitted-level-3);\n",
       "}\n",
       "\n",
       ".sk-estimator-doc-link.fitted span {\n",
       "  /* fitted */\n",
       "  background: var(--sklearn-color-fitted-level-0);\n",
       "  border: var(--sklearn-color-fitted-level-3);\n",
       "}\n",
       "\n",
       ".sk-estimator-doc-link:hover span {\n",
       "  display: block;\n",
       "}\n",
       "\n",
       "/* \"?\"-specific style due to the `<a>` HTML tag */\n",
       "\n",
       "#sk-container-id-6 a.estimator_doc_link {\n",
       "  float: right;\n",
       "  font-size: 1rem;\n",
       "  line-height: 1em;\n",
       "  font-family: monospace;\n",
       "  background-color: var(--sklearn-color-background);\n",
       "  border-radius: 1rem;\n",
       "  height: 1rem;\n",
       "  width: 1rem;\n",
       "  text-decoration: none;\n",
       "  /* unfitted */\n",
       "  color: var(--sklearn-color-unfitted-level-1);\n",
       "  border: var(--sklearn-color-unfitted-level-1) 1pt solid;\n",
       "}\n",
       "\n",
       "#sk-container-id-6 a.estimator_doc_link.fitted {\n",
       "  /* fitted */\n",
       "  border: var(--sklearn-color-fitted-level-1) 1pt solid;\n",
       "  color: var(--sklearn-color-fitted-level-1);\n",
       "}\n",
       "\n",
       "/* On hover */\n",
       "#sk-container-id-6 a.estimator_doc_link:hover {\n",
       "  /* unfitted */\n",
       "  background-color: var(--sklearn-color-unfitted-level-3);\n",
       "  color: var(--sklearn-color-background);\n",
       "  text-decoration: none;\n",
       "}\n",
       "\n",
       "#sk-container-id-6 a.estimator_doc_link.fitted:hover {\n",
       "  /* fitted */\n",
       "  background-color: var(--sklearn-color-fitted-level-3);\n",
       "}\n",
       "</style><div id=\"sk-container-id-6\" class=\"sk-top-container\"><div class=\"sk-text-repr-fallback\"><pre>LogisticRegression(max_iter=1000)</pre><b>In a Jupyter environment, please rerun this cell to show the HTML representation or trust the notebook. <br />On GitHub, the HTML representation is unable to render, please try loading this page with nbviewer.org.</b></div><div class=\"sk-container\" hidden><div class=\"sk-item\"><div class=\"sk-estimator fitted sk-toggleable\"><input class=\"sk-toggleable__control sk-hidden--visually\" id=\"sk-estimator-id-6\" type=\"checkbox\" checked><label for=\"sk-estimator-id-6\" class=\"sk-toggleable__label fitted sk-toggleable__label-arrow fitted\">&nbsp;&nbsp;LogisticRegression<a class=\"sk-estimator-doc-link fitted\" rel=\"noreferrer\" target=\"_blank\" href=\"https://scikit-learn.org/1.4/modules/generated/sklearn.linear_model.LogisticRegression.html\">?<span>Documentation for LogisticRegression</span></a><span class=\"sk-estimator-doc-link fitted\">i<span>Fitted</span></span></label><div class=\"sk-toggleable__content fitted\"><pre>LogisticRegression(max_iter=1000)</pre></div> </div></div></div></div>"
      ],
      "text/plain": [
       "LogisticRegression(max_iter=1000)"
      ]
     },
     "execution_count": 129,
     "metadata": {},
     "output_type": "execute_result"
    }
   ],
   "source": [
    "model = LogisticRegression(max_iter=1000)\n",
    "model.fit(X_train, y_train)"
   ]
  },
  {
   "cell_type": "code",
   "execution_count": 130,
   "id": "7a56989b",
   "metadata": {},
   "outputs": [
    {
     "name": "stdout",
     "output_type": "stream",
     "text": [
      "Train Accuracy:0.9253\n",
      "Test Accuracy:0.8966\n"
     ]
    }
   ],
   "source": [
    "train_pred = model.predict(X_train)\n",
    "test_pred = model.predict(X_test)\n",
    "print(f\"Train Accuracy:{accuracy_score(y_train, train_pred)}\")\n",
    "print(f\"Test Accuracy:{accuracy_score(y_test, test_pred)}\")"
   ]
  },
  {
   "cell_type": "code",
   "execution_count": 131,
   "id": "a73fcb8e",
   "metadata": {},
   "outputs": [],
   "source": [
    "with open(\"Output/tf-idf.pkl\", \"wb\") as f:\n",
    "    pickle.dump(vect, f)\n",
    "with open(\"Output/tf-idf_lr.pkl\", \"wb\") as f:\n",
    "    pickle.dump(model, f)"
   ]
  },
  {
   "cell_type": "markdown",
   "id": "df34e89d",
   "metadata": {},
   "source": [
    "# Predictions for new reviews"
   ]
  },
  {
   "cell_type": "code",
   "execution_count": 132,
   "id": "863509a4",
   "metadata": {},
   "outputs": [],
   "source": [
    "# Sample test reviews\n",
    "test_review_1 = '''this is a truly amazing movie , best for those who havw \n",
    "content but don't know how to express it in a good and shareable manner. \n",
    "Thanks Team Canva for such a great movie.'''\n",
    "test_review_2 = '''Its the worst movie ever I save my design lts not save'''"
   ]
  },
  {
   "cell_type": "markdown",
   "id": "a223e782",
   "metadata": {},
   "source": [
    "### Load the best model (n-gram) and its vectorizer"
   ]
  },
  {
   "cell_type": "code",
   "execution_count": 133,
   "id": "7d4625ae",
   "metadata": {},
   "outputs": [],
   "source": [
    "vect = pickle.load(open(\"Output/n_gram.pkl\", \"rb\"))\n",
    "model = pickle.load(open(\"Output/n_gram_lr.pkl\", \"rb\"))"
   ]
  },
  {
   "cell_type": "markdown",
   "id": "feea92ad",
   "metadata": {},
   "source": [
    "### Convert the reivews to a batch of one record"
   ]
  },
  {
   "cell_type": "code",
   "execution_count": 134,
   "id": "49dd7a36",
   "metadata": {},
   "outputs": [],
   "source": [
    "test_review_1 = [test_review_1]\n",
    "test_review_2 = [test_review_2]"
   ]
  },
  {
   "cell_type": "markdown",
   "id": "c0a5d190",
   "metadata": {},
   "source": [
    "### Convert the text to lower case"
   ]
  },
  {
   "cell_type": "code",
   "execution_count": 135,
   "id": "ee67462f",
   "metadata": {},
   "outputs": [],
   "source": [
    "test_review_1 = [r.lower() for r in test_review_1]\n",
    "test_review_2 = [r.lower() for r in test_review_2]"
   ]
  },
  {
   "cell_type": "markdown",
   "id": "aa34e36b",
   "metadata": {},
   "source": [
    "### Tokenize the text"
   ]
  },
  {
   "cell_type": "code",
   "execution_count": 136,
   "id": "51045f0b",
   "metadata": {},
   "outputs": [],
   "source": [
    "tokens_1 = [word_tokenize(r) for r in test_review_1]\n",
    "tokens_2 = [word_tokenize(r) for r in test_review_2]"
   ]
  },
  {
   "cell_type": "markdown",
   "id": "77ed8cc4",
   "metadata": {},
   "source": [
    "### Remove stopwords"
   ]
  },
  {
   "cell_type": "code",
   "execution_count": 137,
   "id": "6c11529d",
   "metadata": {},
   "outputs": [],
   "source": [
    "tokens_1 = [[word for word in t if word not in sw] for t in tokens_1]\n",
    "tokens_2 = [[word for word in t if word not in sw] for t in tokens_2]"
   ]
  },
  {
   "cell_type": "markdown",
   "id": "20a9c33b",
   "metadata": {},
   "source": [
    "### Remove punctuations"
   ]
  },
  {
   "cell_type": "code",
   "execution_count": 138,
   "id": "b7d47ba1",
   "metadata": {},
   "outputs": [],
   "source": [
    "tokens_1 = [[\"\".join(tokenizer.tokenize(word)) for word in t \n",
    "             if len(tokenizer.tokenize(word))>0] for t in tokens_1]\n",
    "tokens_2 = [[\"\".join(tokenizer.tokenize(word)) for word in t \n",
    "             if len(tokenizer.tokenize(word))>0] for t in tokens_2]"
   ]
  },
  {
   "cell_type": "markdown",
   "id": "b7490df2",
   "metadata": {},
   "source": [
    "### Stemming"
   ]
  },
  {
   "cell_type": "code",
   "execution_count": 139,
   "id": "7210f34b",
   "metadata": {},
   "outputs": [],
   "source": [
    "tokens_1 = [[porter.stem(word) for word in t] for t in tokens_1]\n",
    "tokens_2 = [[porter.stem(word) for word in t] for t in tokens_2]"
   ]
  },
  {
   "cell_type": "code",
   "execution_count": 140,
   "id": "b17a5547",
   "metadata": {},
   "outputs": [
    {
     "data": {
      "text/plain": [
       "[['truli',\n",
       "  'amaz',\n",
       "  'movi',\n",
       "  'best',\n",
       "  'havw',\n",
       "  'content',\n",
       "  'nt',\n",
       "  'know',\n",
       "  'express',\n",
       "  'good',\n",
       "  'shareabl',\n",
       "  'manner',\n",
       "  'thank',\n",
       "  'team',\n",
       "  'canva',\n",
       "  'great',\n",
       "  'movi']]"
      ]
     },
     "execution_count": 140,
     "metadata": {},
     "output_type": "execute_result"
    }
   ],
   "source": [
    "tokens_1"
   ]
  },
  {
   "cell_type": "code",
   "execution_count": 141,
   "id": "fcad87cc",
   "metadata": {},
   "outputs": [
    {
     "data": {
      "text/plain": [
       "[\"this is a truly amazing movie , best for those who havw \\ncontent but don't know how to express it in a good and shareable manner. \\nthanks team canva for such a great movie.\"]"
      ]
     },
     "execution_count": 141,
     "metadata": {},
     "output_type": "execute_result"
    }
   ],
   "source": [
    "test_review_1"
   ]
  },
  {
   "cell_type": "code",
   "execution_count": 142,
   "id": "9726e122",
   "metadata": {},
   "outputs": [
    {
     "data": {
      "text/plain": [
       "[['worst', 'movi', 'ever', 'save', 'design', 'lt', 'save']]"
      ]
     },
     "execution_count": 142,
     "metadata": {},
     "output_type": "execute_result"
    }
   ],
   "source": [
    "tokens_2"
   ]
  },
  {
   "cell_type": "code",
   "execution_count": 143,
   "id": "fee6f1ab",
   "metadata": {},
   "outputs": [
    {
     "data": {
      "text/plain": [
       "['its the worst movie ever i save my design lts not save']"
      ]
     },
     "execution_count": 143,
     "metadata": {},
     "output_type": "execute_result"
    }
   ],
   "source": [
    "test_review_2"
   ]
  },
  {
   "cell_type": "markdown",
   "id": "510f3c6e",
   "metadata": {},
   "source": [
    "### Join the tokens to form a sentence"
   ]
  },
  {
   "cell_type": "code",
   "execution_count": 144,
   "id": "488c18e8",
   "metadata": {},
   "outputs": [],
   "source": [
    "clean_review_1 = [\" \".join(review) for review in tokens_1]\n",
    "clean_review_2 = [\" \".join(review) for review in tokens_2]"
   ]
  },
  {
   "cell_type": "markdown",
   "id": "86ee5e8a",
   "metadata": {},
   "source": [
    "### Transform the text using vectorizer and make predictions"
   ]
  },
  {
   "cell_type": "markdown",
   "id": "91ab53e4",
   "metadata": {},
   "source": [
    "### Note: Prediction probability for postive class is high for the first test review"
   ]
  },
  {
   "cell_type": "code",
   "execution_count": 145,
   "id": "4cb6d023",
   "metadata": {},
   "outputs": [],
   "source": [
    "X_test = vect.transform(clean_review_1)"
   ]
  },
  {
   "cell_type": "code",
   "execution_count": 146,
   "id": "67e4e382",
   "metadata": {},
   "outputs": [
    {
     "data": {
      "text/plain": [
       "(1, 220688)"
      ]
     },
     "execution_count": 146,
     "metadata": {},
     "output_type": "execute_result"
    }
   ],
   "source": [
    "X_test.shape"
   ]
  },
  {
   "cell_type": "code",
   "execution_count": 147,
   "id": "6d1bc980",
   "metadata": {},
   "outputs": [
    {
     "data": {
      "text/plain": [
       "array([[0.01418462, 0.98581538]])"
      ]
     },
     "execution_count": 147,
     "metadata": {},
     "output_type": "execute_result"
    }
   ],
   "source": [
    "model.predict_proba(X_test)"
   ]
  },
  {
   "cell_type": "code",
   "execution_count": 148,
   "id": "7a5e29b9",
   "metadata": {},
   "outputs": [
    {
     "data": {
      "text/plain": [
       "array([1], dtype=int64)"
      ]
     },
     "execution_count": 148,
     "metadata": {},
     "output_type": "execute_result"
    }
   ],
   "source": [
    "model.predict(X_test)"
   ]
  },
  {
   "cell_type": "markdown",
   "id": "f8ba62d1",
   "metadata": {},
   "source": [
    "### Note: Prediction probability for negative class is high for the second test review"
   ]
  },
  {
   "cell_type": "code",
   "execution_count": 149,
   "id": "899b8a47",
   "metadata": {},
   "outputs": [],
   "source": [
    "X_test = vect.transform(clean_review_2)"
   ]
  },
  {
   "cell_type": "code",
   "execution_count": 150,
   "id": "796cd905",
   "metadata": {},
   "outputs": [
    {
     "data": {
      "text/plain": [
       "(1, 220688)"
      ]
     },
     "execution_count": 150,
     "metadata": {},
     "output_type": "execute_result"
    }
   ],
   "source": [
    "X_test.shape"
   ]
  },
  {
   "cell_type": "code",
   "execution_count": 151,
   "id": "ca80f86d",
   "metadata": {},
   "outputs": [
    {
     "data": {
      "text/plain": [
       "array([[0.99313744, 0.00686256]])"
      ]
     },
     "execution_count": 151,
     "metadata": {},
     "output_type": "execute_result"
    }
   ],
   "source": [
    "model.predict_proba(X_test)"
   ]
  },
  {
   "cell_type": "code",
   "execution_count": 152,
   "id": "ad8e7fe1",
   "metadata": {},
   "outputs": [
    {
     "data": {
      "text/plain": [
       "array([0], dtype=int64)"
      ]
     },
     "execution_count": 152,
     "metadata": {},
     "output_type": "execute_result"
    }
   ],
   "source": [
    "model.predict(X_test)"
   ]
  }
 ],
 "metadata": {
  "kernelspec": {
   "display_name": "base",
   "language": "python",
   "name": "python3"
  },
  "language_info": {
   "codemirror_mode": {
    "name": "ipython",
    "version": 3
   },
   "file_extension": ".py",
   "mimetype": "text/x-python",
   "name": "python",
   "nbconvert_exporter": "python",
   "pygments_lexer": "ipython3",
   "version": "3.11.4"
  }
 },
 "nbformat": 4,
 "nbformat_minor": 5
}
